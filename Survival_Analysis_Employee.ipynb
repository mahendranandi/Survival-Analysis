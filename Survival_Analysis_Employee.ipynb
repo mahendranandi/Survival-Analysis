{
 "cells": [
  {
   "cell_type": "markdown",
   "metadata": {
    "heading_collapsed": true
   },
   "source": [
    "# Library"
   ]
  },
  {
   "cell_type": "code",
   "execution_count": 1,
   "metadata": {
    "ExecuteTime": {
     "end_time": "2022-02-25T09:56:52.004417Z",
     "start_time": "2022-02-25T09:56:38.842077Z"
    },
    "hidden": true
   },
   "outputs": [
    {
     "name": "stdout",
     "output_type": "stream",
     "text": [
      "Populating the interactive namespace from numpy and matplotlib\n"
     ]
    }
   ],
   "source": [
    "import pandas as pd\n",
    "import numpy as np\n",
    "import matplotlib.pyplot as plt\n",
    "import seaborn as sns\n",
    "\n",
    "from lifelines.plotting import plot_lifetimes      # Lifeline package for the Survival Analysis\n",
    "from lifelines.utils import to_long_format\n",
    "\n",
    "from lifelines import KaplanMeierFitter\n",
    "from lifelines import CoxPHFitter \n",
    "from lifelines.utils import add_covariate_to_timeline\n",
    "from lifelines.utils import covariates_from_event_matrix\n",
    "\n",
    "\n",
    "%pylab inline\n",
    "figsize(12,6)"
   ]
  },
  {
   "cell_type": "markdown",
   "metadata": {
    "heading_collapsed": true
   },
   "source": [
    "# Original Dataset"
   ]
  },
  {
   "cell_type": "markdown",
   "metadata": {
    "hidden": true
   },
   "source": [
    "> Variable | Definition\n",
    "\n",
    "> MMMM-YY | Reporting Date (Monthly)\n",
    "\n",
    "> Emp_ID | Unique id for employees\n",
    "\n",
    "> Age | Age of the employee\n",
    "\n",
    "> Gender | Gender of the employee\n",
    "\n",
    "> City | City Code of the employee\n",
    "\n",
    "> Education_Level | Education level : Bachelor, Master or College\n",
    "\n",
    "> Salary | Salary of the employee\n",
    "\n",
    "> Dateofjoining | Joining date for the employee\n",
    "\n",
    "> LastWorkingDate | Last date of working for the employee\n",
    "\n",
    "> Joining Designation | Designation of the employee at the time of joining\n",
    "\n",
    "> Designation | Designation of the employee at the time of reporting\n",
    "\n",
    ">Total_Business_Value | The total business value acquired by the employee in a month (negative business indicates cancellation/refund of sold insurance policies)\n",
    "\n",
    ">Quarterly Rating | Quarterly rating of the employee: 1,2,3,4 (higher is better)"
   ]
  },
  {
   "cell_type": "markdown",
   "metadata": {
    "heading_collapsed": true,
    "hidden": true
   },
   "source": [
    "## details of categorical columns:\n",
    "\n",
    "\n",
    "Column Name:: gender, dtype: int64\n",
    "-----------------------------\n",
    "having 2 unique values\n",
    "\n",
    " Gender  |  Count\n",
    "---------------   |   -----------\n",
    "Male     | 1404\n",
    "Female   |  977\n",
    "\n",
    "Column Name:: city, dtype: int64\n",
    "-----------------------------\n",
    "having 29 unique values\n",
    "\n",
    "City Name | Counts----- | City Name | Counts-----| City Name | Counts\n",
    "------------ | ------------- | ------------ | -------------|------------ | -------------\n",
    "C20   | 152    |    C15   | 101    |    C29   |  96     |   C26     93\n",
    "C27   |  89    |    C8    |  89    |    C10   |  86     |   C16     84\n",
    "C3    |  82    |    C22   |  82    |    C28   |  82     |   C12     81\n",
    "C1    |  80    |    C5    |  80    |    C14   |  79     |   C21     79\n",
    "C6    |  78    |    C4    |  77    |    C7    |  76     |   C9      75\n",
    "C23   |  74    |    C25   |  74    |    C24   |  73     |   C19     72\n",
    "C2    |  72    |    C17   |  71    |    C13   |  71     |   C18     69\n",
    "C11   |  64\n",
    "\n",
    "\n",
    "Column Name:: education_level, dtype: int64\n",
    "-----------------------------\n",
    "having 3 unique values\n",
    "\n",
    " education_level  |  Count\n",
    "---------------   |   -----------\n",
    "Master   |   802\n",
    "Bachelor |   795\n",
    "College  |   784\n",
    "\n",
    "Column Name:: issurvived, dtype: int64\n",
    "-----------------------------\n",
    "having 2 unique values\n",
    "\n",
    "`\n",
    "0 is for observed i.e, event occured and employee left the company\n",
    "and 1 for censored i.e, employee was still with the company till 2017 December\n",
    "`\n",
    "\n",
    " issurvived  |  Count\n",
    "---------------   |   -----------\n",
    "0  |  1616\n",
    "1  |   765\n",
    "\n",
    "Column Name:: joining_designation, dtype: int64\n",
    "----------------------------\n",
    "having 5 unique values\n",
    "\n",
    " joining_designation  |  Count\n",
    "---------------   |   -----------\n",
    "1  |  1026\n",
    "2  |   815\n",
    "3  |   493\n",
    "4  |    36\n",
    "5  |    11\n"
   ]
  },
  {
   "cell_type": "markdown",
   "metadata": {
    "heading_collapsed": true
   },
   "source": [
    "# Loading and processing data"
   ]
  },
  {
   "cell_type": "code",
   "execution_count": 2,
   "metadata": {
    "ExecuteTime": {
     "end_time": "2022-02-25T09:56:52.922954Z",
     "start_time": "2022-02-25T09:56:52.030216Z"
    },
    "hidden": true
   },
   "outputs": [],
   "source": [
    "train_data=pd.read_csv(\"train_MpHjUjU.csv\")"
   ]
  },
  {
   "cell_type": "code",
   "execution_count": 3,
   "metadata": {
    "ExecuteTime": {
     "end_time": "2022-02-25T09:56:53.637056Z",
     "start_time": "2022-02-25T09:56:52.926643Z"
    },
    "hidden": true
   },
   "outputs": [],
   "source": [
    "train_data[\"MMM-YY\"]=pd.to_datetime(train_data[\"MMM-YY\"],format=\"%Y-%m-%d\")\n",
    "train_data[\"Dateofjoining\"]=pd.to_datetime(train_data[\"Dateofjoining\"],format=\"%Y-%m-%d\")\n",
    "train_data[\"LastWorkingDate\"]=pd.to_datetime(train_data[\"LastWorkingDate\"],format=\"%Y-%m-%d\")"
   ]
  },
  {
   "cell_type": "code",
   "execution_count": 109,
   "metadata": {
    "ExecuteTime": {
     "end_time": "2022-02-25T10:08:47.569338Z",
     "start_time": "2022-02-25T10:08:47.564790Z"
    },
    "hidden": true
   },
   "outputs": [],
   "source": [
    "# train_data"
   ]
  },
  {
   "cell_type": "code",
   "execution_count": 5,
   "metadata": {
    "ExecuteTime": {
     "end_time": "2022-02-25T09:56:54.217081Z",
     "start_time": "2022-02-25T09:56:53.862754Z"
    },
    "hidden": true
   },
   "outputs": [],
   "source": [
    "train_data_dict=train_data.to_dict()\n",
    "a=train_data_dict[\"Emp_ID\"]"
   ]
  },
  {
   "cell_type": "code",
   "execution_count": 6,
   "metadata": {
    "ExecuteTime": {
     "end_time": "2022-02-25T09:56:54.362821Z",
     "start_time": "2022-02-25T09:56:54.219296Z"
    },
    "hidden": true
   },
   "outputs": [],
   "source": [
    "last_rows_of_train_data=dict([(value, key) for key, value in a.items()])"
   ]
  },
  {
   "cell_type": "code",
   "execution_count": 7,
   "metadata": {
    "ExecuteTime": {
     "end_time": "2022-02-25T09:56:54.553521Z",
     "start_time": "2022-02-25T09:56:54.368789Z"
    },
    "collapsed": true,
    "hidden": true
   },
   "outputs": [
    {
     "data": {
      "text/html": [
       "<div>\n",
       "<style scoped>\n",
       "    .dataframe tbody tr th:only-of-type {\n",
       "        vertical-align: middle;\n",
       "    }\n",
       "\n",
       "    .dataframe tbody tr th {\n",
       "        vertical-align: top;\n",
       "    }\n",
       "\n",
       "    .dataframe thead th {\n",
       "        text-align: right;\n",
       "    }\n",
       "</style>\n",
       "<table border=\"1\" class=\"dataframe\">\n",
       "  <thead>\n",
       "    <tr style=\"text-align: right;\">\n",
       "      <th></th>\n",
       "      <th>MMM-YY</th>\n",
       "      <th>Emp_ID</th>\n",
       "      <th>Age</th>\n",
       "      <th>Gender</th>\n",
       "      <th>City</th>\n",
       "      <th>Education_Level</th>\n",
       "      <th>Salary</th>\n",
       "      <th>Dateofjoining</th>\n",
       "      <th>LastWorkingDate</th>\n",
       "      <th>Joining Designation</th>\n",
       "      <th>Designation</th>\n",
       "      <th>Total Business Value</th>\n",
       "      <th>Quarterly Rating</th>\n",
       "    </tr>\n",
       "  </thead>\n",
       "  <tbody>\n",
       "    <tr>\n",
       "      <th>0</th>\n",
       "      <td>2016-01-01</td>\n",
       "      <td>1</td>\n",
       "      <td>28</td>\n",
       "      <td>Male</td>\n",
       "      <td>C23</td>\n",
       "      <td>Master</td>\n",
       "      <td>57387</td>\n",
       "      <td>2015-12-24</td>\n",
       "      <td>NaT</td>\n",
       "      <td>1</td>\n",
       "      <td>1</td>\n",
       "      <td>2381060</td>\n",
       "      <td>2</td>\n",
       "    </tr>\n",
       "    <tr>\n",
       "      <th>1</th>\n",
       "      <td>2016-02-01</td>\n",
       "      <td>1</td>\n",
       "      <td>28</td>\n",
       "      <td>Male</td>\n",
       "      <td>C23</td>\n",
       "      <td>Master</td>\n",
       "      <td>57387</td>\n",
       "      <td>2015-12-24</td>\n",
       "      <td>NaT</td>\n",
       "      <td>1</td>\n",
       "      <td>1</td>\n",
       "      <td>-665480</td>\n",
       "      <td>2</td>\n",
       "    </tr>\n",
       "    <tr>\n",
       "      <th>2</th>\n",
       "      <td>2016-03-01</td>\n",
       "      <td>1</td>\n",
       "      <td>28</td>\n",
       "      <td>Male</td>\n",
       "      <td>C23</td>\n",
       "      <td>Master</td>\n",
       "      <td>57387</td>\n",
       "      <td>2015-12-24</td>\n",
       "      <td>2016-03-11</td>\n",
       "      <td>1</td>\n",
       "      <td>1</td>\n",
       "      <td>0</td>\n",
       "      <td>2</td>\n",
       "    </tr>\n",
       "    <tr>\n",
       "      <th>3</th>\n",
       "      <td>2017-11-01</td>\n",
       "      <td>2</td>\n",
       "      <td>31</td>\n",
       "      <td>Male</td>\n",
       "      <td>C7</td>\n",
       "      <td>Master</td>\n",
       "      <td>67016</td>\n",
       "      <td>2017-11-06</td>\n",
       "      <td>NaT</td>\n",
       "      <td>2</td>\n",
       "      <td>2</td>\n",
       "      <td>0</td>\n",
       "      <td>1</td>\n",
       "    </tr>\n",
       "    <tr>\n",
       "      <th>4</th>\n",
       "      <td>2017-12-01</td>\n",
       "      <td>2</td>\n",
       "      <td>31</td>\n",
       "      <td>Male</td>\n",
       "      <td>C7</td>\n",
       "      <td>Master</td>\n",
       "      <td>67016</td>\n",
       "      <td>2017-11-06</td>\n",
       "      <td>NaT</td>\n",
       "      <td>2</td>\n",
       "      <td>2</td>\n",
       "      <td>0</td>\n",
       "      <td>1</td>\n",
       "    </tr>\n",
       "    <tr>\n",
       "      <th>...</th>\n",
       "      <td>...</td>\n",
       "      <td>...</td>\n",
       "      <td>...</td>\n",
       "      <td>...</td>\n",
       "      <td>...</td>\n",
       "      <td>...</td>\n",
       "      <td>...</td>\n",
       "      <td>...</td>\n",
       "      <td>...</td>\n",
       "      <td>...</td>\n",
       "      <td>...</td>\n",
       "      <td>...</td>\n",
       "      <td>...</td>\n",
       "    </tr>\n",
       "    <tr>\n",
       "      <th>19099</th>\n",
       "      <td>2017-08-01</td>\n",
       "      <td>2788</td>\n",
       "      <td>30</td>\n",
       "      <td>Male</td>\n",
       "      <td>C27</td>\n",
       "      <td>Master</td>\n",
       "      <td>70254</td>\n",
       "      <td>2017-06-08</td>\n",
       "      <td>NaT</td>\n",
       "      <td>2</td>\n",
       "      <td>2</td>\n",
       "      <td>740280</td>\n",
       "      <td>3</td>\n",
       "    </tr>\n",
       "    <tr>\n",
       "      <th>19100</th>\n",
       "      <td>2017-09-01</td>\n",
       "      <td>2788</td>\n",
       "      <td>30</td>\n",
       "      <td>Male</td>\n",
       "      <td>C27</td>\n",
       "      <td>Master</td>\n",
       "      <td>70254</td>\n",
       "      <td>2017-06-08</td>\n",
       "      <td>NaT</td>\n",
       "      <td>2</td>\n",
       "      <td>2</td>\n",
       "      <td>448370</td>\n",
       "      <td>3</td>\n",
       "    </tr>\n",
       "    <tr>\n",
       "      <th>19101</th>\n",
       "      <td>2017-10-01</td>\n",
       "      <td>2788</td>\n",
       "      <td>30</td>\n",
       "      <td>Male</td>\n",
       "      <td>C27</td>\n",
       "      <td>Master</td>\n",
       "      <td>70254</td>\n",
       "      <td>2017-06-08</td>\n",
       "      <td>NaT</td>\n",
       "      <td>2</td>\n",
       "      <td>2</td>\n",
       "      <td>0</td>\n",
       "      <td>2</td>\n",
       "    </tr>\n",
       "    <tr>\n",
       "      <th>19102</th>\n",
       "      <td>2017-11-01</td>\n",
       "      <td>2788</td>\n",
       "      <td>30</td>\n",
       "      <td>Male</td>\n",
       "      <td>C27</td>\n",
       "      <td>Master</td>\n",
       "      <td>70254</td>\n",
       "      <td>2017-06-08</td>\n",
       "      <td>NaT</td>\n",
       "      <td>2</td>\n",
       "      <td>2</td>\n",
       "      <td>200420</td>\n",
       "      <td>2</td>\n",
       "    </tr>\n",
       "    <tr>\n",
       "      <th>19103</th>\n",
       "      <td>2017-12-01</td>\n",
       "      <td>2788</td>\n",
       "      <td>30</td>\n",
       "      <td>Male</td>\n",
       "      <td>C27</td>\n",
       "      <td>Master</td>\n",
       "      <td>70254</td>\n",
       "      <td>2017-06-08</td>\n",
       "      <td>NaT</td>\n",
       "      <td>2</td>\n",
       "      <td>2</td>\n",
       "      <td>411480</td>\n",
       "      <td>2</td>\n",
       "    </tr>\n",
       "  </tbody>\n",
       "</table>\n",
       "<p>19104 rows × 13 columns</p>\n",
       "</div>"
      ],
      "text/plain": [
       "          MMM-YY  Emp_ID  Age Gender City Education_Level  Salary  \\\n",
       "0     2016-01-01       1   28   Male  C23          Master   57387   \n",
       "1     2016-02-01       1   28   Male  C23          Master   57387   \n",
       "2     2016-03-01       1   28   Male  C23          Master   57387   \n",
       "3     2017-11-01       2   31   Male   C7          Master   67016   \n",
       "4     2017-12-01       2   31   Male   C7          Master   67016   \n",
       "...          ...     ...  ...    ...  ...             ...     ...   \n",
       "19099 2017-08-01    2788   30   Male  C27          Master   70254   \n",
       "19100 2017-09-01    2788   30   Male  C27          Master   70254   \n",
       "19101 2017-10-01    2788   30   Male  C27          Master   70254   \n",
       "19102 2017-11-01    2788   30   Male  C27          Master   70254   \n",
       "19103 2017-12-01    2788   30   Male  C27          Master   70254   \n",
       "\n",
       "      Dateofjoining LastWorkingDate  Joining Designation  Designation  \\\n",
       "0        2015-12-24             NaT                    1            1   \n",
       "1        2015-12-24             NaT                    1            1   \n",
       "2        2015-12-24      2016-03-11                    1            1   \n",
       "3        2017-11-06             NaT                    2            2   \n",
       "4        2017-11-06             NaT                    2            2   \n",
       "...             ...             ...                  ...          ...   \n",
       "19099    2017-06-08             NaT                    2            2   \n",
       "19100    2017-06-08             NaT                    2            2   \n",
       "19101    2017-06-08             NaT                    2            2   \n",
       "19102    2017-06-08             NaT                    2            2   \n",
       "19103    2017-06-08             NaT                    2            2   \n",
       "\n",
       "       Total Business Value  Quarterly Rating  \n",
       "0                   2381060                 2  \n",
       "1                   -665480                 2  \n",
       "2                         0                 2  \n",
       "3                         0                 1  \n",
       "4                         0                 1  \n",
       "...                     ...               ...  \n",
       "19099                740280                 3  \n",
       "19100                448370                 3  \n",
       "19101                     0                 2  \n",
       "19102                200420                 2  \n",
       "19103                411480                 2  \n",
       "\n",
       "[19104 rows x 13 columns]"
      ]
     },
     "execution_count": 7,
     "metadata": {},
     "output_type": "execute_result"
    }
   ],
   "source": [
    "train_data"
   ]
  },
  {
   "cell_type": "code",
   "execution_count": 8,
   "metadata": {
    "ExecuteTime": {
     "end_time": "2022-02-25T09:56:57.788861Z",
     "start_time": "2022-02-25T09:56:54.555897Z"
    },
    "hidden": true
   },
   "outputs": [],
   "source": [
    "cleaned_train_dict={\"emp_id\":[],\"age\":[],\"gender\":[],\"city\":[],\"education_level\":[],\"salary\":[],\"avg_salary\":[],\"dateofjoining\":[],\n",
    "                    \"lastworking_date\":[],\"survival_days\":[],\"left\":[],\"joining_designation\":[],\"designation\":[],\n",
    "                    \"average_business_value\":[],\"total_business_val\":[],\"total_quarter_rating\":[]}\n",
    "prev=0\n",
    "for i in last_rows_of_train_data:\n",
    "    if i==1:\n",
    "        low=0\n",
    "    else:\n",
    "        low=last_rows_of_train_data[prev]+1\n",
    "    stdt=train_data.iloc[last_rows_of_train_data[i],7]\n",
    "    endt=train_data.iloc[last_rows_of_train_data[i],8]\n",
    "    cleaned_train_dict[\"emp_id\"].append(i)\n",
    "    cleaned_train_dict[\"age\"].append(train_data.iloc[last_rows_of_train_data[i],2])\n",
    "    cleaned_train_dict[\"gender\"].append(train_data.iloc[last_rows_of_train_data[i],3])\n",
    "    cleaned_train_dict[\"city\"].append(train_data.iloc[last_rows_of_train_data[i],4])\n",
    "    cleaned_train_dict[\"education_level\"].append(train_data.iloc[last_rows_of_train_data[i],5])\n",
    "    cleaned_train_dict[\"salary\"].append(list(train_data.iloc[list(range(low,last_rows_of_train_data[i]+1)),6]))\n",
    "    cleaned_train_dict[\"avg_salary\"].append(train_data.iloc[list(range(low,last_rows_of_train_data[i]+1)),6].mean())\n",
    "    cleaned_train_dict[\"dateofjoining\"].append(stdt)\n",
    "    cleaned_train_dict[\"lastworking_date\"].append(endt)\n",
    "#     cleaned_train_dict[\"survival_days\"].append(endt-stdt)\n",
    "    if pd.isna(endt):\n",
    "        cleaned_train_dict[\"survival_days\"].append(np.timedelta64((pd.Timestamp(\"2018-01-01\")-stdt),'D').astype(\"float64\"))\n",
    "        cleaned_train_dict[\"left\"].append(0)\n",
    "    else:\n",
    "        cleaned_train_dict[\"survival_days\"].append(np.timedelta64((endt-stdt),'D').astype(\"float64\"))\n",
    "        cleaned_train_dict[\"left\"].append(1)\n",
    "    cleaned_train_dict[\"joining_designation\"].append(train_data.iloc[last_rows_of_train_data[i],9])\n",
    "    cleaned_train_dict[\"designation\"].append(list(train_data.iloc[list(range(low,last_rows_of_train_data[i]+1)),9]))\n",
    "    cleaned_train_dict[\"average_business_value\"].append(train_data.iloc[list(range(low,last_rows_of_train_data[i]+1)),11].mean()/100000)\n",
    "    cleaned_train_dict[\"total_business_val\"].append(list(train_data.iloc[list(range(low,last_rows_of_train_data[i]+1)),11]))\n",
    "    cleaned_train_dict[\"total_quarter_rating\"].append(list(train_data.iloc[list(range(low,last_rows_of_train_data[i]+1)),12]))\n",
    "    prev=i\n",
    "\n",
    "cleaned_train_data=pd.DataFrame(cleaned_train_dict)"
   ]
  },
  {
   "cell_type": "code",
   "execution_count": 110,
   "metadata": {
    "ExecuteTime": {
     "end_time": "2022-02-25T10:08:58.489773Z",
     "start_time": "2022-02-25T10:08:58.487206Z"
    },
    "hidden": true
   },
   "outputs": [],
   "source": [
    "# cleaned_train_data"
   ]
  },
  {
   "cell_type": "code",
   "execution_count": 10,
   "metadata": {
    "ExecuteTime": {
     "end_time": "2022-02-25T09:56:58.238365Z",
     "start_time": "2022-02-25T09:56:57.866888Z"
    },
    "hidden": true
   },
   "outputs": [],
   "source": [
    "data=cleaned_train_data.loc[cleaned_train_data.dateofjoining>=pd.Timestamp(\"2016-01-01\")]"
   ]
  },
  {
   "cell_type": "code",
   "execution_count": 11,
   "metadata": {
    "ExecuteTime": {
     "end_time": "2022-02-25T09:56:58.438278Z",
     "start_time": "2022-02-25T09:56:58.241608Z"
    },
    "hidden": true
   },
   "outputs": [
    {
     "data": {
      "text/plain": [
       "1409"
      ]
     },
     "execution_count": 11,
     "metadata": {},
     "output_type": "execute_result"
    }
   ],
   "source": [
    "len(data)"
   ]
  },
  {
   "cell_type": "code",
   "execution_count": 12,
   "metadata": {
    "ExecuteTime": {
     "end_time": "2022-02-25T09:56:58.561517Z",
     "start_time": "2022-02-25T09:56:58.440369Z"
    },
    "hidden": true
   },
   "outputs": [
    {
     "name": "stderr",
     "output_type": "stream",
     "text": [
      "<ipython-input-12-eff7d3d135ce>:1: SettingWithCopyWarning: \n",
      "A value is trying to be set on a copy of a slice from a DataFrame.\n",
      "Try using .loc[row_indexer,col_indexer] = value instead\n",
      "\n",
      "See the caveats in the documentation: http://pandas.pydata.org/pandas-docs/stable/user_guide/indexing.html#returning-a-view-versus-a-copy\n",
      "  data[\"age\"]=[\"young\" if i<30 else \"mature\" if 30<= i < 38 else \"aged\" for i in data[\"age\"]]\n"
     ]
    }
   ],
   "source": [
    "data[\"age\"]=[\"young\" if i<30 else \"mature\" if 30<= i < 38 else \"aged\" for i in data[\"age\"]]"
   ]
  },
  {
   "cell_type": "code",
   "execution_count": 13,
   "metadata": {
    "ExecuteTime": {
     "end_time": "2022-02-25T09:56:58.744412Z",
     "start_time": "2022-02-25T09:56:58.565062Z"
    },
    "hidden": true
   },
   "outputs": [
    {
     "data": {
      "text/plain": [
       "[67016, 67016]"
      ]
     },
     "execution_count": 13,
     "metadata": {},
     "output_type": "execute_result"
    }
   ],
   "source": [
    "list(data[\"salary\"])[0]"
   ]
  },
  {
   "cell_type": "code",
   "execution_count": 14,
   "metadata": {
    "ExecuteTime": {
     "end_time": "2022-02-25T09:56:58.849037Z",
     "start_time": "2022-02-25T09:56:58.747128Z"
    },
    "hidden": true
   },
   "outputs": [
    {
     "data": {
      "text/plain": [
       "[0, 0]"
      ]
     },
     "execution_count": 14,
     "metadata": {},
     "output_type": "execute_result"
    }
   ],
   "source": [
    "list(data[\"total_business_val\"])[0]"
   ]
  },
  {
   "cell_type": "code",
   "execution_count": 15,
   "metadata": {
    "ExecuteTime": {
     "end_time": "2022-02-25T09:56:59.134187Z",
     "start_time": "2022-02-25T09:56:58.850996Z"
    },
    "hidden": true
   },
   "outputs": [
    {
     "name": "stderr",
     "output_type": "stream",
     "text": [
      "<ipython-input-15-a0543d6f2166>:1: SettingWithCopyWarning: \n",
      "A value is trying to be set on a copy of a slice from a DataFrame.\n",
      "Try using .loc[row_indexer,col_indexer] = value instead\n",
      "\n",
      "See the caveats in the documentation: http://pandas.pydata.org/pandas-docs/stable/user_guide/indexing.html#returning-a-view-versus-a-copy\n",
      "  data[\"current_value\"]=[0 if sum(list(data[\"total_business_val\"])[i][-1:])==0 else 1 for i in range(len(data))]\n"
     ]
    }
   ],
   "source": [
    "data[\"current_value\"]=[0 if sum(list(data[\"total_business_val\"])[i][-1:])==0 else 1 for i in range(len(data))]"
   ]
  },
  {
   "cell_type": "code",
   "execution_count": 16,
   "metadata": {
    "ExecuteTime": {
     "end_time": "2022-02-25T09:56:59.343748Z",
     "start_time": "2022-02-25T09:56:59.138301Z"
    },
    "hidden": true,
    "scrolled": true
   },
   "outputs": [
    {
     "name": "stderr",
     "output_type": "stream",
     "text": [
      "<ipython-input-16-7ddedac9f78d>:1: SettingWithCopyWarning: \n",
      "A value is trying to be set on a copy of a slice from a DataFrame.\n",
      "Try using .loc[row_indexer,col_indexer] = value instead\n",
      "\n",
      "See the caveats in the documentation: http://pandas.pydata.org/pandas-docs/stable/user_guide/indexing.html#returning-a-view-versus-a-copy\n",
      "  data[\"avg_salary\"]=[ np.mean(list(data[\"salary\"])[i])/10000 for i in range(len(data))]\n"
     ]
    }
   ],
   "source": [
    "data[\"avg_salary\"]=[ np.mean(list(data[\"salary\"])[i])/10000 for i in range(len(data))]"
   ]
  },
  {
   "cell_type": "code",
   "execution_count": 17,
   "metadata": {
    "ExecuteTime": {
     "end_time": "2022-02-25T09:56:59.560177Z",
     "start_time": "2022-02-25T09:56:59.350630Z"
    },
    "hidden": true
   },
   "outputs": [
    {
     "name": "stderr",
     "output_type": "stream",
     "text": [
      "<ipython-input-17-1355d22f161d>:1: SettingWithCopyWarning: \n",
      "A value is trying to be set on a copy of a slice from a DataFrame.\n",
      "Try using .loc[row_indexer,col_indexer] = value instead\n",
      "\n",
      "See the caveats in the documentation: http://pandas.pydata.org/pandas-docs/stable/user_guide/indexing.html#returning-a-view-versus-a-copy\n",
      "  data[\"avg_rating\"]=[ np.mean(list(data[\"total_quarter_rating\"])[i]) for i in range(len(data))]\n"
     ]
    }
   ],
   "source": [
    "data[\"avg_rating\"]=[ np.mean(list(data[\"total_quarter_rating\"])[i]) for i in range(len(data))]\n"
   ]
  },
  {
   "cell_type": "code",
   "execution_count": 18,
   "metadata": {
    "ExecuteTime": {
     "end_time": "2022-02-25T09:56:59.606084Z",
     "start_time": "2022-02-25T09:56:59.567529Z"
    },
    "hidden": true
   },
   "outputs": [],
   "source": [
    "data.reset_index(inplace=True)"
   ]
  },
  {
   "cell_type": "code",
   "execution_count": 19,
   "metadata": {
    "ExecuteTime": {
     "end_time": "2022-02-25T09:56:59.962519Z",
     "start_time": "2022-02-25T09:56:59.608582Z"
    },
    "hidden": true
   },
   "outputs": [
    {
     "name": "stderr",
     "output_type": "stream",
     "text": [
      "/usr/lib/python3/dist-packages/pandas/core/frame.py:4110: SettingWithCopyWarning: \n",
      "A value is trying to be set on a copy of a slice from a DataFrame\n",
      "\n",
      "See the caveats in the documentation: http://pandas.pydata.org/pandas-docs/stable/user_guide/indexing.html#returning-a-view-versus-a-copy\n",
      "  return super().drop(\n"
     ]
    }
   ],
   "source": [
    "data.drop(columns=[\"index\"],inplace=True)"
   ]
  },
  {
   "cell_type": "code",
   "execution_count": 20,
   "metadata": {
    "ExecuteTime": {
     "end_time": "2022-02-25T09:57:00.052906Z",
     "start_time": "2022-02-25T09:56:59.972991Z"
    },
    "collapsed": true,
    "hidden": true
   },
   "outputs": [
    {
     "data": {
      "text/html": [
       "<div>\n",
       "<style scoped>\n",
       "    .dataframe tbody tr th:only-of-type {\n",
       "        vertical-align: middle;\n",
       "    }\n",
       "\n",
       "    .dataframe tbody tr th {\n",
       "        vertical-align: top;\n",
       "    }\n",
       "\n",
       "    .dataframe thead th {\n",
       "        text-align: right;\n",
       "    }\n",
       "</style>\n",
       "<table border=\"1\" class=\"dataframe\">\n",
       "  <thead>\n",
       "    <tr style=\"text-align: right;\">\n",
       "      <th></th>\n",
       "      <th>emp_id</th>\n",
       "      <th>age</th>\n",
       "      <th>gender</th>\n",
       "      <th>city</th>\n",
       "      <th>education_level</th>\n",
       "      <th>salary</th>\n",
       "      <th>avg_salary</th>\n",
       "      <th>dateofjoining</th>\n",
       "      <th>lastworking_date</th>\n",
       "      <th>survival_days</th>\n",
       "      <th>left</th>\n",
       "      <th>joining_designation</th>\n",
       "      <th>designation</th>\n",
       "      <th>average_business_value</th>\n",
       "      <th>total_business_val</th>\n",
       "      <th>total_quarter_rating</th>\n",
       "      <th>current_value</th>\n",
       "      <th>avg_rating</th>\n",
       "    </tr>\n",
       "  </thead>\n",
       "  <tbody>\n",
       "    <tr>\n",
       "      <th>0</th>\n",
       "      <td>2</td>\n",
       "      <td>mature</td>\n",
       "      <td>Male</td>\n",
       "      <td>C7</td>\n",
       "      <td>Master</td>\n",
       "      <td>[67016, 67016]</td>\n",
       "      <td>6.7016</td>\n",
       "      <td>2017-11-06</td>\n",
       "      <td>NaT</td>\n",
       "      <td>56.0</td>\n",
       "      <td>0</td>\n",
       "      <td>2</td>\n",
       "      <td>[2, 2]</td>\n",
       "      <td>0.000000</td>\n",
       "      <td>[0, 0]</td>\n",
       "      <td>[1, 1]</td>\n",
       "      <td>0</td>\n",
       "      <td>1.000000</td>\n",
       "    </tr>\n",
       "    <tr>\n",
       "      <th>1</th>\n",
       "      <td>4</td>\n",
       "      <td>aged</td>\n",
       "      <td>Male</td>\n",
       "      <td>C13</td>\n",
       "      <td>Master</td>\n",
       "      <td>[65603, 65603, 65603, 65603, 65603]</td>\n",
       "      <td>6.5603</td>\n",
       "      <td>2016-12-07</td>\n",
       "      <td>2017-04-27</td>\n",
       "      <td>141.0</td>\n",
       "      <td>1</td>\n",
       "      <td>2</td>\n",
       "      <td>[2, 2, 2, 2, 2]</td>\n",
       "      <td>0.700000</td>\n",
       "      <td>[0, 0, 0, 350000, 0]</td>\n",
       "      <td>[1, 1, 1, 1, 1]</td>\n",
       "      <td>0</td>\n",
       "      <td>1.000000</td>\n",
       "    </tr>\n",
       "    <tr>\n",
       "      <th>2</th>\n",
       "      <td>5</td>\n",
       "      <td>young</td>\n",
       "      <td>Male</td>\n",
       "      <td>C9</td>\n",
       "      <td>College</td>\n",
       "      <td>[46368, 46368, 46368]</td>\n",
       "      <td>4.6368</td>\n",
       "      <td>2016-01-09</td>\n",
       "      <td>2016-03-07</td>\n",
       "      <td>58.0</td>\n",
       "      <td>1</td>\n",
       "      <td>1</td>\n",
       "      <td>[1, 1, 1]</td>\n",
       "      <td>0.401200</td>\n",
       "      <td>[0, 120360, 0]</td>\n",
       "      <td>[1, 1, 1]</td>\n",
       "      <td>0</td>\n",
       "      <td>1.000000</td>\n",
       "    </tr>\n",
       "    <tr>\n",
       "      <th>3</th>\n",
       "      <td>6</td>\n",
       "      <td>mature</td>\n",
       "      <td>Female</td>\n",
       "      <td>C11</td>\n",
       "      <td>Bachelor</td>\n",
       "      <td>[78728, 78728, 78728, 78728, 78728]</td>\n",
       "      <td>7.8728</td>\n",
       "      <td>2017-07-31</td>\n",
       "      <td>NaT</td>\n",
       "      <td>154.0</td>\n",
       "      <td>0</td>\n",
       "      <td>3</td>\n",
       "      <td>[3, 3, 3, 3, 3]</td>\n",
       "      <td>2.530000</td>\n",
       "      <td>[0, 0, 0, 1265000, 0]</td>\n",
       "      <td>[1, 1, 2, 2, 2]</td>\n",
       "      <td>0</td>\n",
       "      <td>1.600000</td>\n",
       "    </tr>\n",
       "    <tr>\n",
       "      <th>4</th>\n",
       "      <td>8</td>\n",
       "      <td>mature</td>\n",
       "      <td>Male</td>\n",
       "      <td>C2</td>\n",
       "      <td>College</td>\n",
       "      <td>[70656, 70656, 70656]</td>\n",
       "      <td>7.0656</td>\n",
       "      <td>2017-09-19</td>\n",
       "      <td>2017-11-15</td>\n",
       "      <td>57.0</td>\n",
       "      <td>1</td>\n",
       "      <td>3</td>\n",
       "      <td>[3, 3, 3]</td>\n",
       "      <td>0.000000</td>\n",
       "      <td>[0, 0, 0]</td>\n",
       "      <td>[1, 1, 1]</td>\n",
       "      <td>0</td>\n",
       "      <td>1.000000</td>\n",
       "    </tr>\n",
       "    <tr>\n",
       "      <th>...</th>\n",
       "      <td>...</td>\n",
       "      <td>...</td>\n",
       "      <td>...</td>\n",
       "      <td>...</td>\n",
       "      <td>...</td>\n",
       "      <td>...</td>\n",
       "      <td>...</td>\n",
       "      <td>...</td>\n",
       "      <td>...</td>\n",
       "      <td>...</td>\n",
       "      <td>...</td>\n",
       "      <td>...</td>\n",
       "      <td>...</td>\n",
       "      <td>...</td>\n",
       "      <td>...</td>\n",
       "      <td>...</td>\n",
       "      <td>...</td>\n",
       "      <td>...</td>\n",
       "    </tr>\n",
       "    <tr>\n",
       "      <th>1404</th>\n",
       "      <td>2779</td>\n",
       "      <td>young</td>\n",
       "      <td>Male</td>\n",
       "      <td>C26</td>\n",
       "      <td>College</td>\n",
       "      <td>[95133, 95133]</td>\n",
       "      <td>9.5133</td>\n",
       "      <td>2017-01-26</td>\n",
       "      <td>2017-02-14</td>\n",
       "      <td>19.0</td>\n",
       "      <td>1</td>\n",
       "      <td>3</td>\n",
       "      <td>[3, 3]</td>\n",
       "      <td>0.000000</td>\n",
       "      <td>[0, 0]</td>\n",
       "      <td>[1, 1]</td>\n",
       "      <td>0</td>\n",
       "      <td>1.000000</td>\n",
       "    </tr>\n",
       "    <tr>\n",
       "      <th>1405</th>\n",
       "      <td>2781</td>\n",
       "      <td>young</td>\n",
       "      <td>Male</td>\n",
       "      <td>C23</td>\n",
       "      <td>Master</td>\n",
       "      <td>[46952, 46952, 46952, 46952, 46952, 46952, 469...</td>\n",
       "      <td>4.6952</td>\n",
       "      <td>2017-02-17</td>\n",
       "      <td>NaT</td>\n",
       "      <td>318.0</td>\n",
       "      <td>0</td>\n",
       "      <td>2</td>\n",
       "      <td>[2, 2, 2, 2, 2, 2, 2, 2, 2, 2, 2]</td>\n",
       "      <td>7.848518</td>\n",
       "      <td>[0, 715830, 451540, 511620, 1820160, 1098640, ...</td>\n",
       "      <td>[1, 1, 4, 4, 4, 3, 3, 3, 4, 4, 4]</td>\n",
       "      <td>1</td>\n",
       "      <td>3.181818</td>\n",
       "    </tr>\n",
       "    <tr>\n",
       "      <th>1406</th>\n",
       "      <td>2782</td>\n",
       "      <td>young</td>\n",
       "      <td>Male</td>\n",
       "      <td>C19</td>\n",
       "      <td>Bachelor</td>\n",
       "      <td>[29582, 29582, 29582, 29582]</td>\n",
       "      <td>2.9582</td>\n",
       "      <td>2016-05-16</td>\n",
       "      <td>2016-08-16</td>\n",
       "      <td>92.0</td>\n",
       "      <td>1</td>\n",
       "      <td>1</td>\n",
       "      <td>[1, 1, 1, 1]</td>\n",
       "      <td>0.000000</td>\n",
       "      <td>[0, 0, 0, 0]</td>\n",
       "      <td>[1, 1, 1, 1]</td>\n",
       "      <td>0</td>\n",
       "      <td>1.000000</td>\n",
       "    </tr>\n",
       "    <tr>\n",
       "      <th>1407</th>\n",
       "      <td>2785</td>\n",
       "      <td>mature</td>\n",
       "      <td>Female</td>\n",
       "      <td>C9</td>\n",
       "      <td>College</td>\n",
       "      <td>[12105, 12105, 12105]</td>\n",
       "      <td>1.2105</td>\n",
       "      <td>2017-08-28</td>\n",
       "      <td>2017-10-28</td>\n",
       "      <td>61.0</td>\n",
       "      <td>1</td>\n",
       "      <td>1</td>\n",
       "      <td>[1, 1, 1]</td>\n",
       "      <td>0.000000</td>\n",
       "      <td>[0, 0, 0]</td>\n",
       "      <td>[1, 1, 1]</td>\n",
       "      <td>0</td>\n",
       "      <td>1.000000</td>\n",
       "    </tr>\n",
       "    <tr>\n",
       "      <th>1408</th>\n",
       "      <td>2788</td>\n",
       "      <td>mature</td>\n",
       "      <td>Male</td>\n",
       "      <td>C27</td>\n",
       "      <td>Master</td>\n",
       "      <td>[70254, 70254, 70254, 70254, 70254, 70254, 70254]</td>\n",
       "      <td>7.0254</td>\n",
       "      <td>2017-06-08</td>\n",
       "      <td>NaT</td>\n",
       "      <td>207.0</td>\n",
       "      <td>0</td>\n",
       "      <td>2</td>\n",
       "      <td>[2, 2, 2, 2, 2, 2, 2]</td>\n",
       "      <td>3.283200</td>\n",
       "      <td>[0, 497690, 740280, 448370, 0, 200420, 411480]</td>\n",
       "      <td>[1, 3, 3, 3, 2, 2, 2]</td>\n",
       "      <td>1</td>\n",
       "      <td>2.285714</td>\n",
       "    </tr>\n",
       "  </tbody>\n",
       "</table>\n",
       "<p>1409 rows × 18 columns</p>\n",
       "</div>"
      ],
      "text/plain": [
       "      emp_id     age  gender city education_level  \\\n",
       "0          2  mature    Male   C7          Master   \n",
       "1          4    aged    Male  C13          Master   \n",
       "2          5   young    Male   C9         College   \n",
       "3          6  mature  Female  C11        Bachelor   \n",
       "4          8  mature    Male   C2         College   \n",
       "...      ...     ...     ...  ...             ...   \n",
       "1404    2779   young    Male  C26         College   \n",
       "1405    2781   young    Male  C23          Master   \n",
       "1406    2782   young    Male  C19        Bachelor   \n",
       "1407    2785  mature  Female   C9         College   \n",
       "1408    2788  mature    Male  C27          Master   \n",
       "\n",
       "                                                 salary  avg_salary  \\\n",
       "0                                        [67016, 67016]      6.7016   \n",
       "1                   [65603, 65603, 65603, 65603, 65603]      6.5603   \n",
       "2                                 [46368, 46368, 46368]      4.6368   \n",
       "3                   [78728, 78728, 78728, 78728, 78728]      7.8728   \n",
       "4                                 [70656, 70656, 70656]      7.0656   \n",
       "...                                                 ...         ...   \n",
       "1404                                     [95133, 95133]      9.5133   \n",
       "1405  [46952, 46952, 46952, 46952, 46952, 46952, 469...      4.6952   \n",
       "1406                       [29582, 29582, 29582, 29582]      2.9582   \n",
       "1407                              [12105, 12105, 12105]      1.2105   \n",
       "1408  [70254, 70254, 70254, 70254, 70254, 70254, 70254]      7.0254   \n",
       "\n",
       "     dateofjoining lastworking_date  survival_days  left  joining_designation  \\\n",
       "0       2017-11-06              NaT           56.0     0                    2   \n",
       "1       2016-12-07       2017-04-27          141.0     1                    2   \n",
       "2       2016-01-09       2016-03-07           58.0     1                    1   \n",
       "3       2017-07-31              NaT          154.0     0                    3   \n",
       "4       2017-09-19       2017-11-15           57.0     1                    3   \n",
       "...            ...              ...            ...   ...                  ...   \n",
       "1404    2017-01-26       2017-02-14           19.0     1                    3   \n",
       "1405    2017-02-17              NaT          318.0     0                    2   \n",
       "1406    2016-05-16       2016-08-16           92.0     1                    1   \n",
       "1407    2017-08-28       2017-10-28           61.0     1                    1   \n",
       "1408    2017-06-08              NaT          207.0     0                    2   \n",
       "\n",
       "                            designation  average_business_value  \\\n",
       "0                                [2, 2]                0.000000   \n",
       "1                       [2, 2, 2, 2, 2]                0.700000   \n",
       "2                             [1, 1, 1]                0.401200   \n",
       "3                       [3, 3, 3, 3, 3]                2.530000   \n",
       "4                             [3, 3, 3]                0.000000   \n",
       "...                                 ...                     ...   \n",
       "1404                             [3, 3]                0.000000   \n",
       "1405  [2, 2, 2, 2, 2, 2, 2, 2, 2, 2, 2]                7.848518   \n",
       "1406                       [1, 1, 1, 1]                0.000000   \n",
       "1407                          [1, 1, 1]                0.000000   \n",
       "1408              [2, 2, 2, 2, 2, 2, 2]                3.283200   \n",
       "\n",
       "                                     total_business_val  \\\n",
       "0                                                [0, 0]   \n",
       "1                                  [0, 0, 0, 350000, 0]   \n",
       "2                                        [0, 120360, 0]   \n",
       "3                                 [0, 0, 0, 1265000, 0]   \n",
       "4                                             [0, 0, 0]   \n",
       "...                                                 ...   \n",
       "1404                                             [0, 0]   \n",
       "1405  [0, 715830, 451540, 511620, 1820160, 1098640, ...   \n",
       "1406                                       [0, 0, 0, 0]   \n",
       "1407                                          [0, 0, 0]   \n",
       "1408     [0, 497690, 740280, 448370, 0, 200420, 411480]   \n",
       "\n",
       "                   total_quarter_rating  current_value  avg_rating  \n",
       "0                                [1, 1]              0    1.000000  \n",
       "1                       [1, 1, 1, 1, 1]              0    1.000000  \n",
       "2                             [1, 1, 1]              0    1.000000  \n",
       "3                       [1, 1, 2, 2, 2]              0    1.600000  \n",
       "4                             [1, 1, 1]              0    1.000000  \n",
       "...                                 ...            ...         ...  \n",
       "1404                             [1, 1]              0    1.000000  \n",
       "1405  [1, 1, 4, 4, 4, 3, 3, 3, 4, 4, 4]              1    3.181818  \n",
       "1406                       [1, 1, 1, 1]              0    1.000000  \n",
       "1407                          [1, 1, 1]              0    1.000000  \n",
       "1408              [1, 3, 3, 3, 2, 2, 2]              1    2.285714  \n",
       "\n",
       "[1409 rows x 18 columns]"
      ]
     },
     "execution_count": 20,
     "metadata": {},
     "output_type": "execute_result"
    }
   ],
   "source": [
    "data"
   ]
  },
  {
   "cell_type": "markdown",
   "metadata": {
    "heading_collapsed": true
   },
   "source": [
    "# Visualization and EDA"
   ]
  },
  {
   "cell_type": "code",
   "execution_count": 21,
   "metadata": {
    "ExecuteTime": {
     "end_time": "2022-02-25T09:57:00.310678Z",
     "start_time": "2022-02-25T09:57:00.059431Z"
    },
    "hidden": true
   },
   "outputs": [
    {
     "data": {
      "text/plain": [
       "[67016, 67016]"
      ]
     },
     "execution_count": 21,
     "metadata": {},
     "output_type": "execute_result"
    }
   ],
   "source": [
    "data[\"salary\"][0]"
   ]
  },
  {
   "cell_type": "code",
   "execution_count": 22,
   "metadata": {
    "ExecuteTime": {
     "end_time": "2022-02-25T09:57:00.828705Z",
     "start_time": "2022-02-25T09:57:00.316392Z"
    },
    "hidden": true
   },
   "outputs": [],
   "source": [
    "unq_sal=[len(pd.unique(data[\"salary\"][i])) for i in range(len(data))]"
   ]
  },
  {
   "cell_type": "code",
   "execution_count": 23,
   "metadata": {
    "ExecuteTime": {
     "end_time": "2022-02-25T09:57:01.247924Z",
     "start_time": "2022-02-25T09:57:00.830011Z"
    },
    "hidden": true
   },
   "outputs": [
    {
     "data": {
      "text/plain": [
       "(array([  24,   48,  274,  298,  615,  642,  680,  950, 1102, 1140]),)"
      ]
     },
     "execution_count": 23,
     "metadata": {},
     "output_type": "execute_result"
    }
   ],
   "source": [
    "np.where(np.array(unq_sal)>=2)"
   ]
  },
  {
   "cell_type": "code",
   "execution_count": 24,
   "metadata": {
    "ExecuteTime": {
     "end_time": "2022-02-25T09:57:01.548936Z",
     "start_time": "2022-02-25T09:57:01.250505Z"
    },
    "hidden": true
   },
   "outputs": [
    {
     "data": {
      "text/plain": [
       "10"
      ]
     },
     "execution_count": 24,
     "metadata": {},
     "output_type": "execute_result"
    }
   ],
   "source": [
    "change_in_salary=data.iloc[np.where(np.array(unq_sal)>=2)[0],:]\n",
    "len(change_in_salary)"
   ]
  },
  {
   "cell_type": "code",
   "execution_count": 25,
   "metadata": {
    "ExecuteTime": {
     "end_time": "2022-02-25T09:57:01.705884Z",
     "start_time": "2022-02-25T09:57:01.551808Z"
    },
    "hidden": true
   },
   "outputs": [
    {
     "data": {
      "text/plain": [
       "1409"
      ]
     },
     "execution_count": 25,
     "metadata": {},
     "output_type": "execute_result"
    }
   ],
   "source": [
    "len(data)"
   ]
  },
  {
   "cell_type": "code",
   "execution_count": 26,
   "metadata": {
    "ExecuteTime": {
     "end_time": "2022-02-25T09:57:03.338691Z",
     "start_time": "2022-02-25T09:57:01.708754Z"
    },
    "hidden": true
   },
   "outputs": [
    {
     "data": {
      "text/plain": [
       "Text(0.5, 1.0, 'Count plot of employees censored and observed \\n(left=1 is observed)')"
      ]
     },
     "execution_count": 26,
     "metadata": {},
     "output_type": "execute_result"
    },
    {
     "data": {
      "image/png": "[encoded data removed]",
      "text/plain": [
       "<Figure size 864x432 with 1 Axes>"
      ]
     },
     "metadata": {
      "needs_background": "light"
     },
     "output_type": "display_data"
    }
   ],
   "source": [
    "sns.countplot(data=data,x=\"left\")\n",
    "plt.legend([\"Censored\",\"Left the company\"],loc=\"upper left\")\n",
    "plt.xlabel(\"Employees left the company\",fontsize=25)\n",
    "plt.ylabel(\"Count\",fontsize=25)\n",
    "plt.title(\"Count plot of employees censored and observed \\n(left=1 is observed)\",fontsize=25)"
   ]
  },
  {
   "cell_type": "code",
   "execution_count": 27,
   "metadata": {
    "ExecuteTime": {
     "end_time": "2022-02-25T09:57:03.774336Z",
     "start_time": "2022-02-25T09:57:03.340118Z"
    },
    "hidden": true
   },
   "outputs": [
    {
     "data": {
      "text/plain": [
       "(array([   0.,  200.,  400.,  600.,  800., 1000.]),\n",
       " <a list of 6 Text yticklabel objects>)"
      ]
     },
     "execution_count": 27,
     "metadata": {},
     "output_type": "execute_result"
    },
    {
     "data": {
      "image/png": "[encoded data removed]",
      "text/plain": [
       "<Figure size 360x360 with 1 Axes>"
      ]
     },
     "metadata": {
      "needs_background": "light"
     },
     "output_type": "display_data"
    }
   ],
   "source": [
    "sns.catplot(data=data,x=\"left\",kind=\"count\")\n",
    "# sns.countplot(data=data,x=\"left\")\n",
    "plt.legend([\"Censored\",\"Left the company\"],loc=\"upper left\")\n",
    "plt.xlabel(\"Employees left the company\",fontsize=25)\n",
    "plt.ylabel(\"Count\",fontsize=25)\n",
    "plt.title(\"Count plot of employees \",fontsize=25)\n",
    "\n",
    "plt.xticks(fontsize=15, color=\"green\")\n",
    "plt.yticks(fontsize=15 , color= \"green\")"
   ]
  },
  {
   "cell_type": "code",
   "execution_count": 28,
   "metadata": {
    "ExecuteTime": {
     "end_time": "2022-02-25T09:57:04.135851Z",
     "start_time": "2022-02-25T09:57:03.777210Z"
    },
    "hidden": true
   },
   "outputs": [
    {
     "data": {
      "text/plain": [
       "(array([-100.,    0.,  100.,  200.,  300.,  400.,  500.,  600.,  700.,\n",
       "         800.]),\n",
       " <a list of 10 Text yticklabel objects>)"
      ]
     },
     "execution_count": 28,
     "metadata": {},
     "output_type": "execute_result"
    },
    {
     "data": {
      "image/png": "[encoded data removed]",
      "text/plain": [
       "<Figure size 360x360 with 1 Axes>"
      ]
     },
     "metadata": {
      "needs_background": "light"
     },
     "output_type": "display_data"
    }
   ],
   "source": [
    "sns.catplot(hue=\"left\", y=\"survival_days\", x=\"left\", kind=\"box\", data=data)\n",
    "\n",
    "plt.xlabel(\"Left or not\",fontsize=20)\n",
    "plt.ylabel(\"Survival Days\",fontsize=20)\n",
    "plt.title(\"Box plot of Survival days for Censored \\nand Observed data \",fontsize=20)\n",
    "plt.xticks(fontsize=15, color=\"green\")\n",
    "plt.yticks(fontsize=15 , color= \"green\")"
   ]
  },
  {
   "cell_type": "code",
   "execution_count": 29,
   "metadata": {
    "ExecuteTime": {
     "end_time": "2022-02-25T09:57:04.378763Z",
     "start_time": "2022-02-25T09:57:04.137038Z"
    },
    "hidden": true,
    "scrolled": true
   },
   "outputs": [
    {
     "data": {
      "text/plain": [
       "Text(0.5, 1.0, 'Total number of employees who are censored or left the company after change in salary')"
      ]
     },
     "execution_count": 29,
     "metadata": {},
     "output_type": "execute_result"
    },
    {
     "data": {
      "image/png": "[encoded data removed]",
      "text/plain": [
       "<Figure size 864x432 with 1 Axes>"
      ]
     },
     "metadata": {
      "needs_background": "light"
     },
     "output_type": "display_data"
    }
   ],
   "source": [
    "sns.countplot(data=change_in_salary,x=\"left\")\n",
    "plt.xlabel(\"Employees left the company\",fontsize=15)\n",
    "plt.ylabel(\"Count\",fontsize=15)\n",
    "plt.title(\"Total number of employees who are censored or left the company after change in salary\",fontsize=15)"
   ]
  },
  {
   "cell_type": "code",
   "execution_count": 30,
   "metadata": {
    "ExecuteTime": {
     "end_time": "2022-02-25T09:57:04.631917Z",
     "start_time": "2022-02-25T09:57:04.380116Z"
    },
    "hidden": true
   },
   "outputs": [
    {
     "data": {
      "text/plain": [
       "10"
      ]
     },
     "execution_count": 30,
     "metadata": {},
     "output_type": "execute_result"
    }
   ],
   "source": [
    "len(np.where(np.array(unq_sal)==2)[0])"
   ]
  },
  {
   "cell_type": "code",
   "execution_count": 31,
   "metadata": {
    "ExecuteTime": {
     "end_time": "2022-02-25T09:57:04.932390Z",
     "start_time": "2022-02-25T09:57:04.635337Z"
    },
    "hidden": true
   },
   "outputs": [
    {
     "data": {
      "text/plain": [
       "2"
      ]
     },
     "execution_count": 31,
     "metadata": {},
     "output_type": "execute_result"
    }
   ],
   "source": [
    "(change_in_salary.left==1).sum()"
   ]
  },
  {
   "cell_type": "code",
   "execution_count": 32,
   "metadata": {
    "ExecuteTime": {
     "end_time": "2022-02-25T09:57:05.840846Z",
     "start_time": "2022-02-25T09:57:04.940022Z"
    },
    "hidden": true
   },
   "outputs": [
    {
     "data": {
      "text/plain": [
       "Text(0.5, 1, 'Gender of total employees')"
      ]
     },
     "execution_count": 32,
     "metadata": {},
     "output_type": "execute_result"
    },
    {
     "data": {
      "image/png": "[encoded data removed]",
      "text/plain": [
       "<Figure size 432.625x360 with 1 Axes>"
      ]
     },
     "metadata": {
      "needs_background": "light"
     },
     "output_type": "display_data"
    }
   ],
   "source": [
    "sns.catplot(data=data,x=\"left\",hue=\"gender\",kind=\"count\")\n",
    "plt.xlabel(\"Employees left the company\",fontsize=15)\n",
    "plt.ylabel(\"Count\",fontsize=15)\n",
    "plt.title(\"Gender of total employees\",fontsize=15)"
   ]
  },
  {
   "cell_type": "code",
   "execution_count": 33,
   "metadata": {
    "ExecuteTime": {
     "end_time": "2022-02-25T09:57:05.852128Z",
     "start_time": "2022-02-25T09:57:05.843863Z"
    },
    "hidden": true
   },
   "outputs": [
    {
     "data": {
      "text/plain": [
       "344"
      ]
     },
     "execution_count": 33,
     "metadata": {},
     "output_type": "execute_result"
    }
   ],
   "source": [
    "sum(np.logical_and(data.left==1,data.gender==\"Female\"))"
   ]
  },
  {
   "cell_type": "code",
   "execution_count": 34,
   "metadata": {
    "ExecuteTime": {
     "end_time": "2022-02-25T09:57:06.353093Z",
     "start_time": "2022-02-25T09:57:05.864919Z"
    },
    "hidden": true
   },
   "outputs": [
    {
     "data": {
      "text/plain": [
       "(array([  0., 100., 200., 300., 400., 500., 600.]),\n",
       " <a list of 7 Text yticklabel objects>)"
      ]
     },
     "execution_count": 34,
     "metadata": {},
     "output_type": "execute_result"
    },
    {
     "data": {
      "image/png": "[encoded data removed]",
      "text/plain": [
       "<Figure size 402.375x360 with 1 Axes>"
      ]
     },
     "metadata": {
      "needs_background": "light"
     },
     "output_type": "display_data"
    }
   ],
   "source": [
    "sns.catplot(data=data,x=\"gender\",hue=\"left\",kind=\"count\")\n",
    "plt.xlabel(\"Gender\",fontsize=20)\n",
    "plt.ylabel(\"Count\",fontsize=20)\n",
    "plt.title(\"Count plot of Gender for Observed \\nand Sensored (left=1 : Observed)\",fontsize=20)\n",
    "plt.xticks(fontsize=15, color=\"green\")\n",
    "plt.yticks(fontsize=15 , color= \"green\")"
   ]
  },
  {
   "cell_type": "code",
   "execution_count": 35,
   "metadata": {
    "ExecuteTime": {
     "end_time": "2022-02-25T09:57:06.734730Z",
     "start_time": "2022-02-25T09:57:06.360857Z"
    },
    "hidden": true
   },
   "outputs": [
    {
     "data": {
      "text/plain": [
       "(array([-100.,    0.,  100.,  200.,  300.,  400.,  500.,  600.,  700.,\n",
       "         800.]),\n",
       " <a list of 10 Text yticklabel objects>)"
      ]
     },
     "execution_count": 35,
     "metadata": {},
     "output_type": "execute_result"
    },
    {
     "data": {
      "image/png": "[encoded data removed]",
      "text/plain": [
       "<Figure size 402.375x360 with 1 Axes>"
      ]
     },
     "metadata": {
      "needs_background": "light"
     },
     "output_type": "display_data"
    }
   ],
   "source": [
    "sns.catplot(hue=\"left\", y=\"survival_days\", x=\"gender\", kind=\"box\", data=data)\n",
    "\n",
    "plt.xlabel(\"Gender\",fontsize=20)\n",
    "plt.ylabel(\"Survival Days\",fontsize=20)\n",
    "plt.title(\"Survival days of male or female employees \",fontsize=20)\n",
    "plt.xticks(fontsize=15, color=\"green\")\n",
    "plt.yticks(fontsize=15 , color= \"green\")"
   ]
  },
  {
   "cell_type": "code",
   "execution_count": 36,
   "metadata": {
    "ExecuteTime": {
     "end_time": "2022-02-25T09:57:06.738681Z",
     "start_time": "2022-02-25T09:57:06.736721Z"
    },
    "hidden": true,
    "scrolled": true
   },
   "outputs": [],
   "source": [
    "# data[\"age\"]=[\"young\" if i<30 else \"mature\" if 30<= i < 40 else \"aged\" for i in data[\"age\"]]"
   ]
  },
  {
   "cell_type": "code",
   "execution_count": 37,
   "metadata": {
    "ExecuteTime": {
     "end_time": "2022-02-25T09:57:07.035550Z",
     "start_time": "2022-02-25T09:57:06.740432Z"
    },
    "hidden": true,
    "scrolled": true
   },
   "outputs": [
    {
     "data": {
      "text/plain": [
       "count       1409\n",
       "unique         3\n",
       "top       mature\n",
       "freq         785\n",
       "Name: age, dtype: object"
      ]
     },
     "execution_count": 37,
     "metadata": {},
     "output_type": "execute_result"
    }
   ],
   "source": [
    "data.age.describe()"
   ]
  },
  {
   "cell_type": "code",
   "execution_count": 38,
   "metadata": {
    "ExecuteTime": {
     "end_time": "2022-02-25T09:57:07.634524Z",
     "start_time": "2022-02-25T09:57:07.039057Z"
    },
    "hidden": true
   },
   "outputs": [
    {
     "data": {
      "text/plain": [
       "(array([  0., 100., 200., 300., 400., 500., 600.]),\n",
       " <a list of 7 Text yticklabel objects>)"
      ]
     },
     "execution_count": 38,
     "metadata": {},
     "output_type": "execute_result"
    },
    {
     "data": {
      "image/png": "[encoded data removed]",
      "text/plain": [
       "<Figure size 402.375x360 with 1 Axes>"
      ]
     },
     "metadata": {
      "needs_background": "light"
     },
     "output_type": "display_data"
    }
   ],
   "source": [
    "age_order=[\"young\",\"mature\",\"aged\"] # , \n",
    "sns.catplot(data=data,x=\"age\",hue=\"left\",kind=\"count\", order=age_order)\n",
    "plt.xlabel(\"Age Group\",fontsize=20)\n",
    "plt.ylabel(\"Count\",fontsize=20)\n",
    "plt.title(\"Count plot of Age Group for Observed \\nand Sensored (left=1 : Observed)\",fontsize=20)\n",
    "plt.xticks(fontsize=15, color=\"green\")\n",
    "plt.yticks(fontsize=15 , color= \"green\")"
   ]
  },
  {
   "cell_type": "code",
   "execution_count": 39,
   "metadata": {
    "ExecuteTime": {
     "end_time": "2022-02-25T09:57:07.998104Z",
     "start_time": "2022-02-25T09:57:07.635951Z"
    },
    "hidden": true
   },
   "outputs": [
    {
     "data": {
      "text/plain": [
       "(array([-100.,    0.,  100.,  200.,  300.,  400.,  500.,  600.,  700.,\n",
       "         800.]),\n",
       " <a list of 10 Text yticklabel objects>)"
      ]
     },
     "execution_count": 39,
     "metadata": {},
     "output_type": "execute_result"
    },
    {
     "data": {
      "image/png": "[encoded data removed]",
      "text/plain": [
       "<Figure size 432.25x360 with 1 Axes>"
      ]
     },
     "metadata": {
      "needs_background": "light"
     },
     "output_type": "display_data"
    }
   ],
   "source": [
    "#age_order=[\"young\",\"mature\",\"aged\"] # , order=age_order\n",
    "\n",
    "sns.catplot(hue=\"age\", y=\"survival_days\", x=\"left\", kind=\"box\", data=data)\n",
    "plt.xlabel(\"Left or not\",fontsize=20)\n",
    "plt.ylabel(\"Count\",fontsize=20)\n",
    "plt.title(\"Survival days of male or female employees \",fontsize=20)\n",
    "plt.xticks(fontsize=15, color=\"green\")\n",
    "plt.yticks(fontsize=15 , color= \"green\")\n",
    "\n",
    "# day_order = [\"Monday\", \"Tuesday\", \"Wednesday\", \"Thursday\", \"Friday\", \"Saturday\", \"Sunday\"]\n",
    "# sns.countplot(x = \"Day\", data = df, order = day_order)"
   ]
  },
  {
   "cell_type": "code",
   "execution_count": 40,
   "metadata": {
    "ExecuteTime": {
     "end_time": "2022-02-25T09:57:08.003763Z",
     "start_time": "2022-02-25T09:57:08.000383Z"
    },
    "hidden": true,
    "scrolled": true
   },
   "outputs": [],
   "source": [
    "## when age is continuous\n",
    "\n",
    "# sns.catplot(hue=\"left\", y=\"age\", x=\"gender\", kind=\"box\", data=data)\n",
    "# # plt.legend(title_fontsize=\"medium\", shadow=True )\n",
    "# plt.xlabel(\"Gender\",fontsize=25)\n",
    "# plt.ylabel(\"Age\",fontsize=25)\n",
    "# plt.title(\"Box plot of Age for Different Gender\",fontsize=25)\n",
    "# plt.xticks(fontsize=15, color=\"green\")\n",
    "# plt.yticks(fontsize=15 , color= \"green\")"
   ]
  },
  {
   "cell_type": "code",
   "execution_count": 41,
   "metadata": {
    "ExecuteTime": {
     "end_time": "2022-02-25T09:57:08.621091Z",
     "start_time": "2022-02-25T09:57:08.007716Z"
    },
    "hidden": true
   },
   "outputs": [
    {
     "data": {
      "text/plain": [
       "(array([  0., 100., 200., 300., 400., 500., 600., 700., 800., 900.]),\n",
       " <a list of 10 Text yticklabel objects>)"
      ]
     },
     "execution_count": 41,
     "metadata": {},
     "output_type": "execute_result"
    },
    {
     "data": {
      "image/png": "[encoded data removed]",
      "text/plain": [
       "<Figure size 360x360 with 1 Axes>"
      ]
     },
     "metadata": {
      "needs_background": "light"
     },
     "output_type": "display_data"
    }
   ],
   "source": [
    "sns.catplot(data=cleaned_train_data,x=\"education_level\",kind=\"count\")\n",
    "plt.xlabel(\"Education Level\",fontsize=15)\n",
    "plt.ylabel(\"Count\",fontsize=15)\n",
    "plt.title(\"Count plot for different education level\",fontsize=15)\n",
    "plt.xticks(fontsize=15, color=\"green\")\n",
    "plt.yticks(fontsize=15 , color= \"green\")"
   ]
  },
  {
   "cell_type": "code",
   "execution_count": 42,
   "metadata": {
    "ExecuteTime": {
     "end_time": "2022-02-25T09:57:09.735095Z",
     "start_time": "2022-02-25T09:57:08.624009Z"
    },
    "hidden": true
   },
   "outputs": [
    {
     "data": {
      "text/plain": [
       "(array([  0.,  50., 100., 150., 200., 250., 300., 350.]),\n",
       " <a list of 8 Text yticklabel objects>)"
      ]
     },
     "execution_count": 42,
     "metadata": {},
     "output_type": "execute_result"
    },
    {
     "data": {
      "image/png": "[encoded data removed]",
      "text/plain": [
       "<Figure size 402.375x360 with 1 Axes>"
      ]
     },
     "metadata": {
      "needs_background": "light"
     },
     "output_type": "display_data"
    }
   ],
   "source": [
    "sns.catplot(data=data,x=\"education_level\",hue=\"left\",kind=\"count\")\n",
    "plt.xlabel(\"Education Level\",fontsize=20)\n",
    "plt.ylabel(\"Count\",fontsize=20)\n",
    "plt.title(\"Count plot of education_level\",fontsize=20)\n",
    "plt.xticks(fontsize=15, color=\"green\")\n",
    "plt.yticks(fontsize=15 , color= \"green\")"
   ]
  },
  {
   "cell_type": "code",
   "execution_count": 43,
   "metadata": {
    "ExecuteTime": {
     "end_time": "2022-02-25T09:57:10.057912Z",
     "start_time": "2022-02-25T09:57:09.737030Z"
    },
    "hidden": true
   },
   "outputs": [
    {
     "data": {
      "text/plain": [
       "(array([-100.,    0.,  100.,  200.,  300.,  400.,  500.,  600.,  700.,\n",
       "         800.]),\n",
       " <a list of 10 Text yticklabel objects>)"
      ]
     },
     "execution_count": 43,
     "metadata": {},
     "output_type": "execute_result"
    },
    {
     "data": {
      "text/plain": [
       "<Figure size 1440x720 with 0 Axes>"
      ]
     },
     "metadata": {},
     "output_type": "display_data"
    },
    {
     "data": {
      "image/png": "[encoded data removed]",
      "text/plain": [
       "<Figure size 402.375x360 with 1 Axes>"
      ]
     },
     "metadata": {
      "needs_background": "light"
     },
     "output_type": "display_data"
    }
   ],
   "source": [
    "plt.figure(figsize=(20,10))\n",
    "sns.catplot(hue=\"left\", y=\"survival_days\", x=\"education_level\", kind=\"box\", data=data)\n",
    "plt.title(\"survival_days with education level and survival of the employee\")\n",
    "plt.xlabel(\"Education Level\",fontsize=20)\n",
    "plt.ylabel(\"Survival Days\",fontsize=20)\n",
    "plt.title(\"Box plot of Survival days for different education level\",fontsize=15)\n",
    "\n",
    "plt.xticks(fontsize=15, color=\"green\")\n",
    "plt.yticks(fontsize=15 , color= \"green\")"
   ]
  },
  {
   "cell_type": "code",
   "execution_count": 44,
   "metadata": {
    "ExecuteTime": {
     "end_time": "2022-02-25T09:57:10.382664Z",
     "start_time": "2022-02-25T09:57:10.059550Z"
    },
    "hidden": true
   },
   "outputs": [
    {
     "data": {
      "text/plain": [
       "(array([-100.,    0.,  100.,  200.,  300.,  400.,  500.,  600.,  700.,\n",
       "         800.]),\n",
       " <a list of 10 Text yticklabel objects>)"
      ]
     },
     "execution_count": 44,
     "metadata": {},
     "output_type": "execute_result"
    },
    {
     "data": {
      "text/plain": [
       "<Figure size 1440x720 with 0 Axes>"
      ]
     },
     "metadata": {},
     "output_type": "display_data"
    },
    {
     "data": {
      "image/png": "[encoded data removed]",
      "text/plain": [
       "<Figure size 446.5x360 with 1 Axes>"
      ]
     },
     "metadata": {
      "needs_background": "light"
     },
     "output_type": "display_data"
    }
   ],
   "source": [
    "plt.figure(figsize=(20,10))\n",
    "sns.catplot(hue=\"education_level\", y=\"survival_days\", x=\"left\", kind=\"box\", data=data)\n",
    "plt.title(\"survival_days with education level and survival of the employee\")\n",
    "plt.xlabel(\"Employees left the company\",fontsize=15)\n",
    "plt.ylabel(\"Count\",fontsize=15)\n",
    "plt.title(\"Box plot of Survival days for different education level\",fontsize=15)\n",
    "plt.xticks(fontsize=15, color=\"green\")\n",
    "plt.yticks(fontsize=15 , color= \"green\")"
   ]
  },
  {
   "cell_type": "code",
   "execution_count": 45,
   "metadata": {
    "ExecuteTime": {
     "end_time": "2022-02-25T09:57:10.657272Z",
     "start_time": "2022-02-25T09:57:10.384469Z"
    },
    "hidden": true
   },
   "outputs": [
    {
     "data": {
      "text/plain": [
       "<seaborn.axisgrid.FacetGrid at 0x7f6505b31820>"
      ]
     },
     "execution_count": 45,
     "metadata": {},
     "output_type": "execute_result"
    },
    {
     "data": {
      "image/png": "[encoded data removed]",
      "text/plain": [
       "<Figure size 360x360 with 1 Axes>"
      ]
     },
     "metadata": {
      "needs_background": "light"
     },
     "output_type": "display_data"
    }
   ],
   "source": [
    "sns.catplot(data=data,x=\"joining_designation\",kind=\"count\")"
   ]
  },
  {
   "cell_type": "code",
   "execution_count": 46,
   "metadata": {
    "ExecuteTime": {
     "end_time": "2022-02-25T09:57:11.168239Z",
     "start_time": "2022-02-25T09:57:10.658820Z"
    },
    "hidden": true
   },
   "outputs": [
    {
     "name": "stderr",
     "output_type": "stream",
     "text": [
      "/usr/lib/python3/dist-packages/pandas/core/generic.py:5208: SettingWithCopyWarning: \n",
      "A value is trying to be set on a copy of a slice from a DataFrame.\n",
      "Try using .loc[row_indexer,col_indexer] = value instead\n",
      "\n",
      "See the caveats in the documentation: http://pandas.pydata.org/pandas-docs/stable/user_guide/indexing.html#returning-a-view-versus-a-copy\n",
      "  self[name] = value\n"
     ]
    }
   ],
   "source": [
    "data.joining_designation=data.joining_designation.apply(lambda x: 3 if x>3 else x)"
   ]
  },
  {
   "cell_type": "code",
   "execution_count": 47,
   "metadata": {
    "ExecuteTime": {
     "end_time": "2022-02-25T09:57:11.698184Z",
     "start_time": "2022-02-25T09:57:11.177529Z"
    },
    "hidden": true
   },
   "outputs": [
    {
     "data": {
      "text/plain": [
       "(array([  0.,  50., 100., 150., 200., 250., 300., 350., 400.]),\n",
       " <a list of 9 Text yticklabel objects>)"
      ]
     },
     "execution_count": 47,
     "metadata": {},
     "output_type": "execute_result"
    },
    {
     "data": {
      "image/png": "[encoded data removed]",
      "text/plain": [
       "<Figure size 402.375x360 with 1 Axes>"
      ]
     },
     "metadata": {
      "needs_background": "light"
     },
     "output_type": "display_data"
    }
   ],
   "source": [
    "sns.catplot(data=data,x=\"joining_designation\",hue=\"left\",kind=\"count\")\n",
    "plt.title(\"survival_days with education level and survival of the employee\")\n",
    "plt.xlabel(\"Joining Designation\",fontsize=15)\n",
    "plt.ylabel(\"Count\",fontsize=15)\n",
    "plt.title(\"Count Plot of Joining Designation\",fontsize=15)\n",
    "plt.xticks(fontsize=15, color=\"green\")\n",
    "plt.yticks(fontsize=15 , color= \"green\")"
   ]
  },
  {
   "cell_type": "code",
   "execution_count": null,
   "metadata": {
    "hidden": true
   },
   "outputs": [],
   "source": []
  },
  {
   "cell_type": "code",
   "execution_count": 48,
   "metadata": {
    "ExecuteTime": {
     "end_time": "2022-02-25T09:57:12.598090Z",
     "start_time": "2022-02-25T09:57:11.700207Z"
    },
    "hidden": true
   },
   "outputs": [
    {
     "data": {
      "text/plain": [
       "(array([-100.,    0.,  100.,  200.,  300.,  400.,  500.,  600.,  700.,\n",
       "         800.]),\n",
       " <a list of 10 Text yticklabel objects>)"
      ]
     },
     "execution_count": 48,
     "metadata": {},
     "output_type": "execute_result"
    },
    {
     "data": {
      "image/png": "[encoded data removed]",
      "text/plain": [
       "<Figure size 402.375x360 with 1 Axes>"
      ]
     },
     "metadata": {
      "needs_background": "light"
     },
     "output_type": "display_data"
    }
   ],
   "source": [
    "sns.catplot(x=\"joining_designation\", y=\"survival_days\", hue=\"left\", kind=\"box\", data=data)\n",
    "plt.xlabel(\"Joining Designation\",fontsize=15)\n",
    "plt.ylabel(\"Survival Days\",fontsize=15)\n",
    "plt.title(\"Box plot of Joining Designation\",fontsize=15)\n",
    "plt.xticks(fontsize=15, color=\"green\")\n",
    "plt.yticks(fontsize=15 , color= \"green\")"
   ]
  },
  {
   "cell_type": "code",
   "execution_count": 49,
   "metadata": {
    "ExecuteTime": {
     "end_time": "2022-02-25T09:57:13.095646Z",
     "start_time": "2022-02-25T09:57:12.599783Z"
    },
    "hidden": true
   },
   "outputs": [
    {
     "data": {
      "text/plain": [
       "(array([-100.,    0.,  100.,  200.,  300.,  400.,  500.,  600.,  700.,\n",
       "         800.]),\n",
       " <a list of 10 Text yticklabel objects>)"
      ]
     },
     "execution_count": 49,
     "metadata": {},
     "output_type": "execute_result"
    },
    {
     "data": {
      "image/png": "[encoded data removed]",
      "text/plain": [
       "<Figure size 465.375x360 with 1 Axes>"
      ]
     },
     "metadata": {
      "needs_background": "light"
     },
     "output_type": "display_data"
    }
   ],
   "source": [
    "sns.catplot(hue=\"joining_designation\", y=\"survival_days\", x=\"left\", kind=\"box\", data=data)\n",
    "plt.xlabel(\"Left or not\",fontsize=15)\n",
    "plt.ylabel(\"Survival Days\",fontsize=15)\n",
    "plt.title(\"Box plot of Joining Designation\",fontsize=15)\n",
    "plt.xticks(fontsize=15, color=\"green\")\n",
    "plt.yticks(fontsize=15 , color= \"green\")"
   ]
  },
  {
   "cell_type": "code",
   "execution_count": 50,
   "metadata": {
    "ExecuteTime": {
     "end_time": "2022-02-25T09:58:08.924222Z",
     "start_time": "2022-02-25T09:58:08.917439Z"
    },
    "hidden": true
   },
   "outputs": [
    {
     "data": {
      "text/plain": [
       "[4, 5, 6]"
      ]
     },
     "execution_count": 50,
     "metadata": {},
     "output_type": "execute_result"
    }
   ],
   "source": [
    "[1,2,3,4,5,6][-3:]"
   ]
  },
  {
   "cell_type": "code",
   "execution_count": 51,
   "metadata": {
    "ExecuteTime": {
     "end_time": "2022-02-25T09:58:09.557471Z",
     "start_time": "2022-02-25T09:58:09.555608Z"
    },
    "hidden": true,
    "scrolled": true
   },
   "outputs": [],
   "source": [
    "# data[\"current_value\"]=[0 if sum(data[\"total_business_val\"][i][-1:])==0 else 1 for i in range(len(data))]"
   ]
  },
  {
   "cell_type": "code",
   "execution_count": 52,
   "metadata": {
    "ExecuteTime": {
     "end_time": "2022-02-25T09:58:10.341545Z",
     "start_time": "2022-02-25T09:58:09.795309Z"
    },
    "hidden": true
   },
   "outputs": [
    {
     "data": {
      "text/plain": [
       "Text(0.5, 1, 'Distribution of employee having \\nlast business value 0')"
      ]
     },
     "execution_count": 52,
     "metadata": {},
     "output_type": "execute_result"
    },
    {
     "data": {
      "image/png": "[encoded data removed]",
      "text/plain": [
       "<Figure size 360x360 with 1 Axes>"
      ]
     },
     "metadata": {
      "needs_background": "light"
     },
     "output_type": "display_data"
    }
   ],
   "source": [
    "last_business_val_0=data[data[\"current_value\"]==0]\n",
    "sns.catplot(data=last_business_val_0,x=\"left\",kind=\"count\")\n",
    "plt.title(\"Distribution of employee having \\nlast business value 0\")"
   ]
  },
  {
   "cell_type": "code",
   "execution_count": 53,
   "metadata": {
    "ExecuteTime": {
     "end_time": "2022-02-25T09:58:10.518312Z",
     "start_time": "2022-02-25T09:58:10.342930Z"
    },
    "hidden": true
   },
   "outputs": [
    {
     "data": {
      "text/plain": [
       "Text(0.5, 1, 'Distribution of employee having \\nlast business value other than 0')"
      ]
     },
     "execution_count": 53,
     "metadata": {},
     "output_type": "execute_result"
    },
    {
     "data": {
      "image/png": "[encoded data removed]",
      "text/plain": [
       "<Figure size 360x360 with 1 Axes>"
      ]
     },
     "metadata": {
      "needs_background": "light"
     },
     "output_type": "display_data"
    }
   ],
   "source": [
    "last_business_val_0=data[data[\"current_value\"]==1]\n",
    "sns.catplot(data=last_business_val_0,x=\"left\",kind=\"count\")\n",
    "plt.title(\"Distribution of employee having \\nlast business value other than 0\")"
   ]
  },
  {
   "cell_type": "code",
   "execution_count": null,
   "metadata": {
    "hidden": true
   },
   "outputs": [],
   "source": []
  },
  {
   "cell_type": "markdown",
   "metadata": {},
   "source": [
    "# Modeling Using the processed data"
   ]
  },
  {
   "cell_type": "markdown",
   "metadata": {
    "heading_collapsed": true
   },
   "source": [
    "## Data processing and storing for Time invariant cox model"
   ]
  },
  {
   "cell_type": "code",
   "execution_count": 54,
   "metadata": {
    "ExecuteTime": {
     "end_time": "2022-02-25T09:58:12.528990Z",
     "start_time": "2022-02-25T09:58:12.524166Z"
    },
    "hidden": true
   },
   "outputs": [],
   "source": [
    "# data.to_csv(\"not_left_truncated.csv\",index=False)"
   ]
  },
  {
   "cell_type": "code",
   "execution_count": 55,
   "metadata": {
    "ExecuteTime": {
     "end_time": "2022-02-25T09:58:12.934946Z",
     "start_time": "2022-02-25T09:58:12.771181Z"
    },
    "hidden": true
   },
   "outputs": [
    {
     "data": {
      "text/html": [
       "<div>\n",
       "<style scoped>\n",
       "    .dataframe tbody tr th:only-of-type {\n",
       "        vertical-align: middle;\n",
       "    }\n",
       "\n",
       "    .dataframe tbody tr th {\n",
       "        vertical-align: top;\n",
       "    }\n",
       "\n",
       "    .dataframe thead th {\n",
       "        text-align: right;\n",
       "    }\n",
       "</style>\n",
       "<table border=\"1\" class=\"dataframe\">\n",
       "  <thead>\n",
       "    <tr style=\"text-align: right;\">\n",
       "      <th></th>\n",
       "      <th>emp_id</th>\n",
       "      <th>age</th>\n",
       "      <th>gender</th>\n",
       "      <th>city</th>\n",
       "      <th>education_level</th>\n",
       "      <th>salary</th>\n",
       "      <th>avg_salary</th>\n",
       "      <th>dateofjoining</th>\n",
       "      <th>lastworking_date</th>\n",
       "      <th>survival_days</th>\n",
       "      <th>left</th>\n",
       "      <th>joining_designation</th>\n",
       "      <th>designation</th>\n",
       "      <th>average_business_value</th>\n",
       "      <th>total_business_val</th>\n",
       "      <th>total_quarter_rating</th>\n",
       "      <th>current_value</th>\n",
       "      <th>avg_rating</th>\n",
       "    </tr>\n",
       "  </thead>\n",
       "  <tbody>\n",
       "    <tr>\n",
       "      <th>0</th>\n",
       "      <td>2</td>\n",
       "      <td>mature</td>\n",
       "      <td>Male</td>\n",
       "      <td>C7</td>\n",
       "      <td>Master</td>\n",
       "      <td>[67016, 67016]</td>\n",
       "      <td>6.7016</td>\n",
       "      <td>2017-11-06</td>\n",
       "      <td>NaT</td>\n",
       "      <td>56.0</td>\n",
       "      <td>0</td>\n",
       "      <td>2</td>\n",
       "      <td>[2, 2]</td>\n",
       "      <td>0.0</td>\n",
       "      <td>[0, 0]</td>\n",
       "      <td>[1, 1]</td>\n",
       "      <td>0</td>\n",
       "      <td>1.0</td>\n",
       "    </tr>\n",
       "    <tr>\n",
       "      <th>1</th>\n",
       "      <td>4</td>\n",
       "      <td>aged</td>\n",
       "      <td>Male</td>\n",
       "      <td>C13</td>\n",
       "      <td>Master</td>\n",
       "      <td>[65603, 65603, 65603, 65603, 65603]</td>\n",
       "      <td>6.5603</td>\n",
       "      <td>2016-12-07</td>\n",
       "      <td>2017-04-27</td>\n",
       "      <td>141.0</td>\n",
       "      <td>1</td>\n",
       "      <td>2</td>\n",
       "      <td>[2, 2, 2, 2, 2]</td>\n",
       "      <td>0.7</td>\n",
       "      <td>[0, 0, 0, 350000, 0]</td>\n",
       "      <td>[1, 1, 1, 1, 1]</td>\n",
       "      <td>0</td>\n",
       "      <td>1.0</td>\n",
       "    </tr>\n",
       "  </tbody>\n",
       "</table>\n",
       "</div>"
      ],
      "text/plain": [
       "   emp_id     age gender city education_level  \\\n",
       "0       2  mature   Male   C7          Master   \n",
       "1       4    aged   Male  C13          Master   \n",
       "\n",
       "                                salary  avg_salary dateofjoining  \\\n",
       "0                       [67016, 67016]      6.7016    2017-11-06   \n",
       "1  [65603, 65603, 65603, 65603, 65603]      6.5603    2016-12-07   \n",
       "\n",
       "  lastworking_date  survival_days  left  joining_designation      designation  \\\n",
       "0              NaT           56.0     0                    2           [2, 2]   \n",
       "1       2017-04-27          141.0     1                    2  [2, 2, 2, 2, 2]   \n",
       "\n",
       "   average_business_value    total_business_val total_quarter_rating  \\\n",
       "0                     0.0                [0, 0]               [1, 1]   \n",
       "1                     0.7  [0, 0, 0, 350000, 0]      [1, 1, 1, 1, 1]   \n",
       "\n",
       "   current_value  avg_rating  \n",
       "0              0         1.0  \n",
       "1              0         1.0  "
      ]
     },
     "execution_count": 55,
     "metadata": {},
     "output_type": "execute_result"
    }
   ],
   "source": [
    "##  create a dataframe\n",
    "# df = pd.read_csv(\"./cleaned_csv1.csv\") \n",
    "df=data.copy()\n",
    "## First Have a look at the data\n",
    "df.head(2)"
   ]
  },
  {
   "cell_type": "code",
   "execution_count": 56,
   "metadata": {
    "ExecuteTime": {
     "end_time": "2022-02-25T09:58:13.458823Z",
     "start_time": "2022-02-25T09:58:13.454690Z"
    },
    "hidden": true
   },
   "outputs": [],
   "source": [
    "df[\"joining_designation\"]=[ str(i) for i in df.joining_designation]"
   ]
  },
  {
   "cell_type": "code",
   "execution_count": 57,
   "metadata": {
    "ExecuteTime": {
     "end_time": "2022-02-25T09:58:13.778483Z",
     "start_time": "2022-02-25T09:58:13.682510Z"
    },
    "hidden": true
   },
   "outputs": [
    {
     "name": "stdout",
     "output_type": "stream",
     "text": [
      "<class 'pandas.core.frame.DataFrame'>\n",
      "RangeIndex: 1409 entries, 0 to 1408\n",
      "Data columns (total 18 columns):\n",
      "emp_id                    1409 non-null int64\n",
      "age                       1409 non-null object\n",
      "gender                    1409 non-null object\n",
      "city                      1409 non-null object\n",
      "education_level           1409 non-null object\n",
      "salary                    1409 non-null object\n",
      "avg_salary                1409 non-null float64\n",
      "dateofjoining             1409 non-null datetime64[ns]\n",
      "lastworking_date          867 non-null datetime64[ns]\n",
      "survival_days             1409 non-null float64\n",
      "left                      1409 non-null int64\n",
      "joining_designation       1409 non-null object\n",
      "designation               1409 non-null object\n",
      "average_business_value    1409 non-null float64\n",
      "total_business_val        1409 non-null object\n",
      "total_quarter_rating      1409 non-null object\n",
      "current_value             1409 non-null int64\n",
      "avg_rating                1409 non-null float64\n",
      "dtypes: datetime64[ns](2), float64(4), int64(3), object(9)\n",
      "memory usage: 198.3+ KB\n"
     ]
    }
   ],
   "source": [
    "df.info()"
   ]
  },
  {
   "cell_type": "code",
   "execution_count": 58,
   "metadata": {
    "ExecuteTime": {
     "end_time": "2022-02-25T09:58:13.878386Z",
     "start_time": "2022-02-25T09:58:13.865584Z"
    },
    "hidden": true
   },
   "outputs": [],
   "source": [
    "# lst0=[]\n",
    "# for i in range(len(df)):\n",
    "#     stdt=df.iloc[i,7]\n",
    "#     endt=df.iloc[i,8]\n",
    "# #     print(endt)\n",
    "# #     print(stdt)\n",
    "#     if int(np.timedelta64(pd.Timestamp(stdt) - pd.Timestamp(\"2015-12-31\") ,'D')/np.timedelta64(1,'D'))>0:\n",
    "#         if endt!=\"nan\":\n",
    "#             lst0.append(int( np.timedelta64(pd.Timestamp(\"2018-01-01\") - pd.Timestamp(stdt) ,'D') / np.timedelta64(1, 'D') )  )\n",
    "\n",
    "#         else:\n",
    "#             lst0.append(int(  np.timedelta64(pd.Timestamp(endt) - (pd.Timestamp(stdt)),'D') / np.timedelta64(1, 'D') ) )\n",
    "\n",
    "#     else:\n",
    "#         lst0.append(\"Left_side\")\n",
    "        \n",
    "# df[\"survival_days\"]=lst0"
   ]
  },
  {
   "cell_type": "code",
   "execution_count": 59,
   "metadata": {
    "ExecuteTime": {
     "end_time": "2022-02-25T09:58:15.793053Z",
     "start_time": "2022-02-25T09:58:15.790583Z"
    },
    "hidden": true
   },
   "outputs": [],
   "source": [
    "# df=df[df.survival_days!=\"Left_side\"]\n",
    "# df.head(2)"
   ]
  },
  {
   "cell_type": "code",
   "execution_count": 60,
   "metadata": {
    "ExecuteTime": {
     "end_time": "2022-02-25T09:58:16.282455Z",
     "start_time": "2022-02-25T09:58:15.975979Z"
    },
    "hidden": true
   },
   "outputs": [
    {
     "data": {
      "text/plain": [
       "(array([ 0.,  2.,  4.,  6.,  8., 10., 12., 14., 16., 18.]),\n",
       " <a list of 10 Text yticklabel objects>)"
      ]
     },
     "execution_count": 60,
     "metadata": {},
     "output_type": "execute_result"
    },
    {
     "data": {
      "image/png": "[encoded data removed]",
      "text/plain": [
       "<Figure size 360x360 with 1 Axes>"
      ]
     },
     "metadata": {
      "needs_background": "light"
     },
     "output_type": "display_data"
    }
   ],
   "source": [
    "sns.catplot(hue=\"left\", y=\"avg_salary\", x=\"left\", kind=\"box\", data=data)\n",
    "\n",
    "plt.xlabel(\"Left or not\",fontsize=20)\n",
    "plt.ylabel(\"Average Salary\",fontsize=20)\n",
    "plt.title(\"Box plot of Average Salary for Censored \\nand Observed data \",fontsize=20)\n",
    "plt.xticks(fontsize=15, color=\"green\")\n",
    "plt.yticks(fontsize=15 , color= \"green\")"
   ]
  },
  {
   "cell_type": "code",
   "execution_count": 61,
   "metadata": {
    "ExecuteTime": {
     "end_time": "2022-02-25T09:58:16.474890Z",
     "start_time": "2022-02-25T09:58:16.284332Z"
    },
    "hidden": true,
    "scrolled": true
   },
   "outputs": [
    {
     "data": {
      "text/plain": [
       "[<matplotlib.lines.Line2D at 0x7f650552de80>]"
      ]
     },
     "execution_count": 61,
     "metadata": {},
     "output_type": "execute_result"
    },
    {
     "data": {
      "image/png": "[encoded data removed]",
      "text/plain": [
       "<Figure size 864x432 with 1 Axes>"
      ]
     },
     "metadata": {
      "needs_background": "light"
     },
     "output_type": "display_data"
    }
   ],
   "source": [
    "plot([i for i in range(len(df))],df.avg_salary,\".\")"
   ]
  },
  {
   "cell_type": "code",
   "execution_count": 62,
   "metadata": {
    "ExecuteTime": {
     "end_time": "2022-02-25T09:58:20.271681Z",
     "start_time": "2022-02-25T09:58:20.269055Z"
    },
    "hidden": true
   },
   "outputs": [],
   "source": [
    "# when the salary list became string\n",
    "\n",
    "# lst=[]\n",
    "# for i in df.salary:\n",
    "#     lst.append(int(i[1:-1].split(\",\")[0])/10000)\n",
    "# df.salary=lst\n",
    "\n",
    "# df[\"avg_salary\"]=[mean(df[\"salary\"][i])/10000 for i in range(len(data))]"
   ]
  },
  {
   "cell_type": "code",
   "execution_count": 63,
   "metadata": {
    "ExecuteTime": {
     "end_time": "2022-02-25T09:58:20.542393Z",
     "start_time": "2022-02-25T09:58:20.528799Z"
    },
    "hidden": true
   },
   "outputs": [],
   "source": [
    "lst1=[]\n",
    "for i in df.survival_days:\n",
    "    j=i/30\n",
    "#     if j-int(j)>0.5:\n",
    "    j=int(j)+1\n",
    "    if j==25:\n",
    "        j=24\n",
    "    lst1.append(int(j))\n",
    "df[\"survival_months\"]=lst1"
   ]
  },
  {
   "cell_type": "code",
   "execution_count": 64,
   "metadata": {
    "ExecuteTime": {
     "end_time": "2022-02-25T09:58:20.804858Z",
     "start_time": "2022-02-25T09:58:20.798845Z"
    },
    "hidden": true
   },
   "outputs": [],
   "source": [
    "# lst2=[]\n",
    "# for i in df.joining_designation:\n",
    "#     lst2.append(str(i))\n",
    "# df.joining_designation=lst2"
   ]
  },
  {
   "cell_type": "code",
   "execution_count": 65,
   "metadata": {
    "ExecuteTime": {
     "end_time": "2022-02-25T09:58:21.025107Z",
     "start_time": "2022-02-25T09:58:21.016384Z"
    },
    "hidden": true
   },
   "outputs": [],
   "source": [
    "# df.drop(\"id\",axis=1,inplace=True)\n",
    "# df.drop(\"emp_id\",axis=1,inplace=True)\n",
    "# df.drop(\"city\",axis=1,inplace=True)\n",
    "# df.drop(\"dateofjoining\",axis=1,inplace=True)\n",
    "# df.drop(\"lastworking_date\",axis=1,inplace=True)\n",
    "# df.drop(\"total_business_val\",axis=1,inplace=True)\n",
    "# df.drop(\"average_business_value\",axis=1,inplace=True)\n",
    "# df.drop(\"total_quarter_rating\",axis=1,inplace=True)\n"
   ]
  },
  {
   "cell_type": "markdown",
   "metadata": {
    "hidden": true
   },
   "source": [
    "        8   lastworking_date        867 non-null    object \n",
    "\n",
    "        9   survival_days           1409 non-null   object "
   ]
  },
  {
   "cell_type": "code",
   "execution_count": 66,
   "metadata": {
    "ExecuteTime": {
     "end_time": "2022-02-25T09:58:22.325989Z",
     "start_time": "2022-02-25T09:58:22.271039Z"
    },
    "hidden": true
   },
   "outputs": [],
   "source": [
    "df.drop([\"emp_id\",\"city\",\"dateofjoining\",\"lastworking_date\",\"designation\",\"total_business_val\",\"survival_days\",\"total_quarter_rating\",\"salary\"],axis=1,inplace=True)\n"
   ]
  },
  {
   "cell_type": "code",
   "execution_count": 67,
   "metadata": {
    "ExecuteTime": {
     "end_time": "2022-02-25T09:58:22.546585Z",
     "start_time": "2022-02-25T09:58:22.496677Z"
    },
    "hidden": true
   },
   "outputs": [
    {
     "name": "stdout",
     "output_type": "stream",
     "text": [
      "['age', 'gender', 'education_level', 'avg_salary', 'left', 'joining_designation', 'average_business_value', 'current_value', 'avg_rating', 'survival_months']\n",
      "['survival_months', 'left', 'avg_rating', 'avg_salary', 'average_business_value', 'current_value', 'gender', 'education_level', 'joining_designation']\n"
     ]
    }
   ],
   "source": [
    "cols = df.columns.tolist()\n",
    "print(cols)\n",
    "cols=cols[9:10]+cols[4:5]+cols[8:9]+cols[3:4]+cols[6:7]+cols[7:8]+cols[1:3]+cols[5:6]\n",
    "print(cols)\n",
    "df = df[cols]"
   ]
  },
  {
   "cell_type": "code",
   "execution_count": 68,
   "metadata": {
    "ExecuteTime": {
     "end_time": "2022-02-25T09:58:23.802495Z",
     "start_time": "2022-02-25T09:58:23.787856Z"
    },
    "hidden": true,
    "scrolled": true
   },
   "outputs": [
    {
     "name": "stdout",
     "output_type": "stream",
     "text": [
      "1409\n"
     ]
    },
    {
     "data": {
      "text/html": [
       "<div>\n",
       "<style scoped>\n",
       "    .dataframe tbody tr th:only-of-type {\n",
       "        vertical-align: middle;\n",
       "    }\n",
       "\n",
       "    .dataframe tbody tr th {\n",
       "        vertical-align: top;\n",
       "    }\n",
       "\n",
       "    .dataframe thead th {\n",
       "        text-align: right;\n",
       "    }\n",
       "</style>\n",
       "<table border=\"1\" class=\"dataframe\">\n",
       "  <thead>\n",
       "    <tr style=\"text-align: right;\">\n",
       "      <th></th>\n",
       "      <th>survival_months</th>\n",
       "      <th>left</th>\n",
       "      <th>avg_rating</th>\n",
       "      <th>avg_salary</th>\n",
       "      <th>average_business_value</th>\n",
       "      <th>current_value</th>\n",
       "      <th>gender</th>\n",
       "      <th>education_level</th>\n",
       "      <th>joining_designation</th>\n",
       "    </tr>\n",
       "  </thead>\n",
       "  <tbody>\n",
       "    <tr>\n",
       "      <th>0</th>\n",
       "      <td>2</td>\n",
       "      <td>0</td>\n",
       "      <td>1.0</td>\n",
       "      <td>6.7016</td>\n",
       "      <td>0.0000</td>\n",
       "      <td>0</td>\n",
       "      <td>Male</td>\n",
       "      <td>Master</td>\n",
       "      <td>2</td>\n",
       "    </tr>\n",
       "    <tr>\n",
       "      <th>1</th>\n",
       "      <td>5</td>\n",
       "      <td>1</td>\n",
       "      <td>1.0</td>\n",
       "      <td>6.5603</td>\n",
       "      <td>0.7000</td>\n",
       "      <td>0</td>\n",
       "      <td>Male</td>\n",
       "      <td>Master</td>\n",
       "      <td>2</td>\n",
       "    </tr>\n",
       "    <tr>\n",
       "      <th>2</th>\n",
       "      <td>2</td>\n",
       "      <td>1</td>\n",
       "      <td>1.0</td>\n",
       "      <td>4.6368</td>\n",
       "      <td>0.4012</td>\n",
       "      <td>0</td>\n",
       "      <td>Male</td>\n",
       "      <td>College</td>\n",
       "      <td>1</td>\n",
       "    </tr>\n",
       "    <tr>\n",
       "      <th>3</th>\n",
       "      <td>6</td>\n",
       "      <td>0</td>\n",
       "      <td>1.6</td>\n",
       "      <td>7.8728</td>\n",
       "      <td>2.5300</td>\n",
       "      <td>0</td>\n",
       "      <td>Female</td>\n",
       "      <td>Bachelor</td>\n",
       "      <td>3</td>\n",
       "    </tr>\n",
       "    <tr>\n",
       "      <th>4</th>\n",
       "      <td>2</td>\n",
       "      <td>1</td>\n",
       "      <td>1.0</td>\n",
       "      <td>7.0656</td>\n",
       "      <td>0.0000</td>\n",
       "      <td>0</td>\n",
       "      <td>Male</td>\n",
       "      <td>College</td>\n",
       "      <td>3</td>\n",
       "    </tr>\n",
       "  </tbody>\n",
       "</table>\n",
       "</div>"
      ],
      "text/plain": [
       "   survival_months  left  avg_rating  avg_salary  average_business_value  \\\n",
       "0                2     0         1.0      6.7016                  0.0000   \n",
       "1                5     1         1.0      6.5603                  0.7000   \n",
       "2                2     1         1.0      4.6368                  0.4012   \n",
       "3                6     0         1.6      7.8728                  2.5300   \n",
       "4                2     1         1.0      7.0656                  0.0000   \n",
       "\n",
       "   current_value  gender education_level joining_designation  \n",
       "0              0    Male          Master                   2  \n",
       "1              0    Male          Master                   2  \n",
       "2              0    Male         College                   1  \n",
       "3              0  Female        Bachelor                   3  \n",
       "4              0    Male         College                   3  "
      ]
     },
     "execution_count": 68,
     "metadata": {},
     "output_type": "execute_result"
    }
   ],
   "source": [
    "print(len(df))\n",
    "df.head()"
   ]
  },
  {
   "cell_type": "code",
   "execution_count": 69,
   "metadata": {
    "ExecuteTime": {
     "end_time": "2022-02-25T09:58:24.066957Z",
     "start_time": "2022-02-25T09:58:24.063508Z"
    },
    "hidden": true
   },
   "outputs": [],
   "source": [
    "# # df.to_csv(\"cox_model.csv\",index=False)\n",
    "# df_1= pd.read_csv(\"cox_model.csv\")\n",
    "# df_1.head()"
   ]
  },
  {
   "cell_type": "code",
   "execution_count": 70,
   "metadata": {
    "ExecuteTime": {
     "end_time": "2022-02-25T09:58:26.305789Z",
     "start_time": "2022-02-25T09:58:26.302906Z"
    },
    "hidden": true
   },
   "outputs": [],
   "source": [
    "## Create a list of Categorical Columns\n",
    "# cat_cols= [i  for i in df.columns if df[i].dtype==object]\n",
    "# all_cols= [i  for i in df.columns]\n",
    "# cat_cols.remove('customerID')  "
   ]
  },
  {
   "cell_type": "code",
   "execution_count": 71,
   "metadata": {
    "ExecuteTime": {
     "end_time": "2022-02-25T09:58:26.533551Z",
     "start_time": "2022-02-25T09:58:26.530183Z"
    },
    "hidden": true
   },
   "outputs": [],
   "source": [
    "## some columns have been removed because those are unique for all the rows.\n",
    "\n",
    "# for i in ['Unnamed: 0', 'emp_id', 'age','salary', 'dateofjoining', 'lastworking_date', 'survival_days',\n",
    "#        'designation','average_business_value', 'total_business_val', 'total_quarter_rating']:\n",
    "#     all_cols.remove(i)  ## customerID has been removed because it is unique for all the rows."
   ]
  },
  {
   "cell_type": "code",
   "execution_count": 72,
   "metadata": {
    "ExecuteTime": {
     "end_time": "2022-02-25T09:58:26.754780Z",
     "start_time": "2022-02-25T09:58:26.747669Z"
    },
    "hidden": true
   },
   "outputs": [],
   "source": [
    "## lets have a look at the categories and their distribution in all the categorical columns.\n",
    "\n",
    "# for i in all_cols:\n",
    "#     print('Column Name:',\"``\", i, \"``\", \" which has\", len(df[i].unique())  , \"unique values\")\n",
    "#     print(df[i].value_counts())\n",
    "#     print('-----------------------------')"
   ]
  },
  {
   "cell_type": "code",
   "execution_count": null,
   "metadata": {
    "hidden": true
   },
   "outputs": [],
   "source": []
  },
  {
   "attachments": {
    "510718ce-4803-430d-8d28-a8fe30edf994.png": {
     "image/png": "[encoded data removed]"
    }
   },
   "cell_type": "markdown",
   "metadata": {
    "heading_collapsed": true
   },
   "source": [
    "# Kaplan Meier curve\n",
    "![download.png](attachment:510718ce-4803-430d-8d28-a8fe30edf994.png)"
   ]
  },
  {
   "cell_type": "code",
   "execution_count": 73,
   "metadata": {
    "ExecuteTime": {
     "end_time": "2022-02-25T09:58:34.940653Z",
     "start_time": "2022-02-25T09:58:32.248035Z"
    },
    "hidden": true
   },
   "outputs": [
    {
     "data": {
      "text/plain": [
       "<matplotlib.axes._subplots.AxesSubplot at 0x7f6505478520>"
      ]
     },
     "execution_count": 73,
     "metadata": {},
     "output_type": "execute_result"
    },
    {
     "data": {
      "image/png": "[encoded data removed]",
      "text/plain": [
       "<Figure size 864x432 with 1 Axes>"
      ]
     },
     "metadata": {
      "needs_background": "light"
     },
     "output_type": "display_data"
    }
   ],
   "source": [
    "## Lets create an overall KaplanMeier curve, without breaking it into groups of covariates.\n",
    "\n",
    "durations = df['survival_months'] ## Time to event data of censored and event data\n",
    "event_observed = df['left']  ## It has the censored (1) and observed is (0)\n",
    "\n",
    "## create a kmf object as km\n",
    "km = KaplanMeierFitter() ## instantiate the class to create an object\n",
    "\n",
    "## Fit the data into the model\n",
    "km.fit(durations, event_observed,label='Kaplan Meier Estimate')\n",
    "\n",
    "## Create an estimate\n",
    "km.plot()"
   ]
  },
  {
   "cell_type": "code",
   "execution_count": 74,
   "metadata": {
    "ExecuteTime": {
     "end_time": "2022-02-25T09:58:34.948235Z",
     "start_time": "2022-02-25T09:58:34.943242Z"
    },
    "hidden": true
   },
   "outputs": [
    {
     "data": {
      "text/plain": [
       "Index(['survival_months', 'left', 'avg_rating', 'avg_salary',\n",
       "       'average_business_value', 'current_value', 'gender', 'education_level',\n",
       "       'joining_designation'],\n",
       "      dtype='object')"
      ]
     },
     "execution_count": 74,
     "metadata": {},
     "output_type": "execute_result"
    }
   ],
   "source": [
    "df.columns"
   ]
  },
  {
   "cell_type": "code",
   "execution_count": 75,
   "metadata": {
    "ExecuteTime": {
     "end_time": "2022-02-25T09:58:35.139479Z",
     "start_time": "2022-02-25T09:58:34.950154Z"
    },
    "hidden": true
   },
   "outputs": [],
   "source": [
    "df_kmf=pd.DataFrame({\"Gender\":df['gender'],\"surv_month\":df['survival_months'],\"left\":df[\"left\"]})"
   ]
  },
  {
   "cell_type": "code",
   "execution_count": 76,
   "metadata": {
    "ExecuteTime": {
     "end_time": "2022-02-25T09:58:35.237874Z",
     "start_time": "2022-02-25T09:58:35.140954Z"
    },
    "hidden": true
   },
   "outputs": [],
   "source": [
    "df_kmf.Gender=df_kmf.Gender.apply(lambda x: 1 if x==\"Male\" else 0)"
   ]
  },
  {
   "cell_type": "code",
   "execution_count": 77,
   "metadata": {
    "ExecuteTime": {
     "end_time": "2022-02-25T09:58:35.339924Z",
     "start_time": "2022-02-25T09:58:35.240092Z"
    },
    "hidden": true
   },
   "outputs": [],
   "source": [
    "df_kmf=df_kmf.sort_values(by=\"surv_month\").reset_index().drop(columns=\"index\")"
   ]
  },
  {
   "cell_type": "code",
   "execution_count": 78,
   "metadata": {
    "ExecuteTime": {
     "end_time": "2022-02-25T09:58:45.862632Z",
     "start_time": "2022-02-25T09:58:45.860069Z"
    },
    "hidden": true
   },
   "outputs": [],
   "source": [
    "# df_kmf"
   ]
  },
  {
   "cell_type": "code",
   "execution_count": 79,
   "metadata": {
    "ExecuteTime": {
     "end_time": "2022-02-25T09:58:50.342107Z",
     "start_time": "2022-02-25T09:58:50.145722Z"
    },
    "hidden": true
   },
   "outputs": [
    {
     "data": {
      "image/png": "[encoded data removed]",
      "text/plain": [
       "<Figure size 864x432 with 1 Axes>"
      ]
     },
     "metadata": {
      "needs_background": "light"
     },
     "output_type": "display_data"
    }
   ],
   "source": [
    "group1=df_kmf[df_kmf['Gender']==1]\n",
    "group2=df_kmf[df_kmf['Gender']==0]\n",
    "T=group1['surv_month']\n",
    "E=group1['left']\n",
    "T1=group2['surv_month']\n",
    "E1=group2['left']\n",
    "\n",
    "kmf=KaplanMeierFitter()\n",
    "ax = plt.subplot(111)\n",
    "ax = kmf.fit(T, E, label=\"Male\").plot(ax=ax)\n",
    "ax = kmf.fit(T1, E1, label=\"Female\").plot(ax=ax)"
   ]
  },
  {
   "cell_type": "code",
   "execution_count": 80,
   "metadata": {
    "ExecuteTime": {
     "end_time": "2022-02-25T09:58:50.376073Z",
     "start_time": "2022-02-25T09:58:50.373908Z"
    },
    "hidden": true
   },
   "outputs": [],
   "source": [
    "from lifelines.statistics import logrank_test,multivariate_logrank_test"
   ]
  },
  {
   "cell_type": "code",
   "execution_count": 81,
   "metadata": {
    "ExecuteTime": {
     "end_time": "2022-02-25T09:58:50.968041Z",
     "start_time": "2022-02-25T09:58:50.596280Z"
    },
    "hidden": true
   },
   "outputs": [],
   "source": [
    "results=logrank_test(durations_A=T,durations_B=T1,event_observed_A=E,event_observed_B=E1)"
   ]
  },
  {
   "cell_type": "code",
   "execution_count": 82,
   "metadata": {
    "ExecuteTime": {
     "end_time": "2022-02-25T09:58:51.384419Z",
     "start_time": "2022-02-25T09:58:50.972119Z"
    },
    "hidden": true
   },
   "outputs": [
    {
     "data": {
      "text/html": [
       "<div>\n",
       "<style scoped>\n",
       "    .dataframe tbody tr th:only-of-type {\n",
       "        vertical-align: middle;\n",
       "    }\n",
       "\n",
       "    .dataframe tbody tr th {\n",
       "        vertical-align: top;\n",
       "    }\n",
       "\n",
       "    .dataframe thead th {\n",
       "        text-align: right;\n",
       "    }\n",
       "</style>\n",
       "<table border=\"1\" class=\"dataframe\">\n",
       "  <tbody>\n",
       "    <tr>\n",
       "      <th>t_0</th>\n",
       "      <td>-1</td>\n",
       "    </tr>\n",
       "    <tr>\n",
       "      <th>null_distribution</th>\n",
       "      <td>chi squared</td>\n",
       "    </tr>\n",
       "    <tr>\n",
       "      <th>degrees_of_freedom</th>\n",
       "      <td>1</td>\n",
       "    </tr>\n",
       "    <tr>\n",
       "      <th>test_name</th>\n",
       "      <td>logrank_test</td>\n",
       "    </tr>\n",
       "  </tbody>\n",
       "</table>\n",
       "</div><table border=\"1\" class=\"dataframe\">\n",
       "  <thead>\n",
       "    <tr style=\"text-align: right;\">\n",
       "      <th></th>\n",
       "      <th>test_statistic</th>\n",
       "      <th>p</th>\n",
       "      <th>-log2(p)</th>\n",
       "    </tr>\n",
       "  </thead>\n",
       "  <tbody>\n",
       "    <tr>\n",
       "      <th>0</th>\n",
       "      <td>1.61</td>\n",
       "      <td>0.21</td>\n",
       "      <td>2.28</td>\n",
       "    </tr>\n",
       "  </tbody>\n",
       "</table>"
      ],
      "text/latex": [
       "\\begin{tabular}{lrrr}\n",
       "\\toprule\n",
       "{} &  test\\_statistic &         p &  -log2(p) \\\\\n",
       "\\midrule\n",
       "0 &        1.605038 &  0.205191 &  2.284963 \\\\\n",
       "\\bottomrule\n",
       "\\end{tabular}\n"
      ],
      "text/plain": [
       "<lifelines.StatisticalResult: logrank_test>\n",
       "               t_0 = -1\n",
       " null_distribution = chi squared\n",
       "degrees_of_freedom = 1\n",
       "         test_name = logrank_test\n",
       "\n",
       "---\n",
       " test_statistic    p  -log2(p)\n",
       "           1.61 0.21      2.28"
      ]
     },
     "metadata": {},
     "output_type": "display_data"
    }
   ],
   "source": [
    "results.print_summary()"
   ]
  },
  {
   "cell_type": "code",
   "execution_count": 83,
   "metadata": {
    "ExecuteTime": {
     "end_time": "2022-02-25T09:58:55.327804Z",
     "start_time": "2022-02-25T09:58:55.325339Z"
    },
    "hidden": true
   },
   "outputs": [],
   "source": [
    "# kmf1 = KaplanMeierFitter()\n",
    "\n",
    "# T = df['survival_months'] \n",
    "# E = df['left']  \n",
    "\n",
    "# ## Two Cohorts are compared. \n",
    "# groups = df['gender']   \n",
    "# i1 = (groups == 'Male')      ## group i1 , having the pandas series for the 1st cohort\n",
    "# i2 = (groups == 'Female')     ## group i2 , having the pandas series for the 2nd cohort\n",
    "\n",
    "# ## fit the model for 1st cohort\n",
    "# kmf1.fit(T[i1], E[i1], label='Male')\n",
    "# a1 = kmf1.plot()\n",
    "\n",
    "# ## fit the model for 2nd cohort\n",
    "# kmf1.fit(T[i2], E[i2], label='Female')\n",
    "# kmf1.plot(ax=a1)"
   ]
  },
  {
   "cell_type": "code",
   "execution_count": 84,
   "metadata": {
    "ExecuteTime": {
     "end_time": "2022-02-25T09:58:55.553468Z",
     "start_time": "2022-02-25T09:58:55.547193Z"
    },
    "hidden": true
   },
   "outputs": [],
   "source": [
    "df_edu_lvl=df[[\"survival_months\",\"education_level\",\"left\"]]"
   ]
  },
  {
   "cell_type": "code",
   "execution_count": 85,
   "metadata": {
    "ExecuteTime": {
     "end_time": "2022-02-25T09:58:55.786434Z",
     "start_time": "2022-02-25T09:58:55.779242Z"
    },
    "hidden": true
   },
   "outputs": [],
   "source": [
    "df_edu_lvl=df_edu_lvl.sort_values(\"survival_months\").reset_index(drop=True)"
   ]
  },
  {
   "cell_type": "code",
   "execution_count": 86,
   "metadata": {
    "ExecuteTime": {
     "end_time": "2022-02-25T09:58:55.990104Z",
     "start_time": "2022-02-25T09:58:55.984888Z"
    },
    "hidden": true
   },
   "outputs": [],
   "source": [
    "def edu_code(x):\n",
    "    if x==\"Bachelor\":\n",
    "        return 0\n",
    "    elif x==\"Master\":\n",
    "        return 1\n",
    "    else:\n",
    "        return 2"
   ]
  },
  {
   "cell_type": "code",
   "execution_count": 87,
   "metadata": {
    "ExecuteTime": {
     "end_time": "2022-02-25T09:58:56.185941Z",
     "start_time": "2022-02-25T09:58:56.180162Z"
    },
    "hidden": true
   },
   "outputs": [],
   "source": [
    "df_edu_lvl.education_level=df_edu_lvl.education_level.apply(edu_code)"
   ]
  },
  {
   "cell_type": "code",
   "execution_count": 88,
   "metadata": {
    "ExecuteTime": {
     "end_time": "2022-02-25T09:58:56.453950Z",
     "start_time": "2022-02-25T09:58:56.395857Z"
    },
    "hidden": true
   },
   "outputs": [],
   "source": [
    "results_edu=multivariate_logrank_test(df_edu_lvl[\"survival_months\"],df_edu_lvl['education_level'],df_edu_lvl['left'])"
   ]
  },
  {
   "cell_type": "code",
   "execution_count": 89,
   "metadata": {
    "ExecuteTime": {
     "end_time": "2022-02-25T09:58:56.612355Z",
     "start_time": "2022-02-25T09:58:56.596389Z"
    },
    "hidden": true
   },
   "outputs": [
    {
     "data": {
      "text/html": [
       "<div>\n",
       "<style scoped>\n",
       "    .dataframe tbody tr th:only-of-type {\n",
       "        vertical-align: middle;\n",
       "    }\n",
       "\n",
       "    .dataframe tbody tr th {\n",
       "        vertical-align: top;\n",
       "    }\n",
       "\n",
       "    .dataframe thead th {\n",
       "        text-align: right;\n",
       "    }\n",
       "</style>\n",
       "<table border=\"1\" class=\"dataframe\">\n",
       "  <tbody>\n",
       "    <tr>\n",
       "      <th>t_0</th>\n",
       "      <td>-1</td>\n",
       "    </tr>\n",
       "    <tr>\n",
       "      <th>null_distribution</th>\n",
       "      <td>chi squared</td>\n",
       "    </tr>\n",
       "    <tr>\n",
       "      <th>degrees_of_freedom</th>\n",
       "      <td>2</td>\n",
       "    </tr>\n",
       "    <tr>\n",
       "      <th>test_name</th>\n",
       "      <td>multivariate_logrank_test</td>\n",
       "    </tr>\n",
       "  </tbody>\n",
       "</table>\n",
       "</div><table border=\"1\" class=\"dataframe\">\n",
       "  <thead>\n",
       "    <tr style=\"text-align: right;\">\n",
       "      <th></th>\n",
       "      <th>test_statistic</th>\n",
       "      <th>p</th>\n",
       "      <th>-log2(p)</th>\n",
       "    </tr>\n",
       "  </thead>\n",
       "  <tbody>\n",
       "    <tr>\n",
       "      <th>0</th>\n",
       "      <td>6.59</td>\n",
       "      <td>0.04</td>\n",
       "      <td>4.75</td>\n",
       "    </tr>\n",
       "  </tbody>\n",
       "</table>"
      ],
      "text/latex": [
       "\\begin{tabular}{lrrr}\n",
       "\\toprule\n",
       "{} &  test\\_statistic &         p &  -log2(p) \\\\\n",
       "\\midrule\n",
       "0 &          6.5859 &  0.037144 &  4.750723 \\\\\n",
       "\\bottomrule\n",
       "\\end{tabular}\n"
      ],
      "text/plain": [
       "<lifelines.StatisticalResult: multivariate_logrank_test>\n",
       "               t_0 = -1\n",
       " null_distribution = chi squared\n",
       "degrees_of_freedom = 2\n",
       "         test_name = multivariate_logrank_test\n",
       "\n",
       "---\n",
       " test_statistic    p  -log2(p)\n",
       "           6.59 0.04      4.75"
      ]
     },
     "metadata": {},
     "output_type": "display_data"
    }
   ],
   "source": [
    "results_edu.print_summary()"
   ]
  },
  {
   "cell_type": "code",
   "execution_count": 90,
   "metadata": {
    "ExecuteTime": {
     "end_time": "2022-02-25T09:59:03.276672Z",
     "start_time": "2022-02-25T09:59:03.274449Z"
    },
    "hidden": true
   },
   "outputs": [],
   "source": [
    "## Do a LOgRank test to justify that both the classes have a similar survival function"
   ]
  },
  {
   "cell_type": "code",
   "execution_count": 91,
   "metadata": {
    "ExecuteTime": {
     "end_time": "2022-02-25T09:59:03.790408Z",
     "start_time": "2022-02-25T09:59:03.507642Z"
    },
    "hidden": true
   },
   "outputs": [
    {
     "data": {
      "text/plain": [
       "<matplotlib.axes._subplots.AxesSubplot at 0x7f65055be8b0>"
      ]
     },
     "execution_count": 91,
     "metadata": {},
     "output_type": "execute_result"
    },
    {
     "data": {
      "image/png": "[encoded data removed]",
      "text/plain": [
       "<Figure size 864x432 with 1 Axes>"
      ]
     },
     "metadata": {
      "needs_background": "light"
     },
     "output_type": "display_data"
    }
   ],
   "source": [
    "kmf2 = KaplanMeierFitter() \n",
    "\n",
    "T = df['survival_months']   \n",
    "E = df['left']     \n",
    "\n",
    "groups = df['education_level']             \n",
    "ix1 = (groups == 'Master') \n",
    "ix2 = (groups == 'Bachelor')         \n",
    "ix3 = (groups == 'College')        \n",
    "\n",
    "kmf2.fit(T[ix1], E[ix1], label='Master')     \n",
    "ax = kmf2.plot(ci_show=False)\n",
    "\n",
    "kmf2.fit(T[ix2], E[ix2], label='Bachelor')          \n",
    "ax1 = kmf2.plot(ax=ax,ci_show=False)\n",
    "\n",
    "kmf2.fit(T[ix3], E[ix3], label='College')         \n",
    "kmf2.plot(ax=ax1,ci_show=False)                                  "
   ]
  },
  {
   "cell_type": "code",
   "execution_count": 92,
   "metadata": {
    "ExecuteTime": {
     "end_time": "2022-02-25T09:59:03.795027Z",
     "start_time": "2022-02-25T09:59:03.792394Z"
    },
    "hidden": true
   },
   "outputs": [],
   "source": [
    "## Do same test here ALSO"
   ]
  },
  {
   "cell_type": "code",
   "execution_count": null,
   "metadata": {
    "hidden": true
   },
   "outputs": [],
   "source": []
  },
  {
   "cell_type": "code",
   "execution_count": 93,
   "metadata": {
    "ExecuteTime": {
     "end_time": "2022-02-25T09:59:12.394167Z",
     "start_time": "2022-02-25T09:59:12.360406Z"
    },
    "hidden": true
   },
   "outputs": [
    {
     "data": {
      "text/plain": [
       "array(['2', '1', '3'], dtype=object)"
      ]
     },
     "execution_count": 93,
     "metadata": {},
     "output_type": "execute_result"
    }
   ],
   "source": [
    "df.joining_designation.unique()"
   ]
  },
  {
   "cell_type": "code",
   "execution_count": null,
   "metadata": {
    "hidden": true
   },
   "outputs": [],
   "source": []
  },
  {
   "cell_type": "code",
   "execution_count": 94,
   "metadata": {
    "ExecuteTime": {
     "end_time": "2022-02-25T09:59:13.341711Z",
     "start_time": "2022-02-25T09:59:13.336782Z"
    },
    "hidden": true
   },
   "outputs": [],
   "source": [
    "df.joining_designation=df.joining_designation.apply(str)"
   ]
  },
  {
   "cell_type": "code",
   "execution_count": 95,
   "metadata": {
    "ExecuteTime": {
     "end_time": "2022-02-25T09:59:13.909133Z",
     "start_time": "2022-02-25T09:59:13.653011Z"
    },
    "hidden": true
   },
   "outputs": [
    {
     "data": {
      "image/png": "[encoded data removed]",
      "text/plain": [
       "<Figure size 864x432 with 1 Axes>"
      ]
     },
     "metadata": {
      "needs_background": "light"
     },
     "output_type": "display_data"
    }
   ],
   "source": [
    "kmf3 = KaplanMeierFitter() \n",
    "\n",
    "T = df['survival_months']      \n",
    "E = df['left']       \n",
    "\n",
    "groups = df['joining_designation']   \n",
    "i1 = (groups == \"1\")     \n",
    "i2 = (groups == \"2\")    \n",
    "i3 = (groups == \"3\")     \n",
    "# i4 = (groups == \"4\")   \n",
    "# i5 = (groups == \"5\")     \n",
    "\n",
    "kmf3.fit(T[i1], E[i1], label='Joining Designation = 1')\n",
    "a1 = kmf3.plot(ci_show=False)\n",
    "kmf3.fit(T[i2], E[i2], label='Joining Designation = 2')\n",
    "a2 = kmf3.plot(ax=a1)\n",
    "kmf3.fit(T[i3], E[i3], label='Joining Designation = 3 and above')\n",
    "a3 = kmf3.plot(ax=a2)\n",
    "# kmf3.fit(T[i4], E[i4], label='groups == 4')\n",
    "# a4 = kmf3.plot(ax=a3,ci_show=False)\n",
    "# kmf3.fit(T[i5], E[i5], label='groups == 5')\n",
    "# kmf3.plot(ax=a4,ci_show=False)\n",
    "\n",
    "# plt.plot([0,25],[0,0])"
   ]
  },
  {
   "cell_type": "code",
   "execution_count": 96,
   "metadata": {
    "ExecuteTime": {
     "end_time": "2022-02-25T09:59:14.350123Z",
     "start_time": "2022-02-25T09:59:14.343111Z"
    },
    "hidden": true
   },
   "outputs": [],
   "source": [
    "df_joining=df[[\"survival_months\",\"joining_designation\",\"left\"]]"
   ]
  },
  {
   "cell_type": "code",
   "execution_count": 97,
   "metadata": {
    "ExecuteTime": {
     "end_time": "2022-02-25T09:59:14.697722Z",
     "start_time": "2022-02-25T09:59:14.647333Z"
    },
    "hidden": true
   },
   "outputs": [],
   "source": [
    "results_joining=multivariate_logrank_test(df_joining[\"survival_months\"],df['joining_designation'],df['left'])"
   ]
  },
  {
   "cell_type": "code",
   "execution_count": 98,
   "metadata": {
    "ExecuteTime": {
     "end_time": "2022-02-25T09:59:48.527575Z",
     "start_time": "2022-02-25T09:59:48.513686Z"
    },
    "hidden": true
   },
   "outputs": [
    {
     "data": {
      "text/html": [
       "<div>\n",
       "<style scoped>\n",
       "    .dataframe tbody tr th:only-of-type {\n",
       "        vertical-align: middle;\n",
       "    }\n",
       "\n",
       "    .dataframe tbody tr th {\n",
       "        vertical-align: top;\n",
       "    }\n",
       "\n",
       "    .dataframe thead th {\n",
       "        text-align: right;\n",
       "    }\n",
       "</style>\n",
       "<table border=\"1\" class=\"dataframe\">\n",
       "  <tbody>\n",
       "    <tr>\n",
       "      <th>t_0</th>\n",
       "      <td>-1</td>\n",
       "    </tr>\n",
       "    <tr>\n",
       "      <th>null_distribution</th>\n",
       "      <td>chi squared</td>\n",
       "    </tr>\n",
       "    <tr>\n",
       "      <th>degrees_of_freedom</th>\n",
       "      <td>2</td>\n",
       "    </tr>\n",
       "    <tr>\n",
       "      <th>test_name</th>\n",
       "      <td>multivariate_logrank_test</td>\n",
       "    </tr>\n",
       "  </tbody>\n",
       "</table>\n",
       "</div><table border=\"1\" class=\"dataframe\">\n",
       "  <thead>\n",
       "    <tr style=\"text-align: right;\">\n",
       "      <th></th>\n",
       "      <th>test_statistic</th>\n",
       "      <th>p</th>\n",
       "      <th>-log2(p)</th>\n",
       "    </tr>\n",
       "  </thead>\n",
       "  <tbody>\n",
       "    <tr>\n",
       "      <th>0</th>\n",
       "      <td>16.15</td>\n",
       "      <td>&lt;0.005</td>\n",
       "      <td>11.65</td>\n",
       "    </tr>\n",
       "  </tbody>\n",
       "</table>"
      ],
      "text/latex": [
       "\\begin{tabular}{lrrr}\n",
       "\\toprule\n",
       "{} &  test\\_statistic &         p &   -log2(p) \\\\\n",
       "\\midrule\n",
       "0 &       16.145825 &  0.000312 &  11.646751 \\\\\n",
       "\\bottomrule\n",
       "\\end{tabular}\n"
      ],
      "text/plain": [
       "<lifelines.StatisticalResult: multivariate_logrank_test>\n",
       "               t_0 = -1\n",
       " null_distribution = chi squared\n",
       "degrees_of_freedom = 2\n",
       "         test_name = multivariate_logrank_test\n",
       "\n",
       "---\n",
       " test_statistic      p  -log2(p)\n",
       "          16.15 <0.005     11.65"
      ]
     },
     "execution_count": 98,
     "metadata": {},
     "output_type": "execute_result"
    }
   ],
   "source": [
    "results_joining"
   ]
  },
  {
   "cell_type": "code",
   "execution_count": null,
   "metadata": {
    "hidden": true
   },
   "outputs": [],
   "source": []
  },
  {
   "cell_type": "code",
   "execution_count": 99,
   "metadata": {
    "ExecuteTime": {
     "end_time": "2022-02-25T09:59:48.959123Z",
     "start_time": "2022-02-25T09:59:48.955160Z"
    },
    "hidden": true
   },
   "outputs": [
    {
     "data": {
      "text/plain": [
       "0"
      ]
     },
     "execution_count": 99,
     "metadata": {},
     "output_type": "execute_result"
    }
   ],
   "source": [
    "sum([df.joining_designation==\"5\"])"
   ]
  },
  {
   "cell_type": "code",
   "execution_count": 100,
   "metadata": {
    "ExecuteTime": {
     "end_time": "2022-02-25T09:59:49.577617Z",
     "start_time": "2022-02-25T09:59:49.572741Z"
    },
    "hidden": true
   },
   "outputs": [],
   "source": [
    "df[\"joining_designation\"]= df[\"joining_designation\"].replace(\"5\",\"4\")"
   ]
  },
  {
   "cell_type": "code",
   "execution_count": 101,
   "metadata": {
    "ExecuteTime": {
     "end_time": "2022-02-25T09:59:49.784067Z",
     "start_time": "2022-02-25T09:59:49.778064Z"
    },
    "hidden": true
   },
   "outputs": [
    {
     "data": {
      "text/plain": [
       "0"
      ]
     },
     "execution_count": 101,
     "metadata": {},
     "output_type": "execute_result"
    }
   ],
   "source": [
    "sum([df.joining_designation==\"5\"])"
   ]
  },
  {
   "cell_type": "code",
   "execution_count": null,
   "metadata": {
    "hidden": true
   },
   "outputs": [],
   "source": []
  },
  {
   "cell_type": "markdown",
   "metadata": {},
   "source": [
    "# Cox Proportional Hazard Model (Survival Regression)"
   ]
  },
  {
   "cell_type": "code",
   "execution_count": 102,
   "metadata": {
    "ExecuteTime": {
     "end_time": "2022-02-25T09:59:52.482629Z",
     "start_time": "2022-02-25T09:59:52.477837Z"
    }
   },
   "outputs": [
    {
     "data": {
      "text/plain": [
       "Index(['survival_months', 'left', 'avg_rating', 'avg_salary',\n",
       "       'average_business_value', 'current_value', 'gender', 'education_level',\n",
       "       'joining_designation'],\n",
       "      dtype='object')"
      ]
     },
     "execution_count": 102,
     "metadata": {},
     "output_type": "execute_result"
    }
   ],
   "source": [
    "df.columns"
   ]
  },
  {
   "cell_type": "code",
   "execution_count": 103,
   "metadata": {
    "ExecuteTime": {
     "end_time": "2022-02-25T09:59:52.785683Z",
     "start_time": "2022-02-25T09:59:52.763163Z"
    }
   },
   "outputs": [
    {
     "data": {
      "text/html": [
       "<div>\n",
       "<style scoped>\n",
       "    .dataframe tbody tr th:only-of-type {\n",
       "        vertical-align: middle;\n",
       "    }\n",
       "\n",
       "    .dataframe tbody tr th {\n",
       "        vertical-align: top;\n",
       "    }\n",
       "\n",
       "    .dataframe thead th {\n",
       "        text-align: right;\n",
       "    }\n",
       "</style>\n",
       "<table border=\"1\" class=\"dataframe\">\n",
       "  <thead>\n",
       "    <tr style=\"text-align: right;\">\n",
       "      <th></th>\n",
       "      <th>survival_months</th>\n",
       "      <th>left</th>\n",
       "      <th>avg_rating</th>\n",
       "      <th>avg_salary</th>\n",
       "      <th>average_business_value</th>\n",
       "      <th>current_value</th>\n",
       "      <th>gender</th>\n",
       "      <th>education_level</th>\n",
       "      <th>joining_designation</th>\n",
       "    </tr>\n",
       "  </thead>\n",
       "  <tbody>\n",
       "    <tr>\n",
       "      <th>0</th>\n",
       "      <td>2</td>\n",
       "      <td>0</td>\n",
       "      <td>1.0</td>\n",
       "      <td>6.7016</td>\n",
       "      <td>0.0000</td>\n",
       "      <td>0</td>\n",
       "      <td>Male</td>\n",
       "      <td>Master</td>\n",
       "      <td>2</td>\n",
       "    </tr>\n",
       "    <tr>\n",
       "      <th>1</th>\n",
       "      <td>5</td>\n",
       "      <td>1</td>\n",
       "      <td>1.0</td>\n",
       "      <td>6.5603</td>\n",
       "      <td>0.7000</td>\n",
       "      <td>0</td>\n",
       "      <td>Male</td>\n",
       "      <td>Master</td>\n",
       "      <td>2</td>\n",
       "    </tr>\n",
       "    <tr>\n",
       "      <th>2</th>\n",
       "      <td>2</td>\n",
       "      <td>1</td>\n",
       "      <td>1.0</td>\n",
       "      <td>4.6368</td>\n",
       "      <td>0.4012</td>\n",
       "      <td>0</td>\n",
       "      <td>Male</td>\n",
       "      <td>College</td>\n",
       "      <td>1</td>\n",
       "    </tr>\n",
       "    <tr>\n",
       "      <th>3</th>\n",
       "      <td>6</td>\n",
       "      <td>0</td>\n",
       "      <td>1.6</td>\n",
       "      <td>7.8728</td>\n",
       "      <td>2.5300</td>\n",
       "      <td>0</td>\n",
       "      <td>Female</td>\n",
       "      <td>Bachelor</td>\n",
       "      <td>3</td>\n",
       "    </tr>\n",
       "    <tr>\n",
       "      <th>4</th>\n",
       "      <td>2</td>\n",
       "      <td>1</td>\n",
       "      <td>1.0</td>\n",
       "      <td>7.0656</td>\n",
       "      <td>0.0000</td>\n",
       "      <td>0</td>\n",
       "      <td>Male</td>\n",
       "      <td>College</td>\n",
       "      <td>3</td>\n",
       "    </tr>\n",
       "  </tbody>\n",
       "</table>\n",
       "</div>"
      ],
      "text/plain": [
       "   survival_months  left  avg_rating  avg_salary  average_business_value  \\\n",
       "0                2     0         1.0      6.7016                  0.0000   \n",
       "1                5     1         1.0      6.5603                  0.7000   \n",
       "2                2     1         1.0      4.6368                  0.4012   \n",
       "3                6     0         1.6      7.8728                  2.5300   \n",
       "4                2     1         1.0      7.0656                  0.0000   \n",
       "\n",
       "   current_value  gender education_level joining_designation  \n",
       "0              0    Male          Master                   2  \n",
       "1              0    Male          Master                   2  \n",
       "2              0    Male         College                   1  \n",
       "3              0  Female        Bachelor                   3  \n",
       "4              0    Male         College                   3  "
      ]
     },
     "execution_count": 103,
     "metadata": {},
     "output_type": "execute_result"
    }
   ],
   "source": [
    "df_r= df.loc[:,:]\n",
    "df_r.head() ## have a look at the data "
   ]
  },
  {
   "cell_type": "code",
   "execution_count": 104,
   "metadata": {
    "ExecuteTime": {
     "end_time": "2022-02-25T09:59:53.045620Z",
     "start_time": "2022-02-25T09:59:53.042596Z"
    }
   },
   "outputs": [],
   "source": [
    "### Question????????????????????????????  why do we need to drop_first = True , at all do we need?"
   ]
  },
  {
   "cell_type": "code",
   "execution_count": 105,
   "metadata": {
    "ExecuteTime": {
     "end_time": "2022-02-25T09:59:53.349013Z",
     "start_time": "2022-02-25T09:59:53.300122Z"
    },
    "scrolled": true
   },
   "outputs": [
    {
     "data": {
      "text/html": [
       "<div>\n",
       "<style scoped>\n",
       "    .dataframe tbody tr th:only-of-type {\n",
       "        vertical-align: middle;\n",
       "    }\n",
       "\n",
       "    .dataframe tbody tr th {\n",
       "        vertical-align: top;\n",
       "    }\n",
       "\n",
       "    .dataframe thead th {\n",
       "        text-align: right;\n",
       "    }\n",
       "</style>\n",
       "<table border=\"1\" class=\"dataframe\">\n",
       "  <thead>\n",
       "    <tr style=\"text-align: right;\">\n",
       "      <th></th>\n",
       "      <th>survival_months</th>\n",
       "      <th>left</th>\n",
       "      <th>avg_rating</th>\n",
       "      <th>avg_salary</th>\n",
       "      <th>average_business_value</th>\n",
       "      <th>current_value</th>\n",
       "      <th>gender_Male</th>\n",
       "      <th>education_level_College</th>\n",
       "      <th>education_level_Master</th>\n",
       "      <th>joining_designation_2</th>\n",
       "      <th>joining_designation_3</th>\n",
       "    </tr>\n",
       "  </thead>\n",
       "  <tbody>\n",
       "    <tr>\n",
       "      <th>0</th>\n",
       "      <td>2</td>\n",
       "      <td>0</td>\n",
       "      <td>1.0</td>\n",
       "      <td>6.7016</td>\n",
       "      <td>0.0000</td>\n",
       "      <td>0</td>\n",
       "      <td>1</td>\n",
       "      <td>0</td>\n",
       "      <td>1</td>\n",
       "      <td>1</td>\n",
       "      <td>0</td>\n",
       "    </tr>\n",
       "    <tr>\n",
       "      <th>1</th>\n",
       "      <td>5</td>\n",
       "      <td>1</td>\n",
       "      <td>1.0</td>\n",
       "      <td>6.5603</td>\n",
       "      <td>0.7000</td>\n",
       "      <td>0</td>\n",
       "      <td>1</td>\n",
       "      <td>0</td>\n",
       "      <td>1</td>\n",
       "      <td>1</td>\n",
       "      <td>0</td>\n",
       "    </tr>\n",
       "    <tr>\n",
       "      <th>2</th>\n",
       "      <td>2</td>\n",
       "      <td>1</td>\n",
       "      <td>1.0</td>\n",
       "      <td>4.6368</td>\n",
       "      <td>0.4012</td>\n",
       "      <td>0</td>\n",
       "      <td>1</td>\n",
       "      <td>1</td>\n",
       "      <td>0</td>\n",
       "      <td>0</td>\n",
       "      <td>0</td>\n",
       "    </tr>\n",
       "    <tr>\n",
       "      <th>3</th>\n",
       "      <td>6</td>\n",
       "      <td>0</td>\n",
       "      <td>1.6</td>\n",
       "      <td>7.8728</td>\n",
       "      <td>2.5300</td>\n",
       "      <td>0</td>\n",
       "      <td>0</td>\n",
       "      <td>0</td>\n",
       "      <td>0</td>\n",
       "      <td>0</td>\n",
       "      <td>1</td>\n",
       "    </tr>\n",
       "    <tr>\n",
       "      <th>4</th>\n",
       "      <td>2</td>\n",
       "      <td>1</td>\n",
       "      <td>1.0</td>\n",
       "      <td>7.0656</td>\n",
       "      <td>0.0000</td>\n",
       "      <td>0</td>\n",
       "      <td>1</td>\n",
       "      <td>1</td>\n",
       "      <td>0</td>\n",
       "      <td>0</td>\n",
       "      <td>1</td>\n",
       "    </tr>\n",
       "  </tbody>\n",
       "</table>\n",
       "</div>"
      ],
      "text/plain": [
       "   survival_months  left  avg_rating  avg_salary  average_business_value  \\\n",
       "0                2     0         1.0      6.7016                  0.0000   \n",
       "1                5     1         1.0      6.5603                  0.7000   \n",
       "2                2     1         1.0      4.6368                  0.4012   \n",
       "3                6     0         1.6      7.8728                  2.5300   \n",
       "4                2     1         1.0      7.0656                  0.0000   \n",
       "\n",
       "   current_value  gender_Male  education_level_College  \\\n",
       "0              0            1                        0   \n",
       "1              0            1                        0   \n",
       "2              0            1                        1   \n",
       "3              0            0                        0   \n",
       "4              0            1                        1   \n",
       "\n",
       "   education_level_Master  joining_designation_2  joining_designation_3  \n",
       "0                       1                      1                      0  \n",
       "1                       1                      1                      0  \n",
       "2                       0                      0                      0  \n",
       "3                       0                      0                      1  \n",
       "4                       0                      0                      1  "
      ]
     },
     "execution_count": 105,
     "metadata": {},
     "output_type": "execute_result"
    }
   ],
   "source": [
    "## Create dummy variables\n",
    "df_dummy = pd.get_dummies(df_r, drop_first=True)\n",
    "df_dummy.head()"
   ]
  },
  {
   "cell_type": "code",
   "execution_count": null,
   "metadata": {},
   "outputs": [],
   "source": [
    "# df_dummy.iloc[]"
   ]
  },
  {
   "cell_type": "markdown",
   "metadata": {
    "heading_collapsed": true
   },
   "source": [
    "### Final corelation "
   ]
  },
  {
   "cell_type": "code",
   "execution_count": 125,
   "metadata": {
    "ExecuteTime": {
     "end_time": "2022-02-25T10:31:27.088299Z",
     "start_time": "2022-02-25T10:31:27.086144Z"
    },
    "hidden": true
   },
   "outputs": [],
   "source": [
    "# plt.figure(figsize=(6,4))\n",
    "\n",
    "# corr= df_dummy.dropna().corr()\n",
    "# sns.heatmap(tech_rets_corr, annot=True, fmt='.2f')\n",
    "# plt.show()"
   ]
  },
  {
   "cell_type": "code",
   "execution_count": 123,
   "metadata": {
    "ExecuteTime": {
     "end_time": "2022-02-25T10:31:14.888179Z",
     "start_time": "2022-02-25T10:31:14.842982Z"
    },
    "hidden": true
   },
   "outputs": [],
   "source": [
    "# corr_1= np.zeros([len(corr),len(corr)])\n",
    "# for i in range(len(corr)):\n",
    "#     for j in range(i+1):\n",
    "#         a=corr.iloc[i,j]\n",
    "#         if a>0.5 or a< -0.5 :\n",
    "#             corr_1[i,j]= a\n",
    "        "
   ]
  },
  {
   "cell_type": "code",
   "execution_count": 124,
   "metadata": {
    "ExecuteTime": {
     "end_time": "2022-02-25T10:31:21.021850Z",
     "start_time": "2022-02-25T10:31:21.019786Z"
    },
    "hidden": true
   },
   "outputs": [],
   "source": [
    "# high = pd.DataFrame(corr_1)\n",
    "# plt.figure(figsize=(10,10))\n",
    "\n",
    "# # tech_rets_corr= high.dropna().corr()\n",
    "# sns.heatmap(high, annot=True, fmt='.2f')\n",
    "# plt.show()"
   ]
  },
  {
   "cell_type": "markdown",
   "metadata": {},
   "source": [
    "### Whole Model  "
   ]
  },
  {
   "cell_type": "code",
   "execution_count": 106,
   "metadata": {
    "ExecuteTime": {
     "end_time": "2022-02-25T09:59:54.195364Z",
     "start_time": "2022-02-25T09:59:53.529966Z"
    },
    "scrolled": false
   },
   "outputs": [
    {
     "data": {
      "text/html": [
       "<div>\n",
       "<style scoped>\n",
       "    .dataframe tbody tr th:only-of-type {\n",
       "        vertical-align: middle;\n",
       "    }\n",
       "\n",
       "    .dataframe tbody tr th {\n",
       "        vertical-align: top;\n",
       "    }\n",
       "\n",
       "    .dataframe thead th {\n",
       "        text-align: right;\n",
       "    }\n",
       "</style>\n",
       "<table border=\"1\" class=\"dataframe\">\n",
       "  <tbody>\n",
       "    <tr>\n",
       "      <th>model</th>\n",
       "      <td>lifelines.CoxPHFitter</td>\n",
       "    </tr>\n",
       "    <tr>\n",
       "      <th>duration col</th>\n",
       "      <td>'survival_months'</td>\n",
       "    </tr>\n",
       "    <tr>\n",
       "      <th>event col</th>\n",
       "      <td>'left'</td>\n",
       "    </tr>\n",
       "    <tr>\n",
       "      <th>baseline estimation</th>\n",
       "      <td>breslow</td>\n",
       "    </tr>\n",
       "    <tr>\n",
       "      <th>number of observations</th>\n",
       "      <td>1409</td>\n",
       "    </tr>\n",
       "    <tr>\n",
       "      <th>number of events observed</th>\n",
       "      <td>867</td>\n",
       "    </tr>\n",
       "    <tr>\n",
       "      <th>partial log-likelihood</th>\n",
       "      <td>-5210.66</td>\n",
       "    </tr>\n",
       "    <tr>\n",
       "      <th>time fit was run</th>\n",
       "      <td>2022-02-25 09:59:53 UTC</td>\n",
       "    </tr>\n",
       "  </tbody>\n",
       "</table>\n",
       "</div><table border=\"1\" class=\"dataframe\">\n",
       "  <thead>\n",
       "    <tr style=\"text-align: right;\">\n",
       "      <th style=\"min-width: 12px;\"></th>\n",
       "      <th style=\"min-width: 12px;\">coef</th>\n",
       "      <th style=\"min-width: 12px;\">exp(coef)</th>\n",
       "      <th style=\"min-width: 12px;\">se(coef)</th>\n",
       "      <th style=\"min-width: 12px;\">coef lower 95%</th>\n",
       "      <th style=\"min-width: 12px;\">coef upper 95%</th>\n",
       "      <th style=\"min-width: 12px;\">exp(coef) lower 95%</th>\n",
       "      <th style=\"min-width: 12px;\">exp(coef) upper 95%</th>\n",
       "      <th style=\"min-width: 12px;\">z</th>\n",
       "      <th style=\"min-width: 12px;\">p</th>\n",
       "      <th style=\"min-width: 12px;\">-log2(p)</th>\n",
       "    </tr>\n",
       "  </thead>\n",
       "  <tbody>\n",
       "    <tr>\n",
       "      <th>avg_rating</th>\n",
       "      <td>-1.04</td>\n",
       "      <td>0.35</td>\n",
       "      <td>0.19</td>\n",
       "      <td>-1.40</td>\n",
       "      <td>-0.67</td>\n",
       "      <td>0.25</td>\n",
       "      <td>0.51</td>\n",
       "      <td>-5.55</td>\n",
       "      <td>&lt;0.005</td>\n",
       "      <td>25.08</td>\n",
       "    </tr>\n",
       "    <tr>\n",
       "      <th>avg_salary</th>\n",
       "      <td>-0.01</td>\n",
       "      <td>0.99</td>\n",
       "      <td>0.02</td>\n",
       "      <td>-0.04</td>\n",
       "      <td>0.02</td>\n",
       "      <td>0.96</td>\n",
       "      <td>1.02</td>\n",
       "      <td>-0.59</td>\n",
       "      <td>0.56</td>\n",
       "      <td>0.85</td>\n",
       "    </tr>\n",
       "    <tr>\n",
       "      <th>average_business_value</th>\n",
       "      <td>-0.12</td>\n",
       "      <td>0.89</td>\n",
       "      <td>0.04</td>\n",
       "      <td>-0.21</td>\n",
       "      <td>-0.03</td>\n",
       "      <td>0.81</td>\n",
       "      <td>0.97</td>\n",
       "      <td>-2.72</td>\n",
       "      <td>0.01</td>\n",
       "      <td>7.24</td>\n",
       "    </tr>\n",
       "    <tr>\n",
       "      <th>current_value</th>\n",
       "      <td>-1.27</td>\n",
       "      <td>0.28</td>\n",
       "      <td>0.12</td>\n",
       "      <td>-1.51</td>\n",
       "      <td>-1.04</td>\n",
       "      <td>0.22</td>\n",
       "      <td>0.35</td>\n",
       "      <td>-10.63</td>\n",
       "      <td>&lt;0.005</td>\n",
       "      <td>85.26</td>\n",
       "    </tr>\n",
       "    <tr>\n",
       "      <th>gender_Male</th>\n",
       "      <td>0.03</td>\n",
       "      <td>1.03</td>\n",
       "      <td>0.07</td>\n",
       "      <td>-0.11</td>\n",
       "      <td>0.16</td>\n",
       "      <td>0.89</td>\n",
       "      <td>1.18</td>\n",
       "      <td>0.36</td>\n",
       "      <td>0.72</td>\n",
       "      <td>0.48</td>\n",
       "    </tr>\n",
       "    <tr>\n",
       "      <th>education_level_College</th>\n",
       "      <td>0.04</td>\n",
       "      <td>1.05</td>\n",
       "      <td>0.08</td>\n",
       "      <td>-0.12</td>\n",
       "      <td>0.21</td>\n",
       "      <td>0.89</td>\n",
       "      <td>1.23</td>\n",
       "      <td>0.53</td>\n",
       "      <td>0.60</td>\n",
       "      <td>0.74</td>\n",
       "    </tr>\n",
       "    <tr>\n",
       "      <th>education_level_Master</th>\n",
       "      <td>0.14</td>\n",
       "      <td>1.15</td>\n",
       "      <td>0.08</td>\n",
       "      <td>-0.03</td>\n",
       "      <td>0.30</td>\n",
       "      <td>0.97</td>\n",
       "      <td>1.36</td>\n",
       "      <td>1.64</td>\n",
       "      <td>0.10</td>\n",
       "      <td>3.31</td>\n",
       "    </tr>\n",
       "    <tr>\n",
       "      <th>joining_designation_2</th>\n",
       "      <td>-0.03</td>\n",
       "      <td>0.97</td>\n",
       "      <td>0.09</td>\n",
       "      <td>-0.20</td>\n",
       "      <td>0.14</td>\n",
       "      <td>0.82</td>\n",
       "      <td>1.15</td>\n",
       "      <td>-0.33</td>\n",
       "      <td>0.74</td>\n",
       "      <td>0.43</td>\n",
       "    </tr>\n",
       "    <tr>\n",
       "      <th>joining_designation_3</th>\n",
       "      <td>-0.25</td>\n",
       "      <td>0.78</td>\n",
       "      <td>0.12</td>\n",
       "      <td>-0.48</td>\n",
       "      <td>-0.02</td>\n",
       "      <td>0.62</td>\n",
       "      <td>0.98</td>\n",
       "      <td>-2.14</td>\n",
       "      <td>0.03</td>\n",
       "      <td>4.93</td>\n",
       "    </tr>\n",
       "  </tbody>\n",
       "</table><br><div>\n",
       "<style scoped>\n",
       "    .dataframe tbody tr th:only-of-type {\n",
       "        vertical-align: middle;\n",
       "    }\n",
       "\n",
       "    .dataframe tbody tr th {\n",
       "        vertical-align: top;\n",
       "    }\n",
       "\n",
       "    .dataframe thead th {\n",
       "        text-align: right;\n",
       "    }\n",
       "</style>\n",
       "<table border=\"1\" class=\"dataframe\">\n",
       "  <tbody>\n",
       "    <tr>\n",
       "      <th>Concordance</th>\n",
       "      <td>0.80</td>\n",
       "    </tr>\n",
       "    <tr>\n",
       "      <th>Partial AIC</th>\n",
       "      <td>10439.32</td>\n",
       "    </tr>\n",
       "    <tr>\n",
       "      <th>log-likelihood ratio test</th>\n",
       "      <td>812.68 on 9 df</td>\n",
       "    </tr>\n",
       "    <tr>\n",
       "      <th>-log2(p) of ll-ratio test</th>\n",
       "      <td>559.42</td>\n",
       "    </tr>\n",
       "  </tbody>\n",
       "</table>\n",
       "</div>"
      ],
      "text/latex": [
       "\\begin{tabular}{lrrrrrrrrrr}\n",
       "\\toprule\n",
       "{} &  coef &  exp(coef) &  se(coef) &  coef lower 95\\% &  coef upper 95\\% &  exp(coef) lower 95\\% &  exp(coef) upper 95\\% &      z &    p &  -log2(p) \\\\\n",
       "covariate               &       &            &           &                 &                 &                      &                      &        &      &           \\\\\n",
       "\\midrule\n",
       "avg\\_rating              & -1.04 &       0.35 &      0.19 &           -1.40 &           -0.67 &                 0.25 &                 0.51 &  -5.55 & 0.00 &     25.08 \\\\\n",
       "avg\\_salary              & -0.01 &       0.99 &      0.02 &           -0.04 &            0.02 &                 0.96 &                 1.02 &  -0.59 & 0.56 &      0.85 \\\\\n",
       "average\\_business\\_value  & -0.12 &       0.89 &      0.04 &           -0.21 &           -0.03 &                 0.81 &                 0.97 &  -2.72 & 0.01 &      7.24 \\\\\n",
       "current\\_value           & -1.27 &       0.28 &      0.12 &           -1.51 &           -1.04 &                 0.22 &                 0.35 & -10.63 & 0.00 &     85.26 \\\\\n",
       "gender\\_Male             &  0.03 &       1.03 &      0.07 &           -0.11 &            0.16 &                 0.89 &                 1.18 &   0.36 & 0.72 &      0.48 \\\\\n",
       "education\\_level\\_College &  0.04 &       1.05 &      0.08 &           -0.12 &            0.21 &                 0.89 &                 1.23 &   0.53 & 0.60 &      0.74 \\\\\n",
       "education\\_level\\_Master  &  0.14 &       1.15 &      0.08 &           -0.03 &            0.30 &                 0.97 &                 1.36 &   1.64 & 0.10 &      3.31 \\\\\n",
       "joining\\_designation\\_2   & -0.03 &       0.97 &      0.09 &           -0.20 &            0.14 &                 0.82 &                 1.15 &  -0.33 & 0.74 &      0.43 \\\\\n",
       "joining\\_designation\\_3   & -0.25 &       0.78 &      0.12 &           -0.48 &           -0.02 &                 0.62 &                 0.98 &  -2.14 & 0.03 &      4.93 \\\\\n",
       "\\bottomrule\n",
       "\\end{tabular}\n"
      ],
      "text/plain": [
       "<lifelines.CoxPHFitter: fitted with 1409 total observations, 542 right-censored observations>\n",
       "             duration col = 'survival_months'\n",
       "                event col = 'left'\n",
       "      baseline estimation = breslow\n",
       "   number of observations = 1409\n",
       "number of events observed = 867\n",
       "   partial log-likelihood = -5210.66\n",
       "         time fit was run = 2022-02-25 09:59:53 UTC\n",
       "\n",
       "---\n",
       "                          coef  exp(coef)   se(coef)   coef lower 95%   coef upper 95%  exp(coef) lower 95%  exp(coef) upper 95%\n",
       "covariate                                                                                                                       \n",
       "avg_rating               -1.04       0.35       0.19            -1.40            -0.67                 0.25                 0.51\n",
       "avg_salary               -0.01       0.99       0.02            -0.04             0.02                 0.96                 1.02\n",
       "average_business_value   -0.12       0.89       0.04            -0.21            -0.03                 0.81                 0.97\n",
       "current_value            -1.27       0.28       0.12            -1.51            -1.04                 0.22                 0.35\n",
       "gender_Male               0.03       1.03       0.07            -0.11             0.16                 0.89                 1.18\n",
       "education_level_College   0.04       1.05       0.08            -0.12             0.21                 0.89                 1.23\n",
       "education_level_Master    0.14       1.15       0.08            -0.03             0.30                 0.97                 1.36\n",
       "joining_designation_2    -0.03       0.97       0.09            -0.20             0.14                 0.82                 1.15\n",
       "joining_designation_3    -0.25       0.78       0.12            -0.48            -0.02                 0.62                 0.98\n",
       "\n",
       "                             z      p   -log2(p)\n",
       "covariate                                       \n",
       "avg_rating               -5.55 <0.005      25.08\n",
       "avg_salary               -0.59   0.56       0.85\n",
       "average_business_value   -2.72   0.01       7.24\n",
       "current_value           -10.63 <0.005      85.26\n",
       "gender_Male               0.36   0.72       0.48\n",
       "education_level_College   0.53   0.60       0.74\n",
       "education_level_Master    1.64   0.10       3.31\n",
       "joining_designation_2    -0.33   0.74       0.43\n",
       "joining_designation_3    -2.14   0.03       4.93\n",
       "---\n",
       "Concordance = 0.80\n",
       "Partial AIC = 10439.32\n",
       "log-likelihood ratio test = 812.68 on 9 df\n",
       "-log2(p) of ll-ratio test = 559.42"
      ]
     },
     "metadata": {},
     "output_type": "display_data"
    }
   ],
   "source": [
    "# Using Cox Proportional Hazards model\n",
    "cph = CoxPHFitter()   ## Instantiate the class to create a cph object\n",
    "cph.fit(df_dummy, 'survival_months', event_col='left')   ## Fit the data to train the model\n",
    "cph.print_summary()    ## HAve a look at the significance of the features"
   ]
  },
  {
   "cell_type": "code",
   "execution_count": 126,
   "metadata": {
    "ExecuteTime": {
     "end_time": "2022-02-25T10:32:55.795753Z",
     "start_time": "2022-02-25T10:32:54.737152Z"
    }
   },
   "outputs": [
    {
     "data": {
      "text/plain": [
       "<matplotlib.axes._subplots.AxesSubplot at 0x7f650101d3a0>"
      ]
     },
     "execution_count": 126,
     "metadata": {},
     "output_type": "execute_result"
    },
    {
     "data": {
      "image/png": "[encoded data removed]",
      "text/plain": [
       "<Figure size 864x432 with 1 Axes>"
      ]
     },
     "metadata": {
      "needs_background": "light"
     },
     "output_type": "display_data"
    }
   ],
   "source": [
    "cph.plot()"
   ]
  },
  {
   "cell_type": "code",
   "execution_count": 135,
   "metadata": {
    "ExecuteTime": {
     "end_time": "2022-02-25T10:33:23.553745Z",
     "start_time": "2022-02-25T10:33:23.549628Z"
    }
   },
   "outputs": [],
   "source": [
    "# avg_rating                -0.974045\n",
    "# avg_salary                -0.007772\n",
    "# average_business_value    -0.104021\n",
    "# current_value             -1.219619\n",
    "# gender_Male                0.026638\n",
    "# education_level_College    0.047647\n",
    "# education_level_Master     0.125612\n",
    "# joining_designation_2     -0.025181\n",
    "# joining_designation_3     -0.216061\n",
    "# dtype: float64"
   ]
  },
  {
   "cell_type": "markdown",
   "metadata": {},
   "source": [
    "###  Prediction"
   ]
  },
  {
   "cell_type": "code",
   "execution_count": 136,
   "metadata": {
    "ExecuteTime": {
     "end_time": "2022-02-25T10:33:46.746816Z",
     "start_time": "2022-02-25T10:33:46.744450Z"
    }
   },
   "outputs": [],
   "source": [
    "# cph.variance_matrix_"
   ]
  },
  {
   "cell_type": "code",
   "execution_count": 137,
   "metadata": {
    "ExecuteTime": {
     "end_time": "2022-02-25T10:33:47.049658Z",
     "start_time": "2022-02-25T10:33:47.042798Z"
    }
   },
   "outputs": [],
   "source": [
    "# plt.figure(figsize=(15,15))\n",
    "# sns.heatmap(cph.variance_matrix_, annot=True, fmt='.2f')\n",
    "# plt.show()"
   ]
  },
  {
   "cell_type": "code",
   "execution_count": 138,
   "metadata": {
    "ExecuteTime": {
     "end_time": "2022-02-25T10:33:47.311874Z",
     "start_time": "2022-02-25T10:33:47.301432Z"
    }
   },
   "outputs": [
    {
     "data": {
      "text/html": [
       "<div>\n",
       "<style scoped>\n",
       "    .dataframe tbody tr th:only-of-type {\n",
       "        vertical-align: middle;\n",
       "    }\n",
       "\n",
       "    .dataframe tbody tr th {\n",
       "        vertical-align: top;\n",
       "    }\n",
       "\n",
       "    .dataframe thead th {\n",
       "        text-align: right;\n",
       "    }\n",
       "</style>\n",
       "<table border=\"1\" class=\"dataframe\">\n",
       "  <thead>\n",
       "    <tr style=\"text-align: right;\">\n",
       "      <th></th>\n",
       "      <th>avg_rating</th>\n",
       "      <th>avg_salary</th>\n",
       "      <th>average_business_value</th>\n",
       "      <th>current_value</th>\n",
       "      <th>gender_Male</th>\n",
       "      <th>education_level_College</th>\n",
       "      <th>education_level_Master</th>\n",
       "      <th>joining_designation_2</th>\n",
       "      <th>joining_designation_3</th>\n",
       "    </tr>\n",
       "  </thead>\n",
       "  <tbody>\n",
       "    <tr>\n",
       "      <th>6</th>\n",
       "      <td>2.5</td>\n",
       "      <td>2.8116</td>\n",
       "      <td>4.345300</td>\n",
       "      <td>0</td>\n",
       "      <td>1</td>\n",
       "      <td>0</td>\n",
       "      <td>1</td>\n",
       "      <td>0</td>\n",
       "      <td>0</td>\n",
       "    </tr>\n",
       "    <tr>\n",
       "      <th>7</th>\n",
       "      <td>1.0</td>\n",
       "      <td>1.9734</td>\n",
       "      <td>0.000000</td>\n",
       "      <td>0</td>\n",
       "      <td>0</td>\n",
       "      <td>1</td>\n",
       "      <td>0</td>\n",
       "      <td>0</td>\n",
       "      <td>1</td>\n",
       "    </tr>\n",
       "    <tr>\n",
       "      <th>8</th>\n",
       "      <td>1.0</td>\n",
       "      <td>3.1631</td>\n",
       "      <td>0.000000</td>\n",
       "      <td>0</td>\n",
       "      <td>0</td>\n",
       "      <td>0</td>\n",
       "      <td>0</td>\n",
       "      <td>0</td>\n",
       "      <td>0</td>\n",
       "    </tr>\n",
       "    <tr>\n",
       "      <th>9</th>\n",
       "      <td>1.0</td>\n",
       "      <td>4.0342</td>\n",
       "      <td>0.000000</td>\n",
       "      <td>0</td>\n",
       "      <td>0</td>\n",
       "      <td>1</td>\n",
       "      <td>0</td>\n",
       "      <td>0</td>\n",
       "      <td>1</td>\n",
       "    </tr>\n",
       "    <tr>\n",
       "      <th>10</th>\n",
       "      <td>1.0</td>\n",
       "      <td>6.9457</td>\n",
       "      <td>0.000000</td>\n",
       "      <td>0</td>\n",
       "      <td>1</td>\n",
       "      <td>0</td>\n",
       "      <td>0</td>\n",
       "      <td>0</td>\n",
       "      <td>1</td>\n",
       "    </tr>\n",
       "    <tr>\n",
       "      <th>11</th>\n",
       "      <td>1.5</td>\n",
       "      <td>6.5189</td>\n",
       "      <td>1.584900</td>\n",
       "      <td>1</td>\n",
       "      <td>0</td>\n",
       "      <td>0</td>\n",
       "      <td>1</td>\n",
       "      <td>0</td>\n",
       "      <td>1</td>\n",
       "    </tr>\n",
       "    <tr>\n",
       "      <th>12</th>\n",
       "      <td>1.5</td>\n",
       "      <td>6.5813</td>\n",
       "      <td>1.190025</td>\n",
       "      <td>0</td>\n",
       "      <td>0</td>\n",
       "      <td>0</td>\n",
       "      <td>0</td>\n",
       "      <td>1</td>\n",
       "      <td>0</td>\n",
       "    </tr>\n",
       "    <tr>\n",
       "      <th>13</th>\n",
       "      <td>1.0</td>\n",
       "      <td>6.8070</td>\n",
       "      <td>1.000000</td>\n",
       "      <td>0</td>\n",
       "      <td>1</td>\n",
       "      <td>0</td>\n",
       "      <td>0</td>\n",
       "      <td>0</td>\n",
       "      <td>1</td>\n",
       "    </tr>\n",
       "    <tr>\n",
       "      <th>14</th>\n",
       "      <td>2.0</td>\n",
       "      <td>3.2865</td>\n",
       "      <td>3.055521</td>\n",
       "      <td>1</td>\n",
       "      <td>0</td>\n",
       "      <td>0</td>\n",
       "      <td>0</td>\n",
       "      <td>1</td>\n",
       "      <td>0</td>\n",
       "    </tr>\n",
       "    <tr>\n",
       "      <th>15</th>\n",
       "      <td>1.0</td>\n",
       "      <td>5.7375</td>\n",
       "      <td>1.083367</td>\n",
       "      <td>0</td>\n",
       "      <td>0</td>\n",
       "      <td>0</td>\n",
       "      <td>0</td>\n",
       "      <td>1</td>\n",
       "      <td>0</td>\n",
       "    </tr>\n",
       "  </tbody>\n",
       "</table>\n",
       "</div>"
      ],
      "text/plain": [
       "    avg_rating  avg_salary  average_business_value  current_value  \\\n",
       "6          2.5      2.8116                4.345300              0   \n",
       "7          1.0      1.9734                0.000000              0   \n",
       "8          1.0      3.1631                0.000000              0   \n",
       "9          1.0      4.0342                0.000000              0   \n",
       "10         1.0      6.9457                0.000000              0   \n",
       "11         1.5      6.5189                1.584900              1   \n",
       "12         1.5      6.5813                1.190025              0   \n",
       "13         1.0      6.8070                1.000000              0   \n",
       "14         2.0      3.2865                3.055521              1   \n",
       "15         1.0      5.7375                1.083367              0   \n",
       "\n",
       "    gender_Male  education_level_College  education_level_Master  \\\n",
       "6             1                        0                       1   \n",
       "7             0                        1                       0   \n",
       "8             0                        0                       0   \n",
       "9             0                        1                       0   \n",
       "10            1                        0                       0   \n",
       "11            0                        0                       1   \n",
       "12            0                        0                       0   \n",
       "13            1                        0                       0   \n",
       "14            0                        0                       0   \n",
       "15            0                        0                       0   \n",
       "\n",
       "    joining_designation_2  joining_designation_3  \n",
       "6                       0                      0  \n",
       "7                       0                      1  \n",
       "8                       0                      0  \n",
       "9                       0                      1  \n",
       "10                      0                      1  \n",
       "11                      0                      1  \n",
       "12                      1                      0  \n",
       "13                      0                      1  \n",
       "14                      1                      0  \n",
       "15                      1                      0  "
      ]
     },
     "execution_count": 138,
     "metadata": {},
     "output_type": "execute_result"
    }
   ],
   "source": [
    "## We want to see the Survival curve at the customer level. Therefore, we have selected 6 customers (rows 5 till 9).\n",
    "\n",
    "tr_rows = df_dummy.iloc[6:16, 2:]\n",
    "tr_rows"
   ]
  },
  {
   "cell_type": "code",
   "execution_count": 139,
   "metadata": {
    "ExecuteTime": {
     "end_time": "2022-02-25T10:33:47.703376Z",
     "start_time": "2022-02-25T10:33:47.680972Z"
    }
   },
   "outputs": [
    {
     "data": {
      "text/html": [
       "<div>\n",
       "<style scoped>\n",
       "    .dataframe tbody tr th:only-of-type {\n",
       "        vertical-align: middle;\n",
       "    }\n",
       "\n",
       "    .dataframe tbody tr th {\n",
       "        vertical-align: top;\n",
       "    }\n",
       "\n",
       "    .dataframe thead th {\n",
       "        text-align: right;\n",
       "    }\n",
       "</style>\n",
       "<table border=\"1\" class=\"dataframe\">\n",
       "  <thead>\n",
       "    <tr style=\"text-align: right;\">\n",
       "      <th></th>\n",
       "      <th>avg_rating</th>\n",
       "      <th>avg_salary</th>\n",
       "      <th>average_business_value</th>\n",
       "      <th>current_value</th>\n",
       "    </tr>\n",
       "  </thead>\n",
       "  <tbody>\n",
       "    <tr>\n",
       "      <th>6</th>\n",
       "      <td>2.5</td>\n",
       "      <td>2.8116</td>\n",
       "      <td>4.345300</td>\n",
       "      <td>0</td>\n",
       "    </tr>\n",
       "    <tr>\n",
       "      <th>14</th>\n",
       "      <td>2.0</td>\n",
       "      <td>3.2865</td>\n",
       "      <td>3.055521</td>\n",
       "      <td>1</td>\n",
       "    </tr>\n",
       "    <tr>\n",
       "      <th>15</th>\n",
       "      <td>1.0</td>\n",
       "      <td>5.7375</td>\n",
       "      <td>1.083367</td>\n",
       "      <td>0</td>\n",
       "    </tr>\n",
       "  </tbody>\n",
       "</table>\n",
       "</div>"
      ],
      "text/plain": [
       "    avg_rating  avg_salary  average_business_value  current_value\n",
       "6          2.5      2.8116                4.345300              0\n",
       "14         2.0      3.2865                3.055521              1\n",
       "15         1.0      5.7375                1.083367              0"
      ]
     },
     "execution_count": 139,
     "metadata": {},
     "output_type": "execute_result"
    }
   ],
   "source": [
    "tr_rows.iloc[[0,8,9],:4]"
   ]
  },
  {
   "cell_type": "code",
   "execution_count": 140,
   "metadata": {
    "ExecuteTime": {
     "end_time": "2022-02-25T10:33:48.635771Z",
     "start_time": "2022-02-25T10:33:48.633161Z"
    }
   },
   "outputs": [],
   "source": [
    "## Lets predict the survival curve for the selected employee. \n",
    "## Customers can be identified with the help of the number mentioned against each curve.\n",
    "# cph.predict_survival_function(tr_rows).plot()"
   ]
  },
  {
   "cell_type": "code",
   "execution_count": 141,
   "metadata": {
    "ExecuteTime": {
     "end_time": "2022-02-25T10:33:48.845322Z",
     "start_time": "2022-02-25T10:33:48.822637Z"
    }
   },
   "outputs": [
    {
     "data": {
      "text/html": [
       "<div>\n",
       "<style scoped>\n",
       "    .dataframe tbody tr th:only-of-type {\n",
       "        vertical-align: middle;\n",
       "    }\n",
       "\n",
       "    .dataframe tbody tr th {\n",
       "        vertical-align: top;\n",
       "    }\n",
       "\n",
       "    .dataframe thead th {\n",
       "        text-align: right;\n",
       "    }\n",
       "</style>\n",
       "<table border=\"1\" class=\"dataframe\">\n",
       "  <thead>\n",
       "    <tr style=\"text-align: right;\">\n",
       "      <th></th>\n",
       "      <th>6</th>\n",
       "      <th>7</th>\n",
       "      <th>8</th>\n",
       "      <th>9</th>\n",
       "      <th>10</th>\n",
       "      <th>11</th>\n",
       "      <th>12</th>\n",
       "      <th>13</th>\n",
       "      <th>14</th>\n",
       "      <th>15</th>\n",
       "    </tr>\n",
       "  </thead>\n",
       "  <tbody>\n",
       "    <tr>\n",
       "      <th>1.0</th>\n",
       "      <td>0.991321</td>\n",
       "      <td>0.952599</td>\n",
       "      <td>0.942816</td>\n",
       "      <td>0.953551</td>\n",
       "      <td>0.955702</td>\n",
       "      <td>0.993006</td>\n",
       "      <td>0.971877</td>\n",
       "      <td>0.960585</td>\n",
       "      <td>0.996083</td>\n",
       "      <td>0.952263</td>\n",
       "    </tr>\n",
       "    <tr>\n",
       "      <th>2.0</th>\n",
       "      <td>0.972051</td>\n",
       "      <td>0.853915</td>\n",
       "      <td>0.825725</td>\n",
       "      <td>0.856693</td>\n",
       "      <td>0.862994</td>\n",
       "      <td>0.977435</td>\n",
       "      <td>0.911405</td>\n",
       "      <td>0.877417</td>\n",
       "      <td>0.987316</td>\n",
       "      <td>0.852938</td>\n",
       "    </tr>\n",
       "    <tr>\n",
       "      <th>3.0</th>\n",
       "      <td>0.938772</td>\n",
       "      <td>0.703277</td>\n",
       "      <td>0.652576</td>\n",
       "      <td>0.708387</td>\n",
       "      <td>0.720053</td>\n",
       "      <td>0.950399</td>\n",
       "      <td>0.813202</td>\n",
       "      <td>0.747152</td>\n",
       "      <td>0.971949</td>\n",
       "      <td>0.701485</td>\n",
       "    </tr>\n",
       "    <tr>\n",
       "      <th>4.0</th>\n",
       "      <td>0.896695</td>\n",
       "      <td>0.544723</td>\n",
       "      <td>0.478736</td>\n",
       "      <td>0.551572</td>\n",
       "      <td>0.567341</td>\n",
       "      <td>0.915949</td>\n",
       "      <td>0.699880</td>\n",
       "      <td>0.604690</td>\n",
       "      <td>0.952085</td>\n",
       "      <td>0.542329</td>\n",
       "    </tr>\n",
       "    <tr>\n",
       "      <th>5.0</th>\n",
       "      <td>0.838787</td>\n",
       "      <td>0.375535</td>\n",
       "      <td>0.304955</td>\n",
       "      <td>0.383177</td>\n",
       "      <td>0.400993</td>\n",
       "      <td>0.868014</td>\n",
       "      <td>0.562522</td>\n",
       "      <td>0.444404</td>\n",
       "      <td>0.923889</td>\n",
       "      <td>0.372878</td>\n",
       "    </tr>\n",
       "  </tbody>\n",
       "</table>\n",
       "</div>"
      ],
      "text/plain": [
       "           6         7         8         9         10        11        12  \\\n",
       "1.0  0.991321  0.952599  0.942816  0.953551  0.955702  0.993006  0.971877   \n",
       "2.0  0.972051  0.853915  0.825725  0.856693  0.862994  0.977435  0.911405   \n",
       "3.0  0.938772  0.703277  0.652576  0.708387  0.720053  0.950399  0.813202   \n",
       "4.0  0.896695  0.544723  0.478736  0.551572  0.567341  0.915949  0.699880   \n",
       "5.0  0.838787  0.375535  0.304955  0.383177  0.400993  0.868014  0.562522   \n",
       "\n",
       "           13        14        15  \n",
       "1.0  0.960585  0.996083  0.952263  \n",
       "2.0  0.877417  0.987316  0.852938  \n",
       "3.0  0.747152  0.971949  0.701485  \n",
       "4.0  0.604690  0.952085  0.542329  \n",
       "5.0  0.444404  0.923889  0.372878  "
      ]
     },
     "execution_count": 141,
     "metadata": {},
     "output_type": "execute_result"
    }
   ],
   "source": [
    "cph.predict_survival_function(tr_rows).head()"
   ]
  },
  {
   "cell_type": "code",
   "execution_count": 142,
   "metadata": {
    "ExecuteTime": {
     "end_time": "2022-02-25T10:33:49.197991Z",
     "start_time": "2022-02-25T10:33:49.017634Z"
    }
   },
   "outputs": [
    {
     "data": {
      "text/plain": [
       "<matplotlib.legend.Legend at 0x7f6500fc62e0>"
      ]
     },
     "execution_count": 142,
     "metadata": {},
     "output_type": "execute_result"
    },
    {
     "data": {
      "image/png": "[encoded data removed]",
      "text/plain": [
       "<Figure size 576x360 with 1 Axes>"
      ]
     },
     "metadata": {
      "needs_background": "light"
     },
     "output_type": "display_data"
    }
   ],
   "source": [
    "# As if I want to compare 2 different perdons Hazards function, now...\n",
    "x=6       # the first person\n",
    "y=14       # the 2nd person\n",
    "z= 15\n",
    "plt.figure(figsize=(8,5))\n",
    "l=cph.predict_survival_function(tr_rows)[x]\n",
    "l1=cph.predict_survival_function(tr_rows)[y]\n",
    "l2=cph.predict_survival_function(tr_rows)[z]\n",
    "plt.plot(l,label= \"Person ID: \" +str(x))\n",
    "plt.plot(l1,label= \"Person ID: \" + str(y))\n",
    "plt.plot(l2,label= \"Person ID: \" + str(z))\n",
    "plt.title(\"Employee-specific survival function\")\n",
    "plt.legend()"
   ]
  },
  {
   "cell_type": "code",
   "execution_count": 143,
   "metadata": {
    "ExecuteTime": {
     "end_time": "2022-02-25T10:35:45.083755Z",
     "start_time": "2022-02-25T10:35:44.847894Z"
    }
   },
   "outputs": [
    {
     "data": {
      "text/plain": [
       "-3.698125416952334"
      ]
     },
     "execution_count": 143,
     "metadata": {},
     "output_type": "execute_result"
    }
   ],
   "source": [
    "# cph.score(rossi_train)\n",
    "cph.score(df_dummy)"
   ]
  },
  {
   "cell_type": "code",
   "execution_count": 147,
   "metadata": {
    "ExecuteTime": {
     "end_time": "2022-02-25T10:39:46.036731Z",
     "start_time": "2022-02-25T10:39:46.032466Z"
    }
   },
   "outputs": [],
   "source": [
    "#axes = cph.check_assumptions(df_dummy, show_plots=True)"
   ]
  },
  {
   "cell_type": "code",
   "execution_count": null,
   "metadata": {},
   "outputs": [],
   "source": []
  },
  {
   "cell_type": "code",
   "execution_count": null,
   "metadata": {},
   "outputs": [],
   "source": []
  },
  {
   "cell_type": "markdown",
   "metadata": {
    "heading_collapsed": true
   },
   "source": [
    "# Measuring the Performance of Survival Models"
   ]
  },
  {
   "cell_type": "code",
   "execution_count": 148,
   "metadata": {
    "ExecuteTime": {
     "end_time": "2022-02-25T10:40:22.774305Z",
     "start_time": "2022-02-25T10:40:22.768589Z"
    },
    "hidden": true
   },
   "outputs": [],
   "source": [
    "#!pip install scikit-survival"
   ]
  },
  {
   "cell_type": "code",
   "execution_count": 149,
   "metadata": {
    "ExecuteTime": {
     "end_time": "2022-02-25T10:40:23.225467Z",
     "start_time": "2022-02-25T10:40:23.141433Z"
    },
    "hidden": true
   },
   "outputs": [],
   "source": [
    "df_dummy1= df_dummy.copy()\n",
    "df_dummy1=df_dummy1.sort_values(by=\"survival_months\", ascending=True)\n",
    "df_dummy1.left= df_dummy1.left.apply(lambda x: True if x==1 else False)\n",
    "a=df_dummy1.set_index([\"left\",\"survival_months\"])\n",
    "data_y=np.array(a.index, dtype=[('Status', '?'), ('Survival_in_months', '<f8')])"
   ]
  },
  {
   "cell_type": "code",
   "execution_count": 150,
   "metadata": {
    "ExecuteTime": {
     "end_time": "2022-02-25T10:40:23.514533Z",
     "start_time": "2022-02-25T10:40:23.502837Z"
    },
    "hidden": true
   },
   "outputs": [
    {
     "data": {
      "text/plain": [
       "array([( True,  1.), ( True,  1.), ( True,  1.), ..., (False, 24.),\n",
       "       (False, 24.), (False, 24.)],\n",
       "      dtype=[('Status', '?'), ('Survival_in_months', '<f8')])"
      ]
     },
     "execution_count": 150,
     "metadata": {},
     "output_type": "execute_result"
    }
   ],
   "source": [
    "data_y"
   ]
  },
  {
   "cell_type": "code",
   "execution_count": 151,
   "metadata": {
    "ExecuteTime": {
     "end_time": "2022-02-25T10:40:26.987467Z",
     "start_time": "2022-02-25T10:40:26.985355Z"
    },
    "hidden": true
   },
   "outputs": [],
   "source": [
    "# data_y= np.zeros((len(df_dummy) , 2))\n",
    "# rf.unstructured_to_structured(data_y)\n",
    "# for i in range(len(df_dummy)):\n",
    "#     data_y[i]= tuple( [df_dummy.iloc[i,1] , df_dummy.iloc[i,0]] )"
   ]
  },
  {
   "cell_type": "code",
   "execution_count": 152,
   "metadata": {
    "ExecuteTime": {
     "end_time": "2022-02-25T10:40:31.309244Z",
     "start_time": "2022-02-25T10:40:31.305553Z"
    },
    "hidden": true
   },
   "outputs": [],
   "source": [
    "data_x=df_dummy1.iloc[:,2:]"
   ]
  },
  {
   "cell_type": "code",
   "execution_count": 153,
   "metadata": {
    "ExecuteTime": {
     "end_time": "2022-02-25T10:40:44.384155Z",
     "start_time": "2022-02-25T10:40:32.425326Z"
    },
    "hidden": true
   },
   "outputs": [
    {
     "data": {
      "text/plain": [
       "CoxPHSurvivalAnalysis()"
      ]
     },
     "execution_count": 153,
     "metadata": {},
     "output_type": "execute_result"
    }
   ],
   "source": [
    "from sksurv.linear_model import CoxPHSurvivalAnalysis\n",
    "\n",
    "estimator = CoxPHSurvivalAnalysis()\n",
    "estimator.fit(data_x, data_y)"
   ]
  },
  {
   "cell_type": "code",
   "execution_count": 154,
   "metadata": {
    "ExecuteTime": {
     "end_time": "2022-02-25T10:40:44.554580Z",
     "start_time": "2022-02-25T10:40:44.388638Z"
    },
    "hidden": true
   },
   "outputs": [
    {
     "data": {
      "text/plain": [
       "0.8003304393413454"
      ]
     },
     "execution_count": 154,
     "metadata": {},
     "output_type": "execute_result"
    }
   ],
   "source": [
    "from sksurv.metrics import concordance_index_censored\n",
    "\n",
    "prediction = estimator.predict(data_x)\n",
    "result = concordance_index_censored(data_y[\"Status\"], data_y[\"Survival_in_months\"], prediction)\n",
    "result[0]"
   ]
  },
  {
   "cell_type": "code",
   "execution_count": 155,
   "metadata": {
    "ExecuteTime": {
     "end_time": "2022-02-25T10:40:44.687775Z",
     "start_time": "2022-02-25T10:40:44.564860Z"
    },
    "hidden": true
   },
   "outputs": [
    {
     "data": {
      "text/plain": [
       "0.8003304393413454"
      ]
     },
     "execution_count": 155,
     "metadata": {},
     "output_type": "execute_result"
    }
   ],
   "source": [
    "estimator.score(data_x, data_y)"
   ]
  },
  {
   "cell_type": "code",
   "execution_count": 156,
   "metadata": {
    "ExecuteTime": {
     "end_time": "2022-02-25T10:40:44.786130Z",
     "start_time": "2022-02-25T10:40:44.706436Z"
    },
    "hidden": true
   },
   "outputs": [
    {
     "data": {
      "text/plain": [
       "array([ 1.,  1.,  1., ..., 24., 24., 24.])"
      ]
     },
     "execution_count": 156,
     "metadata": {},
     "output_type": "execute_result"
    }
   ],
   "source": [
    "data_y[\"Survival_in_months\"]"
   ]
  },
  {
   "cell_type": "code",
   "execution_count": 157,
   "metadata": {
    "ExecuteTime": {
     "end_time": "2022-02-25T10:40:44.881561Z",
     "start_time": "2022-02-25T10:40:44.787794Z"
    },
    "hidden": true,
    "scrolled": true
   },
   "outputs": [],
   "source": [
    "#list(prediction)"
   ]
  },
  {
   "cell_type": "markdown",
   "metadata": {
    "heading_collapsed": true
   },
   "source": [
    "# Feature Selection: Which Variable is Most Predictive?"
   ]
  },
  {
   "cell_type": "code",
   "execution_count": 158,
   "metadata": {
    "ExecuteTime": {
     "end_time": "2022-02-25T10:40:46.473251Z",
     "start_time": "2022-02-25T10:40:45.716710Z"
    },
    "hidden": true
   },
   "outputs": [
    {
     "data": {
      "text/plain": [
       "average_business_value     0.813212\n",
       "avg_rating                 0.741244\n",
       "current_value              0.676032\n",
       "avg_salary                 0.562179\n",
       "joining_designation_3      0.537836\n",
       "education_level_College    0.523045\n",
       "joining_designation_2      0.522168\n",
       "gender_Male                0.511090\n",
       "education_level_Master     0.502353\n",
       "dtype: float64"
      ]
     },
     "execution_count": 158,
     "metadata": {},
     "output_type": "execute_result"
    }
   ],
   "source": [
    "import numpy as np\n",
    "\n",
    "def fit_and_score_features(X, y):\n",
    "    n_features = X.shape[1]\n",
    "    scores = np.empty(n_features)\n",
    "    m = CoxPHSurvivalAnalysis()\n",
    "    for j in range(n_features):\n",
    "        Xj = X[:, j:j+1]\n",
    "        m.fit(Xj, y)\n",
    "        scores[j] = m.score(Xj, y)\n",
    "    return scores\n",
    "\n",
    "scores = fit_and_score_features(data_x.values, data_y)\n",
    "pd.Series(scores, index=data_x.columns).sort_values(ascending=False)"
   ]
  },
  {
   "cell_type": "code",
   "execution_count": 159,
   "metadata": {
    "ExecuteTime": {
     "end_time": "2022-02-25T10:40:47.396828Z",
     "start_time": "2022-02-25T10:40:46.919371Z"
    },
    "hidden": true
   },
   "outputs": [],
   "source": [
    "from sklearn.feature_selection import SelectKBest\n",
    "from sklearn.pipeline import Pipeline\n",
    "from sksurv.preprocessing import OneHotEncoder\n",
    "\n",
    "\n",
    "\n",
    "pipe = Pipeline([('encode', OneHotEncoder()),\n",
    "                 ('select', SelectKBest(fit_and_score_features, k=3)),\n",
    "                 ('model', CoxPHSurvivalAnalysis())])"
   ]
  },
  {
   "cell_type": "code",
   "execution_count": 160,
   "metadata": {
    "ExecuteTime": {
     "end_time": "2022-02-25T10:40:47.411197Z",
     "start_time": "2022-02-25T10:40:47.400938Z"
    },
    "hidden": true
   },
   "outputs": [
    {
     "data": {
      "text/plain": [
       "Pipeline(steps=[('encode', OneHotEncoder()),\n",
       "                ('select',\n",
       "                 SelectKBest(k=3,\n",
       "                             score_func=<function fit_and_score_features at 0x7f64facaddc0>)),\n",
       "                ('model', CoxPHSurvivalAnalysis())])"
      ]
     },
     "execution_count": 160,
     "metadata": {},
     "output_type": "execute_result"
    }
   ],
   "source": [
    "pipe"
   ]
  },
  {
   "cell_type": "code",
   "execution_count": 161,
   "metadata": {
    "ExecuteTime": {
     "end_time": "2022-02-25T10:41:04.361123Z",
     "start_time": "2022-02-25T10:40:47.614982Z"
    },
    "hidden": true
   },
   "outputs": [
    {
     "data": {
      "text/html": [
       "<div>\n",
       "<style scoped>\n",
       "    .dataframe tbody tr th:only-of-type {\n",
       "        vertical-align: middle;\n",
       "    }\n",
       "\n",
       "    .dataframe tbody tr th {\n",
       "        vertical-align: top;\n",
       "    }\n",
       "\n",
       "    .dataframe thead th {\n",
       "        text-align: right;\n",
       "    }\n",
       "</style>\n",
       "<table border=\"1\" class=\"dataframe\">\n",
       "  <thead>\n",
       "    <tr style=\"text-align: right;\">\n",
       "      <th></th>\n",
       "      <th>param_select__k</th>\n",
       "      <th>params</th>\n",
       "      <th>split0_test_score</th>\n",
       "      <th>split1_test_score</th>\n",
       "      <th>split2_test_score</th>\n",
       "      <th>mean_test_score</th>\n",
       "      <th>std_test_score</th>\n",
       "      <th>rank_test_score</th>\n",
       "      <th>split0_train_score</th>\n",
       "      <th>split1_train_score</th>\n",
       "      <th>split2_train_score</th>\n",
       "      <th>mean_train_score</th>\n",
       "      <th>std_train_score</th>\n",
       "    </tr>\n",
       "  </thead>\n",
       "  <tbody>\n",
       "    <tr>\n",
       "      <th>2</th>\n",
       "      <td>3</td>\n",
       "      <td>{'select__k': 3}</td>\n",
       "      <td>0.819668</td>\n",
       "      <td>0.824093</td>\n",
       "      <td>0.805752</td>\n",
       "      <td>0.816504</td>\n",
       "      <td>0.007815</td>\n",
       "      <td>1</td>\n",
       "      <td>0.815023</td>\n",
       "      <td>0.812795</td>\n",
       "      <td>0.822762</td>\n",
       "      <td>0.816860</td>\n",
       "      <td>0.004272</td>\n",
       "    </tr>\n",
       "    <tr>\n",
       "      <th>1</th>\n",
       "      <td>2</td>\n",
       "      <td>{'select__k': 2}</td>\n",
       "      <td>0.811747</td>\n",
       "      <td>0.824460</td>\n",
       "      <td>0.804306</td>\n",
       "      <td>0.813504</td>\n",
       "      <td>0.008321</td>\n",
       "      <td>2</td>\n",
       "      <td>0.814016</td>\n",
       "      <td>0.808344</td>\n",
       "      <td>0.819117</td>\n",
       "      <td>0.813825</td>\n",
       "      <td>0.004400</td>\n",
       "    </tr>\n",
       "    <tr>\n",
       "      <th>0</th>\n",
       "      <td>1</td>\n",
       "      <td>{'select__k': 1}</td>\n",
       "      <td>0.813448</td>\n",
       "      <td>0.823870</td>\n",
       "      <td>0.801650</td>\n",
       "      <td>0.812989</td>\n",
       "      <td>0.009077</td>\n",
       "      <td>3</td>\n",
       "      <td>0.812881</td>\n",
       "      <td>0.807869</td>\n",
       "      <td>0.818727</td>\n",
       "      <td>0.813159</td>\n",
       "      <td>0.004437</td>\n",
       "    </tr>\n",
       "    <tr>\n",
       "      <th>4</th>\n",
       "      <td>5</td>\n",
       "      <td>{'select__k': 5}</td>\n",
       "      <td>0.807703</td>\n",
       "      <td>0.804190</td>\n",
       "      <td>0.803831</td>\n",
       "      <td>0.805242</td>\n",
       "      <td>0.001747</td>\n",
       "      <td>4</td>\n",
       "      <td>0.801761</td>\n",
       "      <td>0.807481</td>\n",
       "      <td>0.807948</td>\n",
       "      <td>0.805730</td>\n",
       "      <td>0.002813</td>\n",
       "    </tr>\n",
       "    <tr>\n",
       "      <th>3</th>\n",
       "      <td>4</td>\n",
       "      <td>{'select__k': 4}</td>\n",
       "      <td>0.804370</td>\n",
       "      <td>0.805340</td>\n",
       "      <td>0.801843</td>\n",
       "      <td>0.803851</td>\n",
       "      <td>0.001474</td>\n",
       "      <td>5</td>\n",
       "      <td>0.801210</td>\n",
       "      <td>0.802953</td>\n",
       "      <td>0.808988</td>\n",
       "      <td>0.804384</td>\n",
       "      <td>0.003333</td>\n",
       "    </tr>\n",
       "    <tr>\n",
       "      <th>5</th>\n",
       "      <td>6</td>\n",
       "      <td>{'select__k': 6}</td>\n",
       "      <td>0.800843</td>\n",
       "      <td>0.798888</td>\n",
       "      <td>0.803430</td>\n",
       "      <td>0.801054</td>\n",
       "      <td>0.001860</td>\n",
       "      <td>6</td>\n",
       "      <td>0.800940</td>\n",
       "      <td>0.804044</td>\n",
       "      <td>0.804668</td>\n",
       "      <td>0.803217</td>\n",
       "      <td>0.001630</td>\n",
       "    </tr>\n",
       "    <tr>\n",
       "      <th>6</th>\n",
       "      <td>7</td>\n",
       "      <td>{'select__k': 7}</td>\n",
       "      <td>0.783816</td>\n",
       "      <td>0.789188</td>\n",
       "      <td>0.801783</td>\n",
       "      <td>0.791596</td>\n",
       "      <td>0.007530</td>\n",
       "      <td>7</td>\n",
       "      <td>0.798984</td>\n",
       "      <td>0.799915</td>\n",
       "      <td>0.804005</td>\n",
       "      <td>0.800968</td>\n",
       "      <td>0.002181</td>\n",
       "    </tr>\n",
       "    <tr>\n",
       "      <th>8</th>\n",
       "      <td>9</td>\n",
       "      <td>{'select__k': 9}</td>\n",
       "      <td>0.781681</td>\n",
       "      <td>0.785279</td>\n",
       "      <td>0.802540</td>\n",
       "      <td>0.789833</td>\n",
       "      <td>0.009104</td>\n",
       "      <td>8</td>\n",
       "      <td>0.798434</td>\n",
       "      <td>0.799623</td>\n",
       "      <td>0.805991</td>\n",
       "      <td>0.801349</td>\n",
       "      <td>0.003318</td>\n",
       "    </tr>\n",
       "    <tr>\n",
       "      <th>7</th>\n",
       "      <td>8</td>\n",
       "      <td>{'select__k': 8}</td>\n",
       "      <td>0.781901</td>\n",
       "      <td>0.780163</td>\n",
       "      <td>0.802406</td>\n",
       "      <td>0.788157</td>\n",
       "      <td>0.010101</td>\n",
       "      <td>9</td>\n",
       "      <td>0.798171</td>\n",
       "      <td>0.798933</td>\n",
       "      <td>0.804740</td>\n",
       "      <td>0.800615</td>\n",
       "      <td>0.002934</td>\n",
       "    </tr>\n",
       "  </tbody>\n",
       "</table>\n",
       "</div>"
      ],
      "text/plain": [
       "  param_select__k            params  split0_test_score  split1_test_score  \\\n",
       "2               3  {'select__k': 3}           0.819668           0.824093   \n",
       "1               2  {'select__k': 2}           0.811747           0.824460   \n",
       "0               1  {'select__k': 1}           0.813448           0.823870   \n",
       "4               5  {'select__k': 5}           0.807703           0.804190   \n",
       "3               4  {'select__k': 4}           0.804370           0.805340   \n",
       "5               6  {'select__k': 6}           0.800843           0.798888   \n",
       "6               7  {'select__k': 7}           0.783816           0.789188   \n",
       "8               9  {'select__k': 9}           0.781681           0.785279   \n",
       "7               8  {'select__k': 8}           0.781901           0.780163   \n",
       "\n",
       "   split2_test_score  mean_test_score  std_test_score  rank_test_score  \\\n",
       "2           0.805752         0.816504        0.007815                1   \n",
       "1           0.804306         0.813504        0.008321                2   \n",
       "0           0.801650         0.812989        0.009077                3   \n",
       "4           0.803831         0.805242        0.001747                4   \n",
       "3           0.801843         0.803851        0.001474                5   \n",
       "5           0.803430         0.801054        0.001860                6   \n",
       "6           0.801783         0.791596        0.007530                7   \n",
       "8           0.802540         0.789833        0.009104                8   \n",
       "7           0.802406         0.788157        0.010101                9   \n",
       "\n",
       "   split0_train_score  split1_train_score  split2_train_score  \\\n",
       "2            0.815023            0.812795            0.822762   \n",
       "1            0.814016            0.808344            0.819117   \n",
       "0            0.812881            0.807869            0.818727   \n",
       "4            0.801761            0.807481            0.807948   \n",
       "3            0.801210            0.802953            0.808988   \n",
       "5            0.800940            0.804044            0.804668   \n",
       "6            0.798984            0.799915            0.804005   \n",
       "8            0.798434            0.799623            0.805991   \n",
       "7            0.798171            0.798933            0.804740   \n",
       "\n",
       "   mean_train_score  std_train_score  \n",
       "2          0.816860         0.004272  \n",
       "1          0.813825         0.004400  \n",
       "0          0.813159         0.004437  \n",
       "4          0.805730         0.002813  \n",
       "3          0.804384         0.003333  \n",
       "5          0.803217         0.001630  \n",
       "6          0.800968         0.002181  \n",
       "8          0.801349         0.003318  \n",
       "7          0.800615         0.002934  "
      ]
     },
     "execution_count": 161,
     "metadata": {},
     "output_type": "execute_result"
    }
   ],
   "source": [
    "from sklearn.model_selection import GridSearchCV, KFold\n",
    "\n",
    "param_grid = {'select__k': np.arange(1, data_x.shape[1] + 1)}\n",
    "cv = KFold(n_splits=3, random_state=1, shuffle=True)\n",
    "gcv = GridSearchCV(pipe, param_grid, return_train_score=True, cv=cv)\n",
    "gcv.fit(data_x, data_y)\n",
    "\n",
    "results = pd.DataFrame(gcv.cv_results_).sort_values(by='mean_test_score', ascending=False)\n",
    "results.loc[:, ~results.columns.str.endswith(\"_time\")]"
   ]
  },
  {
   "cell_type": "code",
   "execution_count": 162,
   "metadata": {
    "ExecuteTime": {
     "end_time": "2022-02-25T10:41:04.367753Z",
     "start_time": "2022-02-25T10:41:04.364304Z"
    },
    "hidden": true
   },
   "outputs": [
    {
     "name": "stdout",
     "output_type": "stream",
     "text": [
      "{'select__k': 3}\n"
     ]
    }
   ],
   "source": [
    "print(gcv.best_params_)"
   ]
  },
  {
   "cell_type": "code",
   "execution_count": 163,
   "metadata": {
    "ExecuteTime": {
     "end_time": "2022-02-25T10:41:05.479577Z",
     "start_time": "2022-02-25T10:41:04.369811Z"
    },
    "hidden": true
   },
   "outputs": [
    {
     "data": {
      "text/plain": [
       "avg_rating               -0.855271\n",
       "average_business_value   -0.131511\n",
       "current_value            -1.225115\n",
       "dtype: float64"
      ]
     },
     "execution_count": 163,
     "metadata": {},
     "output_type": "execute_result"
    }
   ],
   "source": [
    "pipe.set_params(**gcv.best_params_)\n",
    "pipe.fit(data_x, data_y)\n",
    "\n",
    "encoder, transformer, final_estimator = [s[1] for s in pipe.steps]\n",
    "pd.Series(final_estimator.coef_, index=encoder.encoded_columns_[transformer.get_support()])\n"
   ]
  },
  {
   "cell_type": "code",
   "execution_count": null,
   "metadata": {
    "ExecuteTime": {
     "end_time": "2022-02-25T10:41:05.488671Z",
     "start_time": "2022-02-25T10:41:02.858Z"
    },
    "hidden": true
   },
   "outputs": [],
   "source": [
    "a=[ 1.,  2.,  3.,  4.,  5.,  6.,  7.,  8.,  9., 10., 11., 12., 13.,\n",
    "       14., 15., 16., 17., 18., 19., 20., 22., 23., 24.]\n",
    "b=[8.75460603e-01, 6.49235099e-01, 3.82498176e-01, 1.92205931e-01,\n",
    "       7.13145108e-02, 2.44129041e-02, 9.85615936e-03, 3.47969254e-03,\n",
    "       1.85334666e-03, 8.37452793e-04, 4.23253179e-04, 1.35679059e-04,\n",
    "       4.94853848e-05, 2.28343693e-05, 6.08347254e-06, 2.91146767e-06,\n",
    "       4.89363251e-07, 1.19917395e-07, 2.61240654e-08, 2.61240654e-08,\n",
    "       2.31060224e-15, 2.31060224e-15, 2.31060224e-15]\n",
    "plot(a,b)"
   ]
  },
  {
   "cell_type": "code",
   "execution_count": null,
   "metadata": {
    "ExecuteTime": {
     "end_time": "2022-02-25T10:41:05.491340Z",
     "start_time": "2022-02-25T10:41:04.155Z"
    },
    "hidden": true
   },
   "outputs": [],
   "source": [
    "final_estimator.baseline_survival_"
   ]
  },
  {
   "cell_type": "code",
   "execution_count": null,
   "metadata": {
    "ExecuteTime": {
     "end_time": "2022-02-25T10:41:05.493006Z",
     "start_time": "2022-02-25T10:41:05.346Z"
    },
    "hidden": true
   },
   "outputs": [],
   "source": [
    "df_dummy"
   ]
  },
  {
   "cell_type": "code",
   "execution_count": 165,
   "metadata": {
    "ExecuteTime": {
     "end_time": "2022-02-25T10:41:06.649753Z",
     "start_time": "2022-02-25T10:41:06.640363Z"
    },
    "hidden": true
   },
   "outputs": [
    {
     "data": {
      "text/html": [
       "<div>\n",
       "<style scoped>\n",
       "    .dataframe tbody tr th:only-of-type {\n",
       "        vertical-align: middle;\n",
       "    }\n",
       "\n",
       "    .dataframe tbody tr th {\n",
       "        vertical-align: top;\n",
       "    }\n",
       "\n",
       "    .dataframe thead th {\n",
       "        text-align: right;\n",
       "    }\n",
       "</style>\n",
       "<table border=\"1\" class=\"dataframe\">\n",
       "  <thead>\n",
       "    <tr style=\"text-align: right;\">\n",
       "      <th></th>\n",
       "      <th>avg_rating</th>\n",
       "      <th>average_business_value</th>\n",
       "      <th>current_value</th>\n",
       "    </tr>\n",
       "  </thead>\n",
       "  <tbody>\n",
       "    <tr>\n",
       "      <th>6</th>\n",
       "      <td>2.5</td>\n",
       "      <td>4.345300</td>\n",
       "      <td>0</td>\n",
       "    </tr>\n",
       "    <tr>\n",
       "      <th>7</th>\n",
       "      <td>1.0</td>\n",
       "      <td>0.000000</td>\n",
       "      <td>0</td>\n",
       "    </tr>\n",
       "    <tr>\n",
       "      <th>8</th>\n",
       "      <td>1.0</td>\n",
       "      <td>0.000000</td>\n",
       "      <td>0</td>\n",
       "    </tr>\n",
       "    <tr>\n",
       "      <th>9</th>\n",
       "      <td>1.0</td>\n",
       "      <td>0.000000</td>\n",
       "      <td>0</td>\n",
       "    </tr>\n",
       "    <tr>\n",
       "      <th>10</th>\n",
       "      <td>1.0</td>\n",
       "      <td>0.000000</td>\n",
       "      <td>0</td>\n",
       "    </tr>\n",
       "    <tr>\n",
       "      <th>11</th>\n",
       "      <td>1.5</td>\n",
       "      <td>1.584900</td>\n",
       "      <td>1</td>\n",
       "    </tr>\n",
       "    <tr>\n",
       "      <th>12</th>\n",
       "      <td>1.5</td>\n",
       "      <td>1.190025</td>\n",
       "      <td>0</td>\n",
       "    </tr>\n",
       "    <tr>\n",
       "      <th>13</th>\n",
       "      <td>1.0</td>\n",
       "      <td>1.000000</td>\n",
       "      <td>0</td>\n",
       "    </tr>\n",
       "    <tr>\n",
       "      <th>14</th>\n",
       "      <td>2.0</td>\n",
       "      <td>3.055521</td>\n",
       "      <td>1</td>\n",
       "    </tr>\n",
       "    <tr>\n",
       "      <th>15</th>\n",
       "      <td>1.0</td>\n",
       "      <td>1.083367</td>\n",
       "      <td>0</td>\n",
       "    </tr>\n",
       "  </tbody>\n",
       "</table>\n",
       "</div>"
      ],
      "text/plain": [
       "    avg_rating  average_business_value  current_value\n",
       "6          2.5                4.345300              0\n",
       "7          1.0                0.000000              0\n",
       "8          1.0                0.000000              0\n",
       "9          1.0                0.000000              0\n",
       "10         1.0                0.000000              0\n",
       "11         1.5                1.584900              1\n",
       "12         1.5                1.190025              0\n",
       "13         1.0                1.000000              0\n",
       "14         2.0                3.055521              1\n",
       "15         1.0                1.083367              0"
      ]
     },
     "execution_count": 165,
     "metadata": {},
     "output_type": "execute_result"
    }
   ],
   "source": [
    "tr_rows = df_dummy.iloc[6:16, [2,4,5]]\n",
    "tr_rows"
   ]
  },
  {
   "cell_type": "code",
   "execution_count": 166,
   "metadata": {
    "ExecuteTime": {
     "end_time": "2022-02-25T10:41:07.104651Z",
     "start_time": "2022-02-25T10:41:07.085660Z"
    },
    "hidden": true
   },
   "outputs": [
    {
     "ename": "NameError",
     "evalue": "name 'h_0' is not defined",
     "output_type": "error",
     "traceback": [
      "\u001b[0;31m---------------------------------------------------------------------------\u001b[0m",
      "\u001b[0;31mNameError\u001b[0m                                 Traceback (most recent call last)",
      "\u001b[0;32m<ipython-input-166-9afaedc25654>\u001b[0m in \u001b[0;36m<module>\u001b[0;34m\u001b[0m\n\u001b[0;32m----> 1\u001b[0;31m \u001b[0mh\u001b[0m \u001b[0;34m=\u001b[0m \u001b[0mh_0\u001b[0m \u001b[0;34m*\u001b[0m \u001b[0mexp\u001b[0m\u001b[0;34m(\u001b[0m \u001b[0msum\u001b[0m\u001b[0;34m(\u001b[0m\u001b[0mb_i\u001b[0m \u001b[0;34m*\u001b[0m \u001b[0mx_i\u001b[0m\u001b[0;34m)\u001b[0m\u001b[0;34m)\u001b[0m\u001b[0;34m\u001b[0m\u001b[0;34m\u001b[0m\u001b[0m\n\u001b[0m",
      "\u001b[0;31mNameError\u001b[0m: name 'h_0' is not defined"
     ]
    }
   ],
   "source": [
    "h = h_0 * exp( sum(b_i * x_i))"
   ]
  },
  {
   "cell_type": "code",
   "execution_count": 167,
   "metadata": {
    "ExecuteTime": {
     "end_time": "2022-02-25T10:41:10.898778Z",
     "start_time": "2022-02-25T10:41:08.657386Z"
    },
    "hidden": true,
    "scrolled": false
   },
   "outputs": [
    {
     "name": "stderr",
     "output_type": "stream",
     "text": [
      "/home/mahendra/.local/lib/python3.8/site-packages/sklearn/base.py:443: UserWarning: X has feature names, but CoxPHSurvivalAnalysis was fitted without feature names\n",
      "  warnings.warn(\n"
     ]
    },
    {
     "data": {
      "text/plain": [
       "<matplotlib.legend.Legend at 0x7f64faaf92e0>"
      ]
     },
     "execution_count": 167,
     "metadata": {},
     "output_type": "execute_result"
    },
    {
     "data": {
      "image/png": "[encoded data removed]",
      "text/plain": [
       "<Figure size 864x432 with 1 Axes>"
      ]
     },
     "metadata": {
      "needs_background": "light"
     },
     "output_type": "display_data"
    }
   ],
   "source": [
    "import numpy as np\n",
    "\n",
    "pred_surv = final_estimator.predict_survival_function(tr_rows)\n",
    "time_points = np.arange(1, 24)\n",
    "\n",
    "for i, surv_func in enumerate(pred_surv):\n",
    "    plt.step(time_points, surv_func(time_points), where=\"post\",\n",
    "             label=\"Sample %d\" % (i + 1))\n",
    "plt.ylabel(\"est. probability of survival $\\hat{S}(t)$\")\n",
    "plt.xlabel(\"time $t$\")\n",
    "plt.legend(loc=\"best\")"
   ]
  },
  {
   "cell_type": "code",
   "execution_count": null,
   "metadata": {
    "hidden": true
   },
   "outputs": [],
   "source": []
  },
  {
   "cell_type": "code",
   "execution_count": null,
   "metadata": {
    "hidden": true
   },
   "outputs": [],
   "source": []
  },
  {
   "cell_type": "code",
   "execution_count": null,
   "metadata": {
    "hidden": true
   },
   "outputs": [],
   "source": []
  },
  {
   "cell_type": "code",
   "execution_count": null,
   "metadata": {
    "hidden": true
   },
   "outputs": [],
   "source": []
  },
  {
   "cell_type": "code",
   "execution_count": null,
   "metadata": {
    "hidden": true
   },
   "outputs": [],
   "source": []
  },
  {
   "cell_type": "code",
   "execution_count": 341,
   "metadata": {
    "ExecuteTime": {
     "end_time": "2022-02-25T04:41:45.229452Z",
     "start_time": "2022-02-25T04:41:45.066821Z"
    },
    "hidden": true
   },
   "outputs": [
    {
     "data": {
      "text/plain": [
       "CoxPHSurvivalAnalysis()"
      ]
     },
     "execution_count": 341,
     "metadata": {},
     "output_type": "execute_result"
    }
   ],
   "source": [
    "from sksurv.linear_model import CoxPHSurvivalAnalysis\n",
    "\n",
    "estimator = CoxPHSurvivalAnalysis()\n",
    "estimator.fit(data_x, data_y)"
   ]
  },
  {
   "cell_type": "code",
   "execution_count": 342,
   "metadata": {
    "ExecuteTime": {
     "end_time": "2022-02-25T04:42:29.967806Z",
     "start_time": "2022-02-25T04:42:29.963162Z"
    },
    "hidden": true
   },
   "outputs": [
    {
     "data": {
      "text/plain": [
       "array([-0.9740447 , -0.00777166, -0.10402114, -1.21961928,  0.02663782,\n",
       "        0.04764681,  0.12561226, -0.02518125, -0.21606102])"
      ]
     },
     "execution_count": 342,
     "metadata": {},
     "output_type": "execute_result"
    }
   ],
   "source": [
    "estimator.coef_"
   ]
  },
  {
   "cell_type": "code",
   "execution_count": 168,
   "metadata": {
    "ExecuteTime": {
     "end_time": "2022-02-25T10:44:53.981318Z",
     "start_time": "2022-02-25T10:44:53.066086Z"
    },
    "hidden": true
   },
   "outputs": [
    {
     "data": {
      "text/plain": [
       "<lifelines.CoxPHFitter: fitted with 1409 total observations, 542 right-censored observations>"
      ]
     },
     "execution_count": 168,
     "metadata": {},
     "output_type": "execute_result"
    }
   ],
   "source": [
    "cph"
   ]
  },
  {
   "cell_type": "code",
   "execution_count": null,
   "metadata": {
    "hidden": true
   },
   "outputs": [],
   "source": [
    "from sksurv.metrics import concordance_index_censored\n",
    "\n",
    "prediction = estimator.predict(data_x)\n",
    "# result = concordance_index_censored(data_y[\"Status\"], data_y[\"Survival_in_months\"], prediction)\n",
    "# result[0]"
   ]
  },
  {
   "cell_type": "code",
   "execution_count": null,
   "metadata": {
    "hidden": true
   },
   "outputs": [],
   "source": [
    "from sksurv.linear_model import CoxPHSurvivalAnalysis\n",
    "\n",
    "estimator = CoxPHSurvivalAnalysis()\n",
    "estimator.fit(df_dummy.iloc[:,2:], data_y)"
   ]
  },
  {
   "cell_type": "code",
   "execution_count": 344,
   "metadata": {
    "ExecuteTime": {
     "end_time": "2022-02-25T04:42:45.537311Z",
     "start_time": "2022-02-25T04:42:45.531926Z"
    },
    "hidden": true
   },
   "outputs": [
    {
     "data": {
      "text/plain": [
       "avg_rating                -0.974045\n",
       "avg_salary                -0.007772\n",
       "average_business_value    -0.104021\n",
       "current_value             -1.219619\n",
       "gender_Male                0.026638\n",
       "education_level_College    0.047647\n",
       "education_level_Master     0.125612\n",
       "joining_designation_2     -0.025181\n",
       "joining_designation_3     -0.216061\n",
       "dtype: float64"
      ]
     },
     "execution_count": 344,
     "metadata": {},
     "output_type": "execute_result"
    }
   ],
   "source": [
    "pd.Series(estimator.coef_, index=data_x.columns)"
   ]
  },
  {
   "cell_type": "code",
   "execution_count": null,
   "metadata": {
    "hidden": true
   },
   "outputs": [],
   "source": []
  },
  {
   "cell_type": "markdown",
   "metadata": {},
   "source": [
    "# Time variant Model ( Cox proportional hazard )"
   ]
  },
  {
   "cell_type": "markdown",
   "metadata": {
    "heading_collapsed": true
   },
   "source": [
    "#please prepare the data accordingly as required and shown in the ipynd named \"practice\"\n",
    "\n",
    "#Refer to the link provided in wp. [Here it is](https://lifelines.readthedocs.io/en/latest/Time%20varying%20survival%20regression.html)"
   ]
  },
  {
   "cell_type": "code",
   "execution_count": 2,
   "metadata": {
    "hidden": true
   },
   "outputs": [
    {
     "name": "stdout",
     "output_type": "stream",
     "text": [
      "Populating the interactive namespace from numpy and matplotlib\n"
     ]
    }
   ],
   "source": [
    "import pandas as pd\n",
    "import numpy as np\n",
    "import matplotlib.pyplot as plt\n",
    "import seaborn as sb\n",
    "\n",
    "from lifelines.plotting import plot_lifetimes      # Lifeline package for the Survival Analysis\n",
    "from lifelines.utils import to_long_format\n",
    "\n",
    "from lifelines import KaplanMeierFitter\n",
    "from lifelines import CoxPHFitter \n",
    "from lifelines.utils import add_covariate_to_timeline\n",
    "from lifelines.utils import covariates_from_event_matrix\n",
    "\n",
    "\n",
    "%pylab inline\n",
    "figsize(12,6)"
   ]
  },
  {
   "cell_type": "code",
   "execution_count": 3,
   "metadata": {
    "hidden": true
   },
   "outputs": [
    {
     "data": {
      "text/html": [
       "<div>\n",
       "<style scoped>\n",
       "    .dataframe tbody tr th:only-of-type {\n",
       "        vertical-align: middle;\n",
       "    }\n",
       "\n",
       "    .dataframe tbody tr th {\n",
       "        vertical-align: top;\n",
       "    }\n",
       "\n",
       "    .dataframe thead th {\n",
       "        text-align: right;\n",
       "    }\n",
       "</style>\n",
       "<table border=\"1\" class=\"dataframe\">\n",
       "  <thead>\n",
       "    <tr style=\"text-align: right;\">\n",
       "      <th></th>\n",
       "      <th>id</th>\n",
       "      <th>emp_id</th>\n",
       "      <th>age</th>\n",
       "      <th>gender</th>\n",
       "      <th>city</th>\n",
       "      <th>education_level</th>\n",
       "      <th>salary</th>\n",
       "      <th>dateofjoining</th>\n",
       "      <th>lastworking_date</th>\n",
       "      <th>survival_days</th>\n",
       "      <th>issurvived</th>\n",
       "      <th>joining_designation</th>\n",
       "      <th>designation</th>\n",
       "      <th>average_business_value</th>\n",
       "      <th>total_business_val</th>\n",
       "      <th>total_quarter_rating</th>\n",
       "    </tr>\n",
       "  </thead>\n",
       "  <tbody>\n",
       "    <tr>\n",
       "      <th>0</th>\n",
       "      <td>0</td>\n",
       "      <td>1</td>\n",
       "      <td>28</td>\n",
       "      <td>Male</td>\n",
       "      <td>C23</td>\n",
       "      <td>Master</td>\n",
       "      <td>[57387, 57387, 57387]</td>\n",
       "      <td>2015-12-24</td>\n",
       "      <td>2016-03-11</td>\n",
       "      <td>78</td>\n",
       "      <td>0</td>\n",
       "      <td>1</td>\n",
       "      <td>[1, 1, 1]</td>\n",
       "      <td>1715580</td>\n",
       "      <td>[2381060, -665480, 0]</td>\n",
       "      <td>[2, 2, 2]</td>\n",
       "    </tr>\n",
       "    <tr>\n",
       "      <th>1</th>\n",
       "      <td>1</td>\n",
       "      <td>2</td>\n",
       "      <td>31</td>\n",
       "      <td>Male</td>\n",
       "      <td>C7</td>\n",
       "      <td>Master</td>\n",
       "      <td>[67016, 67016]</td>\n",
       "      <td>2017-11-06</td>\n",
       "      <td>NaN</td>\n",
       "      <td>56</td>\n",
       "      <td>1</td>\n",
       "      <td>2</td>\n",
       "      <td>[2, 2]</td>\n",
       "      <td>0</td>\n",
       "      <td>[0, 0]</td>\n",
       "      <td>[1, 1]</td>\n",
       "    </tr>\n",
       "  </tbody>\n",
       "</table>\n",
       "</div>"
      ],
      "text/plain": [
       "   id  emp_id  age gender city education_level                 salary  \\\n",
       "0   0       1   28   Male  C23          Master  [57387, 57387, 57387]   \n",
       "1   1       2   31   Male   C7          Master         [67016, 67016]   \n",
       "\n",
       "  dateofjoining lastworking_date  survival_days  issurvived  \\\n",
       "0    2015-12-24       2016-03-11             78           0   \n",
       "1    2017-11-06              NaN             56           1   \n",
       "\n",
       "   joining_designation designation  average_business_value  \\\n",
       "0                    1   [1, 1, 1]                 1715580   \n",
       "1                    2      [2, 2]                       0   \n",
       "\n",
       "      total_business_val total_quarter_rating  \n",
       "0  [2381060, -665480, 0]            [2, 2, 2]  \n",
       "1                 [0, 0]               [1, 1]  "
      ]
     },
     "execution_count": 3,
     "metadata": {},
     "output_type": "execute_result"
    }
   ],
   "source": [
    "##  create a dataframe\n",
    "df = pd.read_csv(\"./cleaned_csv1.csv\") \n",
    "## Have a first look at the data\n",
    "df.head(2)"
   ]
  },
  {
   "cell_type": "code",
   "execution_count": 10,
   "metadata": {
    "hidden": true
   },
   "outputs": [
    {
     "data": {
      "text/plain": [
       "['id',\n",
       " 'emp_id',\n",
       " 'age',\n",
       " 'gender',\n",
       " 'city',\n",
       " 'education_level',\n",
       " 'salary',\n",
       " 'dateofjoining',\n",
       " 'lastworking_date',\n",
       " 'survival_days',\n",
       " 'issurvived',\n",
       " 'joining_designation',\n",
       " 'designation',\n",
       " 'average_business_value',\n",
       " 'total_business_val',\n",
       " 'total_quarter_rating']"
      ]
     },
     "execution_count": 10,
     "metadata": {},
     "output_type": "execute_result"
    }
   ],
   "source": [
    "[i for i in df.columns]"
   ]
  },
  {
   "cell_type": "code",
   "execution_count": 11,
   "metadata": {
    "hidden": true
   },
   "outputs": [
    {
     "data": {
      "text/html": [
       "<div>\n",
       "<style scoped>\n",
       "    .dataframe tbody tr th:only-of-type {\n",
       "        vertical-align: middle;\n",
       "    }\n",
       "\n",
       "    .dataframe tbody tr th {\n",
       "        vertical-align: top;\n",
       "    }\n",
       "\n",
       "    .dataframe thead th {\n",
       "        text-align: right;\n",
       "    }\n",
       "</style>\n",
       "<table border=\"1\" class=\"dataframe\">\n",
       "  <thead>\n",
       "    <tr style=\"text-align: right;\">\n",
       "      <th></th>\n",
       "      <th>id</th>\n",
       "      <th>emp_id</th>\n",
       "      <th>age</th>\n",
       "      <th>gender</th>\n",
       "      <th>city</th>\n",
       "      <th>education_level</th>\n",
       "      <th>salary</th>\n",
       "      <th>dateofjoining</th>\n",
       "      <th>lastworking_date</th>\n",
       "      <th>survival_days</th>\n",
       "      <th>issurvived</th>\n",
       "      <th>joining_designation</th>\n",
       "      <th>designation</th>\n",
       "      <th>average_business_value</th>\n",
       "      <th>total_business_val</th>\n",
       "      <th>total_quarter_rating</th>\n",
       "    </tr>\n",
       "  </thead>\n",
       "  <tbody>\n",
       "    <tr>\n",
       "      <th>count</th>\n",
       "      <td>2381.000000</td>\n",
       "      <td>2381.000000</td>\n",
       "      <td>2381.000000</td>\n",
       "      <td>2381</td>\n",
       "      <td>2381</td>\n",
       "      <td>2381</td>\n",
       "      <td>2381</td>\n",
       "      <td>2381</td>\n",
       "      <td>1616</td>\n",
       "      <td>2381.000000</td>\n",
       "      <td>2381.000000</td>\n",
       "      <td>2381.000000</td>\n",
       "      <td>2381</td>\n",
       "      <td>2.381000e+03</td>\n",
       "      <td>2381</td>\n",
       "      <td>2381</td>\n",
       "    </tr>\n",
       "    <tr>\n",
       "      <th>unique</th>\n",
       "      <td>NaN</td>\n",
       "      <td>NaN</td>\n",
       "      <td>NaN</td>\n",
       "      <td>2</td>\n",
       "      <td>29</td>\n",
       "      <td>3</td>\n",
       "      <td>2377</td>\n",
       "      <td>869</td>\n",
       "      <td>493</td>\n",
       "      <td>NaN</td>\n",
       "      <td>NaN</td>\n",
       "      <td>NaN</td>\n",
       "      <td>89</td>\n",
       "      <td>NaN</td>\n",
       "      <td>1676</td>\n",
       "      <td>747</td>\n",
       "    </tr>\n",
       "    <tr>\n",
       "      <th>top</th>\n",
       "      <td>NaN</td>\n",
       "      <td>NaN</td>\n",
       "      <td>NaN</td>\n",
       "      <td>Male</td>\n",
       "      <td>C20</td>\n",
       "      <td>Master</td>\n",
       "      <td>[52963, 52963]</td>\n",
       "      <td>2017-07-31</td>\n",
       "      <td>2017-07-29</td>\n",
       "      <td>NaN</td>\n",
       "      <td>NaN</td>\n",
       "      <td>NaN</td>\n",
       "      <td>[1, 1, 1, 1, 1, 1, 1, 1, 1, 1, 1, 1, 1, 1, 1, ...</td>\n",
       "      <td>NaN</td>\n",
       "      <td>[0]</td>\n",
       "      <td>[1, 1, 1]</td>\n",
       "    </tr>\n",
       "    <tr>\n",
       "      <th>freq</th>\n",
       "      <td>NaN</td>\n",
       "      <td>NaN</td>\n",
       "      <td>NaN</td>\n",
       "      <td>1404</td>\n",
       "      <td>152</td>\n",
       "      <td>802</td>\n",
       "      <td>2</td>\n",
       "      <td>31</td>\n",
       "      <td>70</td>\n",
       "      <td>NaN</td>\n",
       "      <td>NaN</td>\n",
       "      <td>NaN</td>\n",
       "      <td>162</td>\n",
       "      <td>NaN</td>\n",
       "      <td>176</td>\n",
       "      <td>242</td>\n",
       "    </tr>\n",
       "    <tr>\n",
       "      <th>mean</th>\n",
       "      <td>1190.000000</td>\n",
       "      <td>1397.559009</td>\n",
       "      <td>33.663167</td>\n",
       "      <td>NaN</td>\n",
       "      <td>NaN</td>\n",
       "      <td>NaN</td>\n",
       "      <td>NaN</td>\n",
       "      <td>NaN</td>\n",
       "      <td>NaN</td>\n",
       "      <td>437.438471</td>\n",
       "      <td>0.321294</td>\n",
       "      <td>1.820244</td>\n",
       "      <td>NaN</td>\n",
       "      <td>4.586742e+06</td>\n",
       "      <td>NaN</td>\n",
       "      <td>NaN</td>\n",
       "    </tr>\n",
       "    <tr>\n",
       "      <th>std</th>\n",
       "      <td>687.479818</td>\n",
       "      <td>806.161628</td>\n",
       "      <td>5.983375</td>\n",
       "      <td>NaN</td>\n",
       "      <td>NaN</td>\n",
       "      <td>NaN</td>\n",
       "      <td>NaN</td>\n",
       "      <td>NaN</td>\n",
       "      <td>NaN</td>\n",
       "      <td>567.733892</td>\n",
       "      <td>0.467071</td>\n",
       "      <td>0.841433</td>\n",
       "      <td>NaN</td>\n",
       "      <td>9.127115e+06</td>\n",
       "      <td>NaN</td>\n",
       "      <td>NaN</td>\n",
       "    </tr>\n",
       "    <tr>\n",
       "      <th>min</th>\n",
       "      <td>0.000000</td>\n",
       "      <td>1.000000</td>\n",
       "      <td>21.000000</td>\n",
       "      <td>NaN</td>\n",
       "      <td>NaN</td>\n",
       "      <td>NaN</td>\n",
       "      <td>NaN</td>\n",
       "      <td>NaN</td>\n",
       "      <td>NaN</td>\n",
       "      <td>0.000000</td>\n",
       "      <td>0.000000</td>\n",
       "      <td>1.000000</td>\n",
       "      <td>NaN</td>\n",
       "      <td>-1.385530e+06</td>\n",
       "      <td>NaN</td>\n",
       "      <td>NaN</td>\n",
       "    </tr>\n",
       "    <tr>\n",
       "      <th>25%</th>\n",
       "      <td>595.000000</td>\n",
       "      <td>695.000000</td>\n",
       "      <td>29.000000</td>\n",
       "      <td>NaN</td>\n",
       "      <td>NaN</td>\n",
       "      <td>NaN</td>\n",
       "      <td>NaN</td>\n",
       "      <td>NaN</td>\n",
       "      <td>NaN</td>\n",
       "      <td>99.000000</td>\n",
       "      <td>0.000000</td>\n",
       "      <td>1.000000</td>\n",
       "      <td>NaN</td>\n",
       "      <td>0.000000e+00</td>\n",
       "      <td>NaN</td>\n",
       "      <td>NaN</td>\n",
       "    </tr>\n",
       "    <tr>\n",
       "      <th>50%</th>\n",
       "      <td>1190.000000</td>\n",
       "      <td>1400.000000</td>\n",
       "      <td>33.000000</td>\n",
       "      <td>NaN</td>\n",
       "      <td>NaN</td>\n",
       "      <td>NaN</td>\n",
       "      <td>NaN</td>\n",
       "      <td>NaN</td>\n",
       "      <td>NaN</td>\n",
       "      <td>192.000000</td>\n",
       "      <td>0.000000</td>\n",
       "      <td>2.000000</td>\n",
       "      <td>NaN</td>\n",
       "      <td>8.176800e+05</td>\n",
       "      <td>NaN</td>\n",
       "      <td>NaN</td>\n",
       "    </tr>\n",
       "    <tr>\n",
       "      <th>75%</th>\n",
       "      <td>1785.000000</td>\n",
       "      <td>2100.000000</td>\n",
       "      <td>37.000000</td>\n",
       "      <td>NaN</td>\n",
       "      <td>NaN</td>\n",
       "      <td>NaN</td>\n",
       "      <td>NaN</td>\n",
       "      <td>NaN</td>\n",
       "      <td>NaN</td>\n",
       "      <td>480.000000</td>\n",
       "      <td>1.000000</td>\n",
       "      <td>2.000000</td>\n",
       "      <td>NaN</td>\n",
       "      <td>4.173650e+06</td>\n",
       "      <td>NaN</td>\n",
       "      <td>NaN</td>\n",
       "    </tr>\n",
       "    <tr>\n",
       "      <th>max</th>\n",
       "      <td>2380.000000</td>\n",
       "      <td>2788.000000</td>\n",
       "      <td>58.000000</td>\n",
       "      <td>NaN</td>\n",
       "      <td>NaN</td>\n",
       "      <td>NaN</td>\n",
       "      <td>NaN</td>\n",
       "      <td>NaN</td>\n",
       "      <td>NaN</td>\n",
       "      <td>2832.000000</td>\n",
       "      <td>1.000000</td>\n",
       "      <td>5.000000</td>\n",
       "      <td>NaN</td>\n",
       "      <td>9.533106e+07</td>\n",
       "      <td>NaN</td>\n",
       "      <td>NaN</td>\n",
       "    </tr>\n",
       "  </tbody>\n",
       "</table>\n",
       "</div>"
      ],
      "text/plain": [
       "                 id       emp_id          age gender  city education_level  \\\n",
       "count   2381.000000  2381.000000  2381.000000   2381  2381            2381   \n",
       "unique          NaN          NaN          NaN      2    29               3   \n",
       "top             NaN          NaN          NaN   Male   C20          Master   \n",
       "freq            NaN          NaN          NaN   1404   152             802   \n",
       "mean    1190.000000  1397.559009    33.663167    NaN   NaN             NaN   \n",
       "std      687.479818   806.161628     5.983375    NaN   NaN             NaN   \n",
       "min        0.000000     1.000000    21.000000    NaN   NaN             NaN   \n",
       "25%      595.000000   695.000000    29.000000    NaN   NaN             NaN   \n",
       "50%     1190.000000  1400.000000    33.000000    NaN   NaN             NaN   \n",
       "75%     1785.000000  2100.000000    37.000000    NaN   NaN             NaN   \n",
       "max     2380.000000  2788.000000    58.000000    NaN   NaN             NaN   \n",
       "\n",
       "                salary dateofjoining lastworking_date  survival_days  \\\n",
       "count             2381          2381             1616    2381.000000   \n",
       "unique            2377           869              493            NaN   \n",
       "top     [52963, 52963]    2017-07-31       2017-07-29            NaN   \n",
       "freq                 2            31               70            NaN   \n",
       "mean               NaN           NaN              NaN     437.438471   \n",
       "std                NaN           NaN              NaN     567.733892   \n",
       "min                NaN           NaN              NaN       0.000000   \n",
       "25%                NaN           NaN              NaN      99.000000   \n",
       "50%                NaN           NaN              NaN     192.000000   \n",
       "75%                NaN           NaN              NaN     480.000000   \n",
       "max                NaN           NaN              NaN    2832.000000   \n",
       "\n",
       "         issurvived  joining_designation  \\\n",
       "count   2381.000000          2381.000000   \n",
       "unique          NaN                  NaN   \n",
       "top             NaN                  NaN   \n",
       "freq            NaN                  NaN   \n",
       "mean       0.321294             1.820244   \n",
       "std        0.467071             0.841433   \n",
       "min        0.000000             1.000000   \n",
       "25%        0.000000             1.000000   \n",
       "50%        0.000000             2.000000   \n",
       "75%        1.000000             2.000000   \n",
       "max        1.000000             5.000000   \n",
       "\n",
       "                                              designation  \\\n",
       "count                                                2381   \n",
       "unique                                                 89   \n",
       "top     [1, 1, 1, 1, 1, 1, 1, 1, 1, 1, 1, 1, 1, 1, 1, ...   \n",
       "freq                                                  162   \n",
       "mean                                                  NaN   \n",
       "std                                                   NaN   \n",
       "min                                                   NaN   \n",
       "25%                                                   NaN   \n",
       "50%                                                   NaN   \n",
       "75%                                                   NaN   \n",
       "max                                                   NaN   \n",
       "\n",
       "        average_business_value total_business_val total_quarter_rating  \n",
       "count             2.381000e+03               2381                 2381  \n",
       "unique                     NaN               1676                  747  \n",
       "top                        NaN                [0]            [1, 1, 1]  \n",
       "freq                       NaN                176                  242  \n",
       "mean              4.586742e+06                NaN                  NaN  \n",
       "std               9.127115e+06                NaN                  NaN  \n",
       "min              -1.385530e+06                NaN                  NaN  \n",
       "25%               0.000000e+00                NaN                  NaN  \n",
       "50%               8.176800e+05                NaN                  NaN  \n",
       "75%               4.173650e+06                NaN                  NaN  \n",
       "max               9.533106e+07                NaN                  NaN  "
      ]
     },
     "execution_count": 11,
     "metadata": {},
     "output_type": "execute_result"
    }
   ],
   "source": [
    "df.describe(include= ['object', 'float', 'int'])"
   ]
  },
  {
   "cell_type": "code",
   "execution_count": 5,
   "metadata": {
    "hidden": true
   },
   "outputs": [
    {
     "data": {
      "text/plain": [
       "str"
      ]
     },
     "execution_count": 5,
     "metadata": {},
     "output_type": "execute_result"
    }
   ],
   "source": [
    "type(df.salary[0])"
   ]
  },
  {
   "cell_type": "code",
   "execution_count": 12,
   "metadata": {
    "hidden": true
   },
   "outputs": [
    {
     "data": {
      "text/plain": [
       "count               2381\n",
       "unique              2377\n",
       "top       [52963, 52963]\n",
       "freq                   2\n",
       "Name: salary, dtype: object"
      ]
     },
     "execution_count": 12,
     "metadata": {},
     "output_type": "execute_result"
    }
   ],
   "source": [
    "df.salary.describe()"
   ]
  },
  {
   "cell_type": "code",
   "execution_count": 13,
   "metadata": {
    "hidden": true
   },
   "outputs": [
    {
     "data": {
      "text/plain": [
       "id                         int64\n",
       "emp_id                     int64\n",
       "age                        int64\n",
       "gender                    object\n",
       "city                      object\n",
       "education_level           object\n",
       "salary                    object\n",
       "dateofjoining             object\n",
       "lastworking_date          object\n",
       "survival_days              int64\n",
       "issurvived                 int64\n",
       "joining_designation        int64\n",
       "designation               object\n",
       "average_business_value     int64\n",
       "total_business_val        object\n",
       "total_quarter_rating      object\n",
       "dtype: object"
      ]
     },
     "execution_count": 13,
     "metadata": {},
     "output_type": "execute_result"
    }
   ],
   "source": [
    "df.dtypes"
   ]
  },
  {
   "cell_type": "code",
   "execution_count": null,
   "metadata": {
    "hidden": true
   },
   "outputs": [],
   "source": []
  },
  {
   "cell_type": "code",
   "execution_count": null,
   "metadata": {
    "hidden": true
   },
   "outputs": [],
   "source": []
  },
  {
   "cell_type": "code",
   "execution_count": null,
   "metadata": {
    "hidden": true
   },
   "outputs": [],
   "source": []
  },
  {
   "cell_type": "code",
   "execution_count": null,
   "metadata": {
    "hidden": true
   },
   "outputs": [],
   "source": []
  },
  {
   "cell_type": "markdown",
   "metadata": {
    "hidden": true
   },
   "source": []
  },
  {
   "cell_type": "markdown",
   "metadata": {
    "hidden": true
   },
   "source": [
    "https://github.com/anurag-code/Survival-Analysis-Intuition-Implementation-in-Python/blob/master/Survival%20Analysis%20-%20Quick%20Implementation.ipynb"
   ]
  }
 ],
 "metadata": {
  "hide_input": false,
  "kernelspec": {
   "display_name": "Python 3",
   "language": "python",
   "name": "python3"
  },
  "language_info": {
   "codemirror_mode": {
    "name": "ipython",
    "version": 3
   },
   "file_extension": ".py",
   "mimetype": "text/x-python",
   "name": "python",
   "nbconvert_exporter": "python",
   "pygments_lexer": "ipython3",
   "version": "3.8.10"
  }
 },
 "nbformat": 4,
 "nbformat_minor": 5
}
